{
 "cells": [
  {
   "cell_type": "code",
   "execution_count": 1,
   "id": "02ff810d-d1ae-459e-97fe-f6ff83ec01d6",
   "metadata": {},
   "outputs": [
    {
     "name": "stderr",
     "output_type": "stream",
     "text": [
      "libyaml is not installed in your environment. This can make OpenFisca slower to start. Once you have installed libyaml, run 'pip uninstall pyyaml && pip install pyyaml --no-cache-dir' so that it is used in your Python environment.\n",
      "\n"
     ]
    }
   ],
   "source": [
    "from openfisca_uk import Microsimulation\n",
    "from openfisca_uk import *\n",
    "from openfisca_core.model_api import Reform\n",
    "from openfisca_uk.entities import Person, BenUnit, Household\n",
    "from openfisca_core.model_api import *\n",
    "from openfisca_uk.tools.general import *\n",
    "\n",
    "import plotly.express as px\n",
    "import plotly.io as pio\n",
    "pio.renderers.default = \"browser\""
   ]
  },
  {
   "cell_type": "code",
   "execution_count": 21,
   "id": "c73ff61f-cedb-40f4-981a-b086edcb2192",
   "metadata": {},
   "outputs": [],
   "source": [
    "sim = Microsimulation(input_year=2020)"
   ]
  },
  {
   "cell_type": "markdown",
   "id": "b1af707e-eefd-4de4-bcc4-907d9c3a1d8b",
   "metadata": {},
   "source": [
    "New way of creating the reform"
   ]
  },
  {
   "cell_type": "code",
   "execution_count": 22,
   "id": "7cc0ff0b-318a-4c3c-b966-dcc91b706490",
   "metadata": {},
   "outputs": [],
   "source": [
    "from openfisca_core import periods\n",
    "def make_PA_reform(PA_amount):\n",
    "    \n",
    "    def update_PA_parameter(parameters):\n",
    "        parameters.tax.income_tax.allowances.personal_allowance.amount.update(period=periods.period(\"year:2020:1\"), value=PA_amount)\n",
    "        return parameters\n",
    "    \n",
    "    class reform(Reform):\n",
    "        def apply(self):\n",
    "            self.modify_parameters(update_PA_parameter)\n",
    "    \n",
    "    sim_less_PA = Microsimulation(reform, input_year=2020)\n",
    "    revenue = sim.calc(\"net_income\").sum()\n",
    "    revenue_diff = revenue - sim_less_PA.calc(\"net_income\").sum()\n",
    "    BI_amount = revenue_diff/(sim.calc(\"people\").sum())\n",
    "    \n",
    "    class BI(Variable):\n",
    "        value_type = float\n",
    "        entity = Person\n",
    "        label = u\"UBI\"\n",
    "        definition_period = YEAR\n",
    "        def formula(person, period, parameters):\n",
    "            return(BI_amount)\n",
    "\n",
    "    class gross_income(Variable):\n",
    "        value_type = float\n",
    "        entity = Person\n",
    "        label = u\"Gross income, including benefits\"\n",
    "        definition_period = YEAR\n",
    "\n",
    "        def formula(person, period, parameters):\n",
    "            COMPONENTS = [\n",
    "                \"employment_income\",\n",
    "                \"pension_income\",\n",
    "                \"self_employment_income\",\n",
    "                \"property_income\",\n",
    "                \"savings_interest_income\",\n",
    "                \"dividend_income\",\n",
    "                \"miscellaneous_income\",\n",
    "                \"benefits\",\n",
    "                \"BI\"\n",
    "            ]\n",
    "            return add(person, period, COMPONENTS)   \n",
    "\n",
    "    class basic_income(Reform):\n",
    "        def apply(self):\n",
    "            self.add_variable(BI)\n",
    "            self.update_variable(gross_income)\n",
    "            \n",
    "    sim_BI = Microsimulation(reform, basic_income, input_year=2020)\n",
    "    \n",
    "    return sim_BI"
   ]
  },
  {
   "cell_type": "markdown",
   "id": "fc147f22-f05d-433f-9bfd-1e4c9deef11d",
   "metadata": {},
   "source": [
    "Effect on poverty at different levels of personal allowance reduction"
   ]
  },
  {
   "cell_type": "code",
   "execution_count": 44,
   "id": "eb1e2257-69d9-40dd-856b-90696c40d3f1",
   "metadata": {},
   "outputs": [],
   "source": [
    "def find_poverty_diff(sim_BI):\n",
    "    poverty_difference = sim.calc(\"in_poverty_bhc\", map_to=\"person\").sum() - sim_BI.calc(\"in_poverty_bhc\", map_to=\"person\").sum()\n",
    "    percentage_difference = (poverty_difference/sim.calc(\"in_poverty_bhc\", map_to=\"person\").sum()) * 100\n",
    "    return percentage_difference"
   ]
  },
  {
   "cell_type": "code",
   "execution_count": 45,
   "id": "93a151df-7497-4785-876e-ebf1dffee727",
   "metadata": {},
   "outputs": [
    {
     "data": {
      "text/plain": [
       "[0.0,\n",
       " 2.797222727198906,\n",
       " 4.83694550285811,\n",
       " 7.430855012549907,\n",
       " 9.870278329759495,\n",
       " 12.203120424103577,\n",
       " 14.608783939890369,\n",
       " 17.01934063608202,\n",
       " 18.675456928224797,\n",
       " 20.79582811839401,\n",
       " 23.370039171637995,\n",
       " 25.66720400842633,\n",
       " 27.99604354406665,\n",
       " 29.387016516841395]"
      ]
     },
     "execution_count": 45,
     "metadata": {},
     "output_type": "execute_result"
    }
   ],
   "source": [
    "PA_amounts = [12500, 11500, 10500, 9500, 8500, 7500, 6500, 5500, 4500, 3500, 2500, 1500, 500, 0]\n",
    "pov_diffs = [find_poverty_diff(make_PA_reform(i)) for i in (PA_amounts)]\n",
    "pov_diffs"
   ]
  },
  {
   "cell_type": "code",
   "execution_count": 46,
   "id": "dd258f46-d1d4-444b-8fa2-9b7fea163495",
   "metadata": {},
   "outputs": [],
   "source": [
    "graph = px.line(x=PA_amounts, y=pov_diffs)\n",
    "graph.update_layout(\n",
    "    title_text='Effect of UBI on poverty at different levels of personal allowance reduction',\n",
    "    xaxis_title =\"Amount of personal allowance\",\n",
    "    yaxis_title =\"Percentage change in poverty\",\n",
    ")"
   ]
  },
  {
   "cell_type": "markdown",
   "id": "839c1ca4-729e-4360-b601-2755bc54320b",
   "metadata": {},
   "source": [
    "Original way of creating reform (just deletes personal allowance)"
   ]
  },
  {
   "cell_type": "code",
   "execution_count": null,
   "id": "a0671da4-493b-4d0e-9bfc-2e01187e0990",
   "metadata": {},
   "outputs": [],
   "source": [
    "class PA_reform(Reform):\n",
    "    def apply(self):\n",
    "        self.neutralize_variable(\"personal_allowance\")\n",
    "        \n",
    "sim_no_PA = Microsimulation(PA_reform)"
   ]
  },
  {
   "cell_type": "code",
   "execution_count": null,
   "id": "9d789618-e149-48fa-af18-2c1c0e249280",
   "metadata": {},
   "outputs": [],
   "source": [
    "revenue = sim.calc(\"net_income\").sum()\n",
    "revenue_diff = revenue - sim_no_PA.calc(\"net_income\").sum()\n",
    "revenue_diff"
   ]
  },
  {
   "cell_type": "code",
   "execution_count": null,
   "id": "83270342-c9ae-4442-a118-8d578aa43fdf",
   "metadata": {},
   "outputs": [],
   "source": [
    "BI_amount = revenue_diff/(sim.calc(\"people\").sum())\n",
    "BI_amount"
   ]
  },
  {
   "cell_type": "code",
   "execution_count": null,
   "id": "e8260a96-9ee2-4cf4-9664-d00fde622f62",
   "metadata": {},
   "outputs": [],
   "source": [
    "from openfisca_core.model_api import *\n",
    "from openfisca_uk.tools.general import *\n",
    "\n",
    "class BI(Variable):\n",
    "    value_type = float\n",
    "    entity = Person\n",
    "    label = u\"UBI\"\n",
    "    definition_period = YEAR\n",
    "    def formula(person, period, parameters):\n",
    "        return(BI_amount)\n",
    "\n",
    "class gross_income(Variable):\n",
    "    value_type = float\n",
    "    entity = Person\n",
    "    label = u\"Gross income, including benefits\"\n",
    "    definition_period = YEAR\n",
    "\n",
    "    def formula(person, period, parameters):\n",
    "        COMPONENTS = [\n",
    "            \"employment_income\",\n",
    "            \"pension_income\",\n",
    "            \"self_employment_income\",\n",
    "            \"property_income\",\n",
    "            \"savings_interest_income\",\n",
    "            \"dividend_income\",\n",
    "            \"miscellaneous_income\",\n",
    "            \"benefits\",\n",
    "            \"BI\"\n",
    "        ]\n",
    "        return add(person, period, COMPONENTS)   \n",
    "\n",
    "class basic_income(Reform):\n",
    "    def apply(self):\n",
    "        self.add_variable(BI)\n",
    "        self.update_variable(gross_income)\n",
    "        \n",
    "sim_BI = Microsimulation(PA_reform, basic_income)"
   ]
  },
  {
   "cell_type": "markdown",
   "id": "d4453f32-65c5-41bf-8bd5-b378ec7f2551",
   "metadata": {},
   "source": [
    "Overall effect on income & taxes"
   ]
  },
  {
   "cell_type": "code",
   "execution_count": 34,
   "id": "734d09ca-8336-4273-96bb-9cab4e850b6b",
   "metadata": {},
   "outputs": [],
   "source": [
    "sim_BI = make_PA_reform(0)"
   ]
  },
  {
   "cell_type": "code",
   "execution_count": 35,
   "id": "88c81705-6f84-4b63-88e3-e87908e07ab9",
   "metadata": {},
   "outputs": [
    {
     "data": {
      "text/plain": [
       "0.000437941311247414"
      ]
     },
     "execution_count": 35,
     "metadata": {},
     "output_type": "execute_result"
    }
   ],
   "source": [
    "sim_BI.calc(\"net_income\").mean() - sim.calc(\"net_income\").mean()"
   ]
  },
  {
   "cell_type": "code",
   "execution_count": 36,
   "id": "8df4cb7f-5daa-4f21-891f-13a9f16ec307",
   "metadata": {},
   "outputs": [
    {
     "data": {
      "text/plain": [
       "1953.9362188333616"
      ]
     },
     "execution_count": 36,
     "metadata": {},
     "output_type": "execute_result"
    }
   ],
   "source": [
    "#Difference in median income tax\n",
    "sim_BI.calc(\"income_tax\").median() - sim.calc(\"income_tax\").median()"
   ]
  },
  {
   "cell_type": "code",
   "execution_count": 37,
   "id": "43720143-3846-43c6-b0c9-c808332a13ce",
   "metadata": {},
   "outputs": [
    {
     "data": {
      "text/plain": [
       "564.157975690181"
      ]
     },
     "execution_count": 37,
     "metadata": {},
     "output_type": "execute_result"
    }
   ],
   "source": [
    "#Increase in median household net income\n",
    "sim_BI.calc(\"household_net_income\").median() - sim.calc(\"household_net_income\").median()"
   ]
  },
  {
   "cell_type": "markdown",
   "id": "c74dad9a-c2b5-49dc-bbb4-8df48fa0b4c1",
   "metadata": {},
   "source": [
    "Effect on each income group"
   ]
  },
  {
   "cell_type": "code",
   "execution_count": 38,
   "id": "869eb2e0-c6d8-4ba8-842b-0298b6a4c9fb",
   "metadata": {},
   "outputs": [],
   "source": [
    "income_diff = sim_BI.calc(\"household_net_income\", map_to=\"household\") - sim.calc(\"household_net_income\", map_to=\"household\")"
   ]
  },
  {
   "cell_type": "code",
   "execution_count": 39,
   "id": "bed6c8cb-07b3-4e46-83b4-95fdc94e7210",
   "metadata": {},
   "outputs": [],
   "source": [
    "income = sim.calc(\"household_net_income\", map_to=\"household\")"
   ]
  },
  {
   "cell_type": "code",
   "execution_count": 40,
   "id": "e1e73064-817f-4df2-8dd3-f0b7196864d9",
   "metadata": {
    "tags": []
   },
   "outputs": [],
   "source": [
    "#Median difference in household net income for each income decile\n",
    "chart = px.bar(income_diff.groupby(income.decile_rank()).median())\n",
    "chart.update_layout(\n",
    "    title_text='Median difference in household net income for each income decile',\n",
    "    xaxis_title =\"Income decile\",\n",
    "    yaxis_title =\"Change in income\",\n",
    ")"
   ]
  },
  {
   "cell_type": "markdown",
   "id": "0ef8827d-8ac7-46d0-85ba-197abf632af8",
   "metadata": {},
   "source": [
    "Effect on poverty"
   ]
  },
  {
   "cell_type": "code",
   "execution_count": null,
   "id": "7ff6a0ef-b7db-4c83-9297-a3e86ce0ca33",
   "metadata": {
    "tags": []
   },
   "outputs": [],
   "source": [
    "#Median difference in household net income for those in deep poverty vs those not in deep poverty\n",
    "isDeepPoor = sim.calc(\"in_deep_poverty_bhc\", map_to =\"household\")\n",
    "x = income_diff.groupby(isDeepPoor).median()\n",
    "x.index = x.index.map({False: \"Not in deep poverty\", True: \"In deep poverty\"})\n",
    "chart2 = px.bar(x)\n",
    "chart2.update_layout(\n",
    "    title_text='Median difference in household net income for those in deep poverty vs those not in deep poverty',\n",
    "    yaxis_title=\"Change in income\",\n",
    "    xaxis_title=\"Deep poverty status\"\n",
    ")"
   ]
  },
  {
   "cell_type": "code",
   "execution_count": null,
   "id": "4efe5169-e8b9-4600-990c-de67b079514a",
   "metadata": {},
   "outputs": [],
   "source": [
    "#Median difference in household net income for those in poverty vs those not in poverty\n",
    "isPoor = sim.calc(\"in_poverty_bhc\", map_to = \"household\")\n",
    "x2 = income_diff.groupby(isPoor).median()\n",
    "x2.index = x2.index.map({False: \"Not in poverty\", True: \"In poverty\"})\n",
    "chart3=px.bar(x2)\n",
    "chart3.update_layout(\n",
    "    title_text='Median difference in household net income for those in poverty vs those not in poverty',\n",
    "    yaxis_title=\"Change in income\",\n",
    "    xaxis_title=\"Poverty Status\"\n",
    ")"
   ]
  },
  {
   "cell_type": "code",
   "execution_count": null,
   "id": "8e6d69f0-d11e-45f1-9d9e-c3b3ecc6c473",
   "metadata": {
    "tags": []
   },
   "outputs": [],
   "source": [
    "#Percentage of poverty reduction\n",
    "poverty_difference = sim_BI.calc(\"in_poverty_bhc\", map_to=\"person\").sum() - sim.calc(\"in_poverty_bhc\", map_to=\"person\").sum()\n",
    "(poverty_difference/sim.calc(\"in_poverty_bhc\", map_to=\"person\").sum()) * 100"
   ]
  },
  {
   "cell_type": "code",
   "execution_count": null,
   "id": "91e6ae2e-19df-4beb-b55d-5dd2aaf50c63",
   "metadata": {},
   "outputs": [],
   "source": [
    "#Percentage of deep poverty redution \n",
    "deep_poverty_difference = sim_BI.calc(\"in_deep_poverty_bhc\", map_to=\"person\").sum() - sim.calc(\"in_deep_poverty_bhc\", map_to=\"person\").sum()\n",
    "(deep_poverty_difference/sim.calc(\"in_deep_poverty_bhc\", map_to=\"person\").sum()) * 100"
   ]
  },
  {
   "cell_type": "markdown",
   "id": "52d9ac31-d0ec-4267-9f59-2086bd0f86e3",
   "metadata": {},
   "source": [
    "Effect on child poverty"
   ]
  },
  {
   "cell_type": "code",
   "execution_count": null,
   "id": "ab8dcfc7-320e-4d34-99f8-2e5c0ba1c953",
   "metadata": {},
   "outputs": [],
   "source": [
    "#Percentage of child poverty reduction\n",
    "poor_kids_before = sim.calc(\"in_poverty_bhc\", map_to=\"person\")[sim.calc(\"is_child\")].sum()\n",
    "poor_kids_after = sim_BI.calc(\"in_poverty_bhc\", map_to=\"person\")[sim_BI.calc(\"is_child\")].sum()\n",
    "((poor_kids_before - poor_kids_after)/poor_kids_before) * 100"
   ]
  },
  {
   "cell_type": "code",
   "execution_count": 48,
   "id": "055572cb-8af7-4ef6-b651-9e5e24d210d8",
   "metadata": {},
   "outputs": [],
   "source": [
    "person_income_diff = sim_BI.calc(\"net_income\", map_to=\"person\") - sim.calc(\"net_income\", map_to=\"person\")"
   ]
  },
  {
   "cell_type": "code",
   "execution_count": null,
   "id": "812f17ef-72eb-49fa-b011-1705165fe377",
   "metadata": {},
   "outputs": [],
   "source": [
    "#Mean difference in income by age\n",
    "age = sim.calc(\"age\", map_to =\"person\")\n",
    "chart4 = px.bar(person_income_diff.groupby(age).mean())\n",
    "chart4.update_layout(\n",
    "    title_text='Mean difference in income by age',\n",
    "    yaxis_title=\"Change in income\",\n",
    "    xaxis_title=\"Age\"\n",
    ")"
   ]
  },
  {
   "cell_type": "code",
   "execution_count": null,
   "id": "2c9a8107-b986-41a9-9703-92f36842f464",
   "metadata": {},
   "outputs": [],
   "source": [
    "is_child = sim.calc(\"is_child\", map_to =\"person\")\n",
    "x3 = person_income_diff.groupby(is_child).mean()\n",
    "x3.index = x3.index.map({False: \"Adult\", True: \"Child\"})\n",
    "chart5 = px.bar(x3)\n",
    "chart5.update_layout(\n",
    "    title_text='Mean difference in income by child vs adult',\n",
    "    yaxis_title=\"Change in income\",\n",
    "    xaxis_title=\"Age group\"\n",
    ")"
   ]
  },
  {
   "cell_type": "code",
   "execution_count": null,
   "id": "39f0da80-f705-4aa5-ae08-c069627cb305",
   "metadata": {},
   "outputs": [],
   "source": [
    "#Percentage of poverty reduction for adults only\n",
    "poor_adults_before = sim.calc(\"in_poverty_bhc\", map_to=\"person\")[sim.calc(\"is_adult\")].sum()\n",
    "poor_adults_after = sim_BI.calc(\"in_poverty_bhc\", map_to=\"person\")[sim_BI.calc(\"is_adult\")].sum()\n",
    "((poor_adults_before - poor_adults_after)/poor_adults_before) * 100"
   ]
  },
  {
   "cell_type": "code",
   "execution_count": null,
   "id": "c4d98f28-8c54-41b3-9d34-ab916f10ab76",
   "metadata": {},
   "outputs": [],
   "source": [
    "#Mean income difference grouped by family type\n",
    "family = sim.calc(\"family_type\", map_to = \"person\")\n",
    "chart6 = px.bar(person_income_diff.groupby(family).mean())\n",
    "chart6.update_layout(\n",
    "    title_text='Mean income difference grouped by family type',\n",
    "    yaxis_title=\"Change in income\",\n",
    "    xaxis_title=\"Family type\"\n",
    ")"
   ]
  }
 ],
 "metadata": {
  "kernelspec": {
   "display_name": "Python 3",
   "language": "python",
   "name": "python3"
  },
  "language_info": {
   "codemirror_mode": {
    "name": "ipython",
    "version": 3
   },
   "file_extension": ".py",
   "mimetype": "text/x-python",
   "name": "python",
   "nbconvert_exporter": "python",
   "pygments_lexer": "ipython3",
   "version": "3.7.10"
  }
 },
 "nbformat": 4,
 "nbformat_minor": 5
}
