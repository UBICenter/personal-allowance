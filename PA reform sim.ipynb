{
 "cells": [
  {
   "cell_type": "code",
   "execution_count": 196,
   "id": "02ff810d-d1ae-459e-97fe-f6ff83ec01d6",
   "metadata": {},
   "outputs": [],
   "source": [
    "from openfisca_uk import Microsimulation\n",
    "from openfisca_uk import *\n",
    "from openfisca_core.model_api import Reform\n",
    "from openfisca_uk.entities import Person, BenUnit, Household\n",
    "from openfisca_core.model_api import *\n",
    "from openfisca_uk.tools.general import *\n",
    "\n",
    "import plotly.express as px\n",
    "import plotly.io as pio\n",
    "pio.renderers.default = \"browser\""
   ]
  },
  {
   "cell_type": "code",
   "execution_count": 200,
   "id": "c73ff61f-cedb-40f4-981a-b086edcb2192",
   "metadata": {},
   "outputs": [],
   "source": [
    "sim = Microsimulation(input_year=2020)"
   ]
  },
  {
   "cell_type": "markdown",
   "id": "b1af707e-eefd-4de4-bcc4-907d9c3a1d8b",
   "metadata": {},
   "source": [
    "New way of creating the reform"
   ]
  },
  {
   "cell_type": "code",
   "execution_count": 206,
   "id": "7cc0ff0b-318a-4c3c-b966-dcc91b706490",
   "metadata": {},
   "outputs": [],
   "source": [
    "from openfisca_core import periods\n",
    "def make_PA_reform(PA_amount):\n",
    "    \n",
    "    def update_PA_parameter(parameters):\n",
    "        parameters.tax.income_tax.allowances.personal_allowance.amount.update(period=periods.period(\"year:2020:1\"), value=PA_amount)\n",
    "        return parameters\n",
    "    \n",
    "    class reform(Reform):\n",
    "        def apply(self):\n",
    "            self.modify_parameters(update_PA_parameter)\n",
    "    \n",
    "    sim_less_PA = Microsimulation(reform, input_year=2020)\n",
    "    revenue = sim.calc(\"net_income\").sum()\n",
    "    revenue_diff = revenue - sim_less_PA.calc(\"net_income\").sum()\n",
    "    BI_amount = revenue_diff/(sim.calc(\"people\").sum())\n",
    "\n",
    "    \n",
    "    class BI(Variable):\n",
    "        value_type = float\n",
    "        entity = Person\n",
    "        label = u\"UBI\"\n",
    "        definition_period = YEAR\n",
    "        def formula(person, period, parameters):\n",
    "            return(BI_amount)\n",
    "\n",
    "    class gross_income(Variable):\n",
    "        value_type = float\n",
    "        entity = Person\n",
    "        label = u\"Gross income, including benefits\"\n",
    "        definition_period = YEAR\n",
    "\n",
    "        def formula(person, period, parameters):\n",
    "            COMPONENTS = [\n",
    "                \"employment_income\",\n",
    "                \"pension_income\",\n",
    "                \"self_employment_income\",\n",
    "                \"property_income\",\n",
    "                \"savings_interest_income\",\n",
    "                \"dividend_income\",\n",
    "                \"miscellaneous_income\",\n",
    "                \"benefits\",\n",
    "                \"BI\"\n",
    "            ]\n",
    "            return add(person, period, COMPONENTS)   \n",
    "\n",
    "    class basic_income(Reform):\n",
    "        def apply(self):\n",
    "            self.add_variable(BI)\n",
    "            self.update_variable(gross_income)\n",
    "            \n",
    "    sim_BI = Microsimulation(reform, basic_income, input_year=2020)\n",
    "    \n",
    "    return sim_BI"
   ]
  },
  {
   "cell_type": "markdown",
   "id": "fc147f22-f05d-433f-9bfd-1e4c9deef11d",
   "metadata": {},
   "source": [
    "Effect on poverty at different levels of personal allowance reduction"
   ]
  },
  {
   "cell_type": "code",
   "execution_count": 90,
   "id": "eb1e2257-69d9-40dd-856b-90696c40d3f1",
   "metadata": {},
   "outputs": [],
   "source": [
    "def find_poverty_diff(sim_BI):\n",
    "    poverty_difference = sim.calc(\"in_poverty_bhc\", map_to=\"person\").sum() - sim_BI.calc(\"in_poverty_bhc\", map_to=\"person\").sum()\n",
    "    percentage_difference = (poverty_difference/sim.calc(\"in_poverty_bhc\", map_to=\"person\").sum()) * -100\n",
    "    return percentage_difference"
   ]
  },
  {
   "cell_type": "code",
   "execution_count": 91,
   "id": "93a151df-7497-4785-876e-ebf1dffee727",
   "metadata": {},
   "outputs": [
    {
     "data": {
      "text/plain": [
       "[-0.0,\n",
       " -2.797222727198906,\n",
       " -4.83694550285811,\n",
       " -7.430855012549907,\n",
       " -9.870278329759495,\n",
       " -12.203120424103577,\n",
       " -14.608783939890369,\n",
       " -17.01934063608202,\n",
       " -18.675456928224797,\n",
       " -20.79582811839401,\n",
       " -23.370039171637995,\n",
       " -25.66720400842633,\n",
       " -27.99604354406665,\n",
       " -29.387016516841395]"
      ]
     },
     "execution_count": 91,
     "metadata": {},
     "output_type": "execute_result"
    }
   ],
   "source": [
    "PA_amounts = [12500, 11500, 10500, 9500, 8500, 7500, 6500, 5500, 4500, 3500, 2500, 1500, 500, 0]\n",
    "pov_diffs = [find_poverty_diff(make_PA_reform(i)) for i in (PA_amounts)]\n",
    "pov_diffs"
   ]
  },
  {
   "cell_type": "code",
   "execution_count": 92,
   "id": "dd258f46-d1d4-444b-8fa2-9b7fea163495",
   "metadata": {},
   "outputs": [],
   "source": [
    "graph = px.line(x=PA_amounts, y=pov_diffs)\n",
    "graph.update_layout(\n",
    "    title_text='Effect of UBI on poverty at different levels of personal allowance reduction',\n",
    "    xaxis_title =\"Amount of personal allowance\",\n",
    "    yaxis_title =\"Percentage change in poverty\",\n",
    ")"
   ]
  },
  {
   "cell_type": "markdown",
   "id": "839c1ca4-729e-4360-b601-2755bc54320b",
   "metadata": {},
   "source": [
    "Original way of creating reform (just deletes personal allowance)"
   ]
  },
  {
   "cell_type": "code",
   "execution_count": 202,
   "id": "a0671da4-493b-4d0e-9bfc-2e01187e0990",
   "metadata": {},
   "outputs": [
    {
     "ename": "KeyboardInterrupt",
     "evalue": "",
     "output_type": "error",
     "traceback": [
      "\u001b[0;31m---------------------------------------------------------------------------\u001b[0m",
      "\u001b[0;31mKeyboardInterrupt\u001b[0m                         Traceback (most recent call last)",
      "\u001b[0;32m<ipython-input-202-35d59de5c087>\u001b[0m in \u001b[0;36m<module>\u001b[0;34m\u001b[0m\n\u001b[1;32m      3\u001b[0m         \u001b[0mself\u001b[0m\u001b[0;34m.\u001b[0m\u001b[0mneutralize_variable\u001b[0m\u001b[0;34m(\u001b[0m\u001b[0;34m\"personal_allowance\"\u001b[0m\u001b[0;34m)\u001b[0m\u001b[0;34m\u001b[0m\u001b[0;34m\u001b[0m\u001b[0m\n\u001b[1;32m      4\u001b[0m \u001b[0;34m\u001b[0m\u001b[0m\n\u001b[0;32m----> 5\u001b[0;31m \u001b[0msim_no_PA\u001b[0m \u001b[0;34m=\u001b[0m \u001b[0mMicrosimulation\u001b[0m\u001b[0;34m(\u001b[0m\u001b[0mPA_reform\u001b[0m\u001b[0;34m)\u001b[0m\u001b[0;34m\u001b[0m\u001b[0;34m\u001b[0m\u001b[0m\n\u001b[0m\u001b[1;32m      6\u001b[0m \u001b[0;34m\u001b[0m\u001b[0m\n\u001b[1;32m      7\u001b[0m \u001b[0mrevenue\u001b[0m \u001b[0;34m=\u001b[0m \u001b[0msim\u001b[0m\u001b[0;34m.\u001b[0m\u001b[0mcalc\u001b[0m\u001b[0;34m(\u001b[0m\u001b[0;34m\"net_income\"\u001b[0m\u001b[0;34m)\u001b[0m\u001b[0;34m.\u001b[0m\u001b[0msum\u001b[0m\u001b[0;34m(\u001b[0m\u001b[0;34m)\u001b[0m\u001b[0;34m\u001b[0m\u001b[0;34m\u001b[0m\u001b[0m\n",
      "\u001b[0;32m~/opt/anaconda3/envs/openfisca/lib/python3.7/site-packages/openfisca_uk/microdata/simulation.py\u001b[0m in \u001b[0;36m__init__\u001b[0;34m(self, mode, year, input_year, entity_dataframes, *reforms)\u001b[0m\n\u001b[1;32m     40\u001b[0m             \u001b[0;32melse\u001b[0m\u001b[0;34m:\u001b[0m\u001b[0;34m\u001b[0m\u001b[0;34m\u001b[0m\u001b[0m\n\u001b[1;32m     41\u001b[0m                 \u001b[0mself\u001b[0m\u001b[0;34m.\u001b[0m\u001b[0mentity_dataframes\u001b[0m \u001b[0;34m=\u001b[0m \u001b[0mFRSDataset\u001b[0m\u001b[0;34m(\u001b[0m\u001b[0myear\u001b[0m\u001b[0;34m)\u001b[0m\u001b[0;34m.\u001b[0m\u001b[0mentity_dfs\u001b[0m\u001b[0;34m\u001b[0m\u001b[0;34m\u001b[0m\u001b[0m\n\u001b[0;32m---> 42\u001b[0;31m             \u001b[0mself\u001b[0m\u001b[0;34m.\u001b[0m\u001b[0msimulation\u001b[0m \u001b[0;34m=\u001b[0m \u001b[0mself\u001b[0m\u001b[0;34m.\u001b[0m\u001b[0mload_dataset\u001b[0m\u001b[0;34m(\u001b[0m\u001b[0mself\u001b[0m\u001b[0;34m.\u001b[0m\u001b[0mentity_dataframes\u001b[0m\u001b[0;34m)\u001b[0m\u001b[0;34m\u001b[0m\u001b[0;34m\u001b[0m\u001b[0m\n\u001b[0m\u001b[1;32m     43\u001b[0m         \u001b[0;32melif\u001b[0m \u001b[0mmode\u001b[0m \u001b[0;34m==\u001b[0m \u001b[0;34m\"spi\"\u001b[0m\u001b[0;34m:\u001b[0m\u001b[0;34m\u001b[0m\u001b[0;34m\u001b[0m\u001b[0m\n\u001b[1;32m     44\u001b[0m             \u001b[0mself\u001b[0m\u001b[0;34m.\u001b[0m\u001b[0mreforms\u001b[0m \u001b[0;34m=\u001b[0m \u001b[0mfrom_SPI\u001b[0m\u001b[0;34m,\u001b[0m \u001b[0;34m*\u001b[0m\u001b[0mself\u001b[0m\u001b[0;34m.\u001b[0m\u001b[0mreforms\u001b[0m\u001b[0;34m\u001b[0m\u001b[0;34m\u001b[0m\u001b[0m\n",
      "\u001b[0;32m~/opt/anaconda3/envs/openfisca/lib/python3.7/site-packages/openfisca_uk/microdata/simulation.py\u001b[0m in \u001b[0;36mload_dataset\u001b[0;34m(self, entity_dfs, verbose)\u001b[0m\n\u001b[1;32m    162\u001b[0m         \u001b[0mbenunit\u001b[0m\u001b[0;34m[\u001b[0m\u001b[0;34m\"id\"\u001b[0m\u001b[0;34m]\u001b[0m \u001b[0;34m=\u001b[0m \u001b[0mbenunit\u001b[0m\u001b[0;34m[\u001b[0m\u001b[0;34m\"B_benunit_id\"\u001b[0m\u001b[0;34m]\u001b[0m\u001b[0;34m\u001b[0m\u001b[0;34m\u001b[0m\u001b[0m\n\u001b[1;32m    163\u001b[0m         \u001b[0mhousehold\u001b[0m\u001b[0;34m[\u001b[0m\u001b[0;34m\"id\"\u001b[0m\u001b[0;34m]\u001b[0m \u001b[0;34m=\u001b[0m \u001b[0mhousehold\u001b[0m\u001b[0;34m[\u001b[0m\u001b[0;34m\"H_household_id\"\u001b[0m\u001b[0;34m]\u001b[0m\u001b[0;34m\u001b[0m\u001b[0;34m\u001b[0m\u001b[0m\n\u001b[0;32m--> 164\u001b[0;31m         \u001b[0mperson\u001b[0m\u001b[0;34m.\u001b[0m\u001b[0msort_values\u001b[0m\u001b[0;34m(\u001b[0m\u001b[0;34m\"id\"\u001b[0m\u001b[0;34m,\u001b[0m \u001b[0minplace\u001b[0m\u001b[0;34m=\u001b[0m\u001b[0;32mTrue\u001b[0m\u001b[0;34m)\u001b[0m\u001b[0;34m\u001b[0m\u001b[0;34m\u001b[0m\u001b[0m\n\u001b[0m\u001b[1;32m    165\u001b[0m         \u001b[0mperson\u001b[0m\u001b[0;34m.\u001b[0m\u001b[0mreset_index\u001b[0m\u001b[0;34m(\u001b[0m\u001b[0minplace\u001b[0m\u001b[0;34m=\u001b[0m\u001b[0;32mTrue\u001b[0m\u001b[0;34m,\u001b[0m \u001b[0mdrop\u001b[0m\u001b[0;34m=\u001b[0m\u001b[0;32mTrue\u001b[0m\u001b[0;34m)\u001b[0m\u001b[0;34m\u001b[0m\u001b[0;34m\u001b[0m\u001b[0m\n\u001b[1;32m    166\u001b[0m         \u001b[0mbenunit\u001b[0m\u001b[0;34m.\u001b[0m\u001b[0msort_values\u001b[0m\u001b[0;34m(\u001b[0m\u001b[0;34m\"id\"\u001b[0m\u001b[0;34m,\u001b[0m \u001b[0minplace\u001b[0m\u001b[0;34m=\u001b[0m\u001b[0;32mTrue\u001b[0m\u001b[0;34m)\u001b[0m\u001b[0;34m\u001b[0m\u001b[0;34m\u001b[0m\u001b[0m\n",
      "\u001b[0;32m~/opt/anaconda3/envs/openfisca/lib/python3.7/site-packages/pandas/core/frame.py\u001b[0m in \u001b[0;36msort_values\u001b[0;34m(self, by, axis, ascending, inplace, kind, na_position, ignore_index, key)\u001b[0m\n\u001b[1;32m   5310\u001b[0m \u001b[0;34m\u001b[0m\u001b[0m\n\u001b[1;32m   5311\u001b[0m         new_data = self._mgr.take(\n\u001b[0;32m-> 5312\u001b[0;31m             \u001b[0mindexer\u001b[0m\u001b[0;34m,\u001b[0m \u001b[0maxis\u001b[0m\u001b[0;34m=\u001b[0m\u001b[0mself\u001b[0m\u001b[0;34m.\u001b[0m\u001b[0m_get_block_manager_axis\u001b[0m\u001b[0;34m(\u001b[0m\u001b[0maxis\u001b[0m\u001b[0;34m)\u001b[0m\u001b[0;34m,\u001b[0m \u001b[0mverify\u001b[0m\u001b[0;34m=\u001b[0m\u001b[0;32mFalse\u001b[0m\u001b[0;34m\u001b[0m\u001b[0;34m\u001b[0m\u001b[0m\n\u001b[0m\u001b[1;32m   5313\u001b[0m         )\n\u001b[1;32m   5314\u001b[0m \u001b[0;34m\u001b[0m\u001b[0m\n",
      "\u001b[0;32m~/opt/anaconda3/envs/openfisca/lib/python3.7/site-packages/pandas/core/internals/managers.py\u001b[0m in \u001b[0;36mtake\u001b[0;34m(self, indexer, axis, verify, convert)\u001b[0m\n\u001b[1;32m   1429\u001b[0m         \u001b[0mTake\u001b[0m \u001b[0mitems\u001b[0m \u001b[0malong\u001b[0m \u001b[0many\u001b[0m \u001b[0maxis\u001b[0m\u001b[0;34m.\u001b[0m\u001b[0;34m\u001b[0m\u001b[0;34m\u001b[0m\u001b[0m\n\u001b[1;32m   1430\u001b[0m         \"\"\"\n\u001b[0;32m-> 1431\u001b[0;31m         \u001b[0mself\u001b[0m\u001b[0;34m.\u001b[0m\u001b[0m_consolidate_inplace\u001b[0m\u001b[0;34m(\u001b[0m\u001b[0;34m)\u001b[0m\u001b[0;34m\u001b[0m\u001b[0;34m\u001b[0m\u001b[0m\n\u001b[0m\u001b[1;32m   1432\u001b[0m         indexer = (\n\u001b[1;32m   1433\u001b[0m             \u001b[0mnp\u001b[0m\u001b[0;34m.\u001b[0m\u001b[0marange\u001b[0m\u001b[0;34m(\u001b[0m\u001b[0mindexer\u001b[0m\u001b[0;34m.\u001b[0m\u001b[0mstart\u001b[0m\u001b[0;34m,\u001b[0m \u001b[0mindexer\u001b[0m\u001b[0;34m.\u001b[0m\u001b[0mstop\u001b[0m\u001b[0;34m,\u001b[0m \u001b[0mindexer\u001b[0m\u001b[0;34m.\u001b[0m\u001b[0mstep\u001b[0m\u001b[0;34m,\u001b[0m \u001b[0mdtype\u001b[0m\u001b[0;34m=\u001b[0m\u001b[0;34m\"int64\"\u001b[0m\u001b[0;34m)\u001b[0m\u001b[0;34m\u001b[0m\u001b[0;34m\u001b[0m\u001b[0m\n",
      "\u001b[0;32m~/opt/anaconda3/envs/openfisca/lib/python3.7/site-packages/pandas/core/internals/managers.py\u001b[0m in \u001b[0;36m_consolidate_inplace\u001b[0;34m(self)\u001b[0m\n\u001b[1;32m    977\u001b[0m     \u001b[0;32mdef\u001b[0m \u001b[0m_consolidate_inplace\u001b[0m\u001b[0;34m(\u001b[0m\u001b[0mself\u001b[0m\u001b[0;34m)\u001b[0m \u001b[0;34m->\u001b[0m \u001b[0;32mNone\u001b[0m\u001b[0;34m:\u001b[0m\u001b[0;34m\u001b[0m\u001b[0;34m\u001b[0m\u001b[0m\n\u001b[1;32m    978\u001b[0m         \u001b[0;32mif\u001b[0m \u001b[0;32mnot\u001b[0m \u001b[0mself\u001b[0m\u001b[0;34m.\u001b[0m\u001b[0mis_consolidated\u001b[0m\u001b[0;34m(\u001b[0m\u001b[0;34m)\u001b[0m\u001b[0;34m:\u001b[0m\u001b[0;34m\u001b[0m\u001b[0;34m\u001b[0m\u001b[0m\n\u001b[0;32m--> 979\u001b[0;31m             \u001b[0mself\u001b[0m\u001b[0;34m.\u001b[0m\u001b[0mblocks\u001b[0m \u001b[0;34m=\u001b[0m \u001b[0mtuple\u001b[0m\u001b[0;34m(\u001b[0m\u001b[0m_consolidate\u001b[0m\u001b[0;34m(\u001b[0m\u001b[0mself\u001b[0m\u001b[0;34m.\u001b[0m\u001b[0mblocks\u001b[0m\u001b[0;34m)\u001b[0m\u001b[0;34m)\u001b[0m\u001b[0;34m\u001b[0m\u001b[0;34m\u001b[0m\u001b[0m\n\u001b[0m\u001b[1;32m    980\u001b[0m             \u001b[0mself\u001b[0m\u001b[0;34m.\u001b[0m\u001b[0m_is_consolidated\u001b[0m \u001b[0;34m=\u001b[0m \u001b[0;32mTrue\u001b[0m\u001b[0;34m\u001b[0m\u001b[0;34m\u001b[0m\u001b[0m\n\u001b[1;32m    981\u001b[0m             \u001b[0mself\u001b[0m\u001b[0;34m.\u001b[0m\u001b[0m_known_consolidated\u001b[0m \u001b[0;34m=\u001b[0m \u001b[0;32mTrue\u001b[0m\u001b[0;34m\u001b[0m\u001b[0;34m\u001b[0m\u001b[0m\n",
      "\u001b[0;32m~/opt/anaconda3/envs/openfisca/lib/python3.7/site-packages/pandas/core/internals/managers.py\u001b[0m in \u001b[0;36m_consolidate\u001b[0;34m(blocks)\u001b[0m\n\u001b[1;32m   1898\u001b[0m     \u001b[0;32mfor\u001b[0m \u001b[0;34m(\u001b[0m\u001b[0m_can_consolidate\u001b[0m\u001b[0;34m,\u001b[0m \u001b[0mdtype\u001b[0m\u001b[0;34m)\u001b[0m\u001b[0;34m,\u001b[0m \u001b[0mgroup_blocks\u001b[0m \u001b[0;32min\u001b[0m \u001b[0mgrouper\u001b[0m\u001b[0;34m:\u001b[0m\u001b[0;34m\u001b[0m\u001b[0;34m\u001b[0m\u001b[0m\n\u001b[1;32m   1899\u001b[0m         merged_blocks = _merge_blocks(\n\u001b[0;32m-> 1900\u001b[0;31m             \u001b[0mlist\u001b[0m\u001b[0;34m(\u001b[0m\u001b[0mgroup_blocks\u001b[0m\u001b[0;34m)\u001b[0m\u001b[0;34m,\u001b[0m \u001b[0mdtype\u001b[0m\u001b[0;34m=\u001b[0m\u001b[0mdtype\u001b[0m\u001b[0;34m,\u001b[0m \u001b[0mcan_consolidate\u001b[0m\u001b[0;34m=\u001b[0m\u001b[0m_can_consolidate\u001b[0m\u001b[0;34m\u001b[0m\u001b[0;34m\u001b[0m\u001b[0m\n\u001b[0m\u001b[1;32m   1901\u001b[0m         )\n\u001b[1;32m   1902\u001b[0m         \u001b[0mnew_blocks\u001b[0m \u001b[0;34m=\u001b[0m \u001b[0m_extend_blocks\u001b[0m\u001b[0;34m(\u001b[0m\u001b[0mmerged_blocks\u001b[0m\u001b[0;34m,\u001b[0m \u001b[0mnew_blocks\u001b[0m\u001b[0;34m)\u001b[0m\u001b[0;34m\u001b[0m\u001b[0;34m\u001b[0m\u001b[0m\n",
      "\u001b[0;32m~/opt/anaconda3/envs/openfisca/lib/python3.7/site-packages/pandas/core/internals/managers.py\u001b[0m in \u001b[0;36m_merge_blocks\u001b[0;34m(blocks, dtype, can_consolidate)\u001b[0m\n\u001b[1;32m   1923\u001b[0m \u001b[0;34m\u001b[0m\u001b[0m\n\u001b[1;32m   1924\u001b[0m         \u001b[0margsort\u001b[0m \u001b[0;34m=\u001b[0m \u001b[0mnp\u001b[0m\u001b[0;34m.\u001b[0m\u001b[0margsort\u001b[0m\u001b[0;34m(\u001b[0m\u001b[0mnew_mgr_locs\u001b[0m\u001b[0;34m)\u001b[0m\u001b[0;34m\u001b[0m\u001b[0;34m\u001b[0m\u001b[0m\n\u001b[0;32m-> 1925\u001b[0;31m         \u001b[0mnew_values\u001b[0m \u001b[0;34m=\u001b[0m \u001b[0mnew_values\u001b[0m\u001b[0;34m[\u001b[0m\u001b[0margsort\u001b[0m\u001b[0;34m]\u001b[0m\u001b[0;34m\u001b[0m\u001b[0;34m\u001b[0m\u001b[0m\n\u001b[0m\u001b[1;32m   1926\u001b[0m         \u001b[0mnew_mgr_locs\u001b[0m \u001b[0;34m=\u001b[0m \u001b[0mnew_mgr_locs\u001b[0m\u001b[0;34m[\u001b[0m\u001b[0margsort\u001b[0m\u001b[0;34m]\u001b[0m\u001b[0;34m\u001b[0m\u001b[0;34m\u001b[0m\u001b[0m\n\u001b[1;32m   1927\u001b[0m \u001b[0;34m\u001b[0m\u001b[0m\n",
      "\u001b[0;31mKeyboardInterrupt\u001b[0m: "
     ]
    }
   ],
   "source": [
    "class PA_reform(Reform):\n",
    "    def apply(self):\n",
    "        self.neutralize_variable(\"personal_allowance\")\n",
    "        \n",
    "sim_no_PA = Microsimulation(PA_reform)\n",
    "\n",
    "revenue = sim.calc(\"net_income\").sum()\n",
    "revenue_diff = revenue - sim_no_PA.calc(\"net_income\").sum()\n",
    "\n",
    "BI_amount = revenue_diff/(sim.calc(\"people\").sum())\n",
    "BI_amount"
   ]
  },
  {
   "cell_type": "code",
   "execution_count": 194,
   "id": "20bcc7e0-9d5b-4fc5-92b5-04b8bbac02a3",
   "metadata": {},
   "outputs": [
    {
     "data": {
      "text/plain": [
       "1633.929566965039"
      ]
     },
     "execution_count": 194,
     "metadata": {},
     "output_type": "execute_result"
    }
   ],
   "source": [
    "(sim.calc(\"net_income\").sum() - sim_no_PA.calc(\"net_income\").sum())/(sim.calc(\"people\").sum())"
   ]
  },
  {
   "cell_type": "code",
   "execution_count": null,
   "id": "e8260a96-9ee2-4cf4-9664-d00fde622f62",
   "metadata": {},
   "outputs": [],
   "source": [
    "from openfisca_core.model_api import *\n",
    "from openfisca_uk.tools.general import *\n",
    "\n",
    "class BI(Variable):\n",
    "    value_type = float\n",
    "    entity = Person\n",
    "    label = u\"UBI\"\n",
    "    definition_period = YEAR\n",
    "    def formula(person, period, parameters):\n",
    "        return(BI_amount)\n",
    "\n",
    "class gross_income(Variable):\n",
    "    value_type = float\n",
    "    entity = Person\n",
    "    label = u\"Gross income, including benefits\"\n",
    "    definition_period = YEAR\n",
    "\n",
    "    def formula(person, period, parameters):\n",
    "        COMPONENTS = [\n",
    "            \"employment_income\",\n",
    "            \"pension_income\",\n",
    "            \"self_employment_income\",\n",
    "            \"property_income\",\n",
    "            \"savings_interest_income\",\n",
    "            \"dividend_income\",\n",
    "            \"miscellaneous_income\",\n",
    "            \"benefits\",\n",
    "            \"BI\"\n",
    "        ]\n",
    "        return add(person, period, COMPONENTS)   \n",
    "\n",
    "class basic_income(Reform):\n",
    "    def apply(self):\n",
    "        self.add_variable(BI)\n",
    "        self.update_variable(gross_income)\n",
    "        \n",
    "sim_BI = Microsimulation(PA_reform, basic_income)"
   ]
  },
  {
   "cell_type": "markdown",
   "id": "d4453f32-65c5-41bf-8bd5-b378ec7f2551",
   "metadata": {},
   "source": [
    "Overall effect on income & taxes"
   ]
  },
  {
   "cell_type": "code",
   "execution_count": 34,
   "id": "734d09ca-8336-4273-96bb-9cab4e850b6b",
   "metadata": {},
   "outputs": [],
   "source": [
    "sim_BI = make_PA_reform(0)"
   ]
  },
  {
   "cell_type": "code",
   "execution_count": 58,
   "id": "82cb72ae-405e-491b-bd61-968ef7cd66f5",
   "metadata": {},
   "outputs": [
    {
     "data": {
      "text/plain": [
       "1633.9295669650382"
      ]
     },
     "execution_count": 58,
     "metadata": {},
     "output_type": "execute_result"
    }
   ],
   "source": [
    "#What the average individual saves in income thanks to PA\n",
    "sim.calc(\"net_income\").mean() - sim_no_PA.calc(\"net_income\").mean()"
   ]
  },
  {
   "cell_type": "code",
   "execution_count": 37,
   "id": "43720143-3846-43c6-b0c9-c808332a13ce",
   "metadata": {},
   "outputs": [
    {
     "data": {
      "text/plain": [
       "564.157975690181"
      ]
     },
     "execution_count": 37,
     "metadata": {},
     "output_type": "execute_result"
    }
   ],
   "source": [
    "#Increase in median household net income\n",
    "sim_BI.calc(\"household_net_income\").median() - sim.calc(\"household_net_income\").median()"
   ]
  },
  {
   "cell_type": "markdown",
   "id": "c74dad9a-c2b5-49dc-bbb4-8df48fa0b4c1",
   "metadata": {},
   "source": [
    "Effect on each income group"
   ]
  },
  {
   "cell_type": "code",
   "execution_count": 38,
   "id": "869eb2e0-c6d8-4ba8-842b-0298b6a4c9fb",
   "metadata": {},
   "outputs": [],
   "source": [
    "income_diff = sim_BI.calc(\"household_net_income\", map_to=\"household\") - sim.calc(\"household_net_income\", map_to=\"household\")"
   ]
  },
  {
   "cell_type": "code",
   "execution_count": 39,
   "id": "bed6c8cb-07b3-4e46-83b4-95fdc94e7210",
   "metadata": {},
   "outputs": [],
   "source": [
    "income = sim.calc(\"household_net_income\", map_to=\"household\")"
   ]
  },
  {
   "cell_type": "code",
   "execution_count": 168,
   "id": "e1e73064-817f-4df2-8dd3-f0b7196864d9",
   "metadata": {
    "tags": []
   },
   "outputs": [],
   "source": [
    "#Mean difference in household net income for each income decile\n",
    "chart = px.bar(income_diff.groupby(income.decile_rank()).mean())\n",
    "chart.update_layout(\n",
    "    title_text='Mean difference in household net income for each income decile',\n",
    "    xaxis_title =\"Income decile\",\n",
    "    yaxis_title =\"Change in income\",\n",
    ")"
   ]
  },
  {
   "cell_type": "markdown",
   "id": "0ef8827d-8ac7-46d0-85ba-197abf632af8",
   "metadata": {},
   "source": [
    "Effect on poverty"
   ]
  },
  {
   "cell_type": "code",
   "execution_count": 118,
   "id": "7ff6a0ef-b7db-4c83-9297-a3e86ce0ca33",
   "metadata": {
    "tags": []
   },
   "outputs": [],
   "source": [
    "#Median difference in household net income for those in deep poverty vs those not in deep poverty\n",
    "isDeepPoor = sim.calc(\"in_deep_poverty_bhc\", map_to =\"household\")\n",
    "x = income_diff.groupby(isDeepPoor).median()\n",
    "x.index = x.index.map({False: \"Not in deep poverty\", True: \"In deep poverty\"})\n",
    "chart2 = px.bar(x)\n",
    "chart2.update_layout(\n",
    "    title_text='Median difference in household net income for those in deep poverty vs those not in deep poverty',\n",
    "    yaxis_title=\"Change in income\",\n",
    "    xaxis_title=\"Deep poverty status\"\n",
    ")"
   ]
  },
  {
   "cell_type": "code",
   "execution_count": 119,
   "id": "4efe5169-e8b9-4600-990c-de67b079514a",
   "metadata": {},
   "outputs": [],
   "source": [
    "#Median difference in household net income for those in poverty vs those not in poverty\n",
    "isPoor = sim.calc(\"in_poverty_bhc\", map_to = \"household\")\n",
    "x2 = income_diff.groupby(isPoor).median()\n",
    "x2.index = x2.index.map({False: \"Not in poverty\", True: \"In poverty\"})\n",
    "chart3=px.bar(x2)\n",
    "chart3.update_layout(\n",
    "    title_text='Median difference in household net income for those in poverty vs those not in poverty',\n",
    "    yaxis_title=\"Change in income\",\n",
    "    xaxis_title=\"Poverty Status\"\n",
    ")"
   ]
  },
  {
   "cell_type": "code",
   "execution_count": 188,
   "id": "db7b2a06-6463-4a1c-88cd-eee893422dfc",
   "metadata": {},
   "outputs": [],
   "source": [
    "#Median difference in household net income for different poverty groups\n",
    "\n",
    "effect = sim_BI.calc(\"household_net_income\", map_to=\"person\") - sim.calc(\"household_net_income\", map_to=\"person\")\n",
    "isDeepPoor = sim.calc(\"in_deep_poverty_bhc\", map_to =\"person\")\n",
    "isPoor = sim.calc(\"in_poverty_bhc\", map_to = \"person\") & ~isDeepPoor\n",
    "#isPoor excludes those in deep poverty\n",
    "#isNotPoor = sim.calc(\"in_poverty_bhc\", map_to = \"person\")[sim.calc(\"in_poverty_bhc\") == False]\n",
    "\n",
    "#poor_kids_before = sim.calc(\"in_poverty_bhc\", map_to=\"person\")[sim.calc(\"is_child\")].sum()\n",
    "\n",
    "\n",
    "#sim_BI.calc(\"household_net_income\", map_to=\"person\")[sim.calc(\"in_deep_poverty_bhc\", map_to =\"household\")]\n",
    "px.bar(x=[\"Deep poverty\", \"Shallow poverty\", \"Not in poverty\"], y=[effect[isDeepPoor].mean(), effect[isPoor].mean(), effect[~isPoor].mean()])"
   ]
  },
  {
   "cell_type": "code",
   "execution_count": 65,
   "id": "8e6d69f0-d11e-45f1-9d9e-c3b3ecc6c473",
   "metadata": {
    "tags": []
   },
   "outputs": [
    {
     "data": {
      "text/plain": [
       "-29.387016516841395"
      ]
     },
     "execution_count": 65,
     "metadata": {},
     "output_type": "execute_result"
    }
   ],
   "source": [
    "#Percentage of poverty reduction\n",
    "poverty_difference = sim_BI.calc(\"in_poverty_bhc\", map_to=\"person\").sum() - sim.calc(\"in_poverty_bhc\", map_to=\"person\").sum()\n",
    "(poverty_difference/sim.calc(\"in_poverty_bhc\", map_to=\"person\").sum()) * 100"
   ]
  },
  {
   "cell_type": "code",
   "execution_count": 191,
   "id": "1f490243-6b8c-4ad9-ae10-dcbe18f8bdc9",
   "metadata": {},
   "outputs": [],
   "source": [
    "poverty_before = sim.calc(\"in_poverty_bhc\", map_to=\"person\").sum()/sim.calc(\"people\").sum() * 100\n",
    "poverty_now = sim_BI.calc(\"in_poverty_bhc\", map_to=\"person\").sum()/sim.calc(\"people\").sum() * 100\n",
    "#add percentage to y axis\n",
    "#fig.update_layout(yaxis_tickformat=\"%\", xaxis_tickprefix=\"£\"\n",
    "px.bar(x=[\"Poverty rate before\", \"Poverty rate now\"], y=[poverty_before, poverty_now])"
   ]
  },
  {
   "cell_type": "code",
   "execution_count": 66,
   "id": "91e6ae2e-19df-4beb-b55d-5dd2aaf50c63",
   "metadata": {},
   "outputs": [
    {
     "data": {
      "text/plain": [
       "-45.58830703395416"
      ]
     },
     "execution_count": 66,
     "metadata": {},
     "output_type": "execute_result"
    }
   ],
   "source": [
    "#Percentage of deep poverty redution \n",
    "deep_poverty_difference = sim_BI.calc(\"in_deep_poverty_bhc\", map_to=\"person\").sum() - sim.calc(\"in_deep_poverty_bhc\", map_to=\"person\").sum()\n",
    "(deep_poverty_difference/sim.calc(\"in_deep_poverty_bhc\", map_to=\"person\").sum()) * 100"
   ]
  },
  {
   "cell_type": "markdown",
   "id": "52d9ac31-d0ec-4267-9f59-2086bd0f86e3",
   "metadata": {},
   "source": [
    "Effect on child poverty"
   ]
  },
  {
   "cell_type": "code",
   "execution_count": 69,
   "id": "ab8dcfc7-320e-4d34-99f8-2e5c0ba1c953",
   "metadata": {},
   "outputs": [
    {
     "data": {
      "text/plain": [
       "50.792842531864544"
      ]
     },
     "execution_count": 69,
     "metadata": {},
     "output_type": "execute_result"
    }
   ],
   "source": [
    "#Percentage of child poverty reduction\n",
    "poor_kids_before = sim.calc(\"in_poverty_bhc\", map_to=\"person\")[sim.calc(\"is_child\")].sum()\n",
    "poor_kids_after = sim_BI.calc(\"in_poverty_bhc\", map_to=\"person\")[sim_BI.calc(\"is_child\")].sum()\n",
    "((poor_kids_before - poor_kids_after)/poor_kids_before) * 100"
   ]
  },
  {
   "cell_type": "code",
   "execution_count": 48,
   "id": "055572cb-8af7-4ef6-b651-9e5e24d210d8",
   "metadata": {},
   "outputs": [],
   "source": [
    "person_income_diff = sim_BI.calc(\"net_income\", map_to=\"person\") - sim.calc(\"net_income\", map_to=\"person\")"
   ]
  },
  {
   "cell_type": "code",
   "execution_count": 70,
   "id": "812f17ef-72eb-49fa-b011-1705165fe377",
   "metadata": {},
   "outputs": [],
   "source": [
    "#Mean difference in income by age\n",
    "age = sim.calc(\"age\", map_to =\"person\")\n",
    "chart4 = px.bar(person_income_diff.groupby(age).mean())\n",
    "chart4.update_layout(\n",
    "    title_text='Mean difference in income by age',\n",
    "    yaxis_title=\"Change in income\",\n",
    "    xaxis_title=\"Age\"\n",
    ")"
   ]
  },
  {
   "cell_type": "code",
   "execution_count": 88,
   "id": "4ae6c499-2f96-43ec-98b7-7ee7ebe94fa4",
   "metadata": {},
   "outputs": [],
   "source": [
    "#Mean difference in household income by age\n",
    "income_diff_2 = sim_BI.calc(\"household_net_income\", map_to=\"person\") - sim.calc(\"household_net_income\", map_to=\"person\")\n",
    "\n",
    "age = sim.calc(\"age\", map_to =\"person\")\n",
    "chart4 = px.bar(income_diff_2.groupby(age).mean())\n",
    "chart4.update_layout(\n",
    "    title_text='Mean difference in household income by age',\n",
    "    yaxis_title=\"Change in household income\",\n",
    "    xaxis_title=\"Age\"\n",
    ")"
   ]
  },
  {
   "cell_type": "code",
   "execution_count": 71,
   "id": "2c9a8107-b986-41a9-9703-92f36842f464",
   "metadata": {},
   "outputs": [],
   "source": [
    "is_child = sim.calc(\"is_child\", map_to =\"person\")\n",
    "x3 = person_income_diff.groupby(is_child).mean()\n",
    "x3.index = x3.index.map({False: \"Adult\", True: \"Child\"})\n",
    "chart5 = px.bar(x3)\n",
    "chart5.update_layout(\n",
    "    title_text='Mean difference in income by child vs adult',\n",
    "    yaxis_title=\"Change in income\",\n",
    "    xaxis_title=\"Age group\"\n",
    ")"
   ]
  },
  {
   "cell_type": "code",
   "execution_count": 72,
   "id": "39f0da80-f705-4aa5-ae08-c069627cb305",
   "metadata": {},
   "outputs": [
    {
     "data": {
      "text/plain": [
       "20.194557774223117"
      ]
     },
     "execution_count": 72,
     "metadata": {},
     "output_type": "execute_result"
    }
   ],
   "source": [
    "#Percentage of poverty reduction for adults only\n",
    "poor_adults_before = sim.calc(\"in_poverty_bhc\", map_to=\"person\")[sim.calc(\"is_adult\")].sum()\n",
    "poor_adults_after = sim_BI.calc(\"in_poverty_bhc\", map_to=\"person\")[sim_BI.calc(\"is_adult\")].sum()\n",
    "((poor_adults_before - poor_adults_after)/poor_adults_before) * 100"
   ]
  },
  {
   "cell_type": "code",
   "execution_count": 73,
   "id": "c4d98f28-8c54-41b3-9d34-ab916f10ab76",
   "metadata": {},
   "outputs": [],
   "source": [
    "#Mean income difference grouped by family type\n",
    "family = sim.calc(\"family_type\", map_to = \"person\")\n",
    "chart6 = px.bar(person_income_diff.groupby(family).mean())\n",
    "chart6.update_layout(\n",
    "    title_text='Mean income difference grouped by family type',\n",
    "    yaxis_title=\"Change in income\",\n",
    "    xaxis_title=\"Family type\"\n",
    ")"
   ]
  },
  {
   "cell_type": "code",
   "execution_count": null,
   "id": "2b18fbe4-b14c-460c-a56d-1143bb251a86",
   "metadata": {},
   "outputs": [],
   "source": [
    "#Effect of PA on income groups\n",
    "\n",
    "class PA_reform(Reform):\n",
    "    def apply(self):\n",
    "        self.neutralize_variable(\"personal_allowance\")\n",
    "        \n",
    "sim_no_PA = Microsimulation(PA_reform)\n",
    "\n",
    "income_diff = (sim.calc(\"household_net_income\") - sim_no_PA.calc(\"household_net_income\"))/sim.calc(\"household_net_income\") * 100\n",
    "income = sim.calc(\"household_net_income\")\n",
    "\n",
    "chart1 = format_fig(px.bar(income_diff.groupby(income.decile_rank()).mean()).update_layout(\n",
    "    title_text='Income increase thanks to PA for households in each income decile',\n",
    "    xaxis_title =\"Household income decile\",\n",
    "    yaxis_title =\"Change in household net income\",\n",
    "    showlegend= False,\n",
    "    yaxis_ticksuffix=\"%\"\n",
    "))"
   ]
  },
  {
   "cell_type": "code",
   "execution_count": null,
   "id": "6135aab8-bea6-42e4-999a-84601e072c68",
   "metadata": {},
   "outputs": [],
   "source": [
    "#Effect of PA on income groups 2\n",
    "\n",
    "class PA_reform(Reform):\n",
    "    def apply(self):\n",
    "        self.neutralize_variable(\"personal_allowance\")\n",
    "        \n",
    "sim_no_PA = Microsimulation(PA_reform, input_year=2020)\n",
    "\n",
    "chart3 = format_fig(go.Figure(data=[\n",
    "    go.Bar(name='With PA', y=sim.calc(\"household_net_income\").groupby(income.decile_rank()).mean()),\n",
    "    go.Bar(name='Without PA', y=sim_no_PA.calc(\"household_net_income\").groupby(income.decile_rank()).mean())\n",
    "]).update_layout(\n",
    "    barmode='group', \n",
    "))"
   ]
  }
 ],
 "metadata": {
  "kernelspec": {
   "display_name": "Python 3",
   "language": "python",
   "name": "python3"
  },
  "language_info": {
   "codemirror_mode": {
    "name": "ipython",
    "version": 3
   },
   "file_extension": ".py",
   "mimetype": "text/x-python",
   "name": "python",
   "nbconvert_exporter": "python",
   "pygments_lexer": "ipython3",
   "version": "3.7.10"
  }
 },
 "nbformat": 4,
 "nbformat_minor": 5
}
