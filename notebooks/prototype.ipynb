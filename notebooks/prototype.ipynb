version https://git-lfs.github.com/spec/v1
oid sha256:652e5e1bf42b79d6e5c06fba006749e724120a66c41d69de41086b9f3ede2792
size 6553
