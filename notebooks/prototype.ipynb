{
 "cells": [
  {
   "cell_type": "markdown",
   "id": "78ee2b7a-44b4-41f8-953d-14f1b9342ef6",
   "metadata": {},
   "source": [
    "# Funding UBI by eliminating the personal allowance"
   ]
  },
  {
   "cell_type": "markdown",
   "id": "c7e0ba44-2492-4cbd-a25a-963da1d99aa9",
   "metadata": {},
   "source": [
    "Personal allowance is a feature of the UK tax system which designates a certain amount of individual income as non-taxable. This amount is currently set at £12,500, meaning the first £12,500 of an individual’s earnings are not taxed. Ever since it was [first introduced in 1979](http://taxhistory.co.uk/Income%20Tax%20Allowances.htm) at £1,165 (equivalent to around [£6,028 today)](https://www.bankofengland.co.uk/monetary-policy/inflation/inflation-calculator), it has been steadily increasing almost every year.\n"
   ]
  },
  {
   "cell_type": "markdown",
   "id": "2a76e4a6-319f-41f6-9e8d-a75eace04993",
   "metadata": {},
   "source": [
    "#### Benefits & Criticisms of PA\n"
   ]
  },
  {
   "cell_type": "markdown",
   "id": "6775738e-00ec-46bc-a5b4-8fc1da2b26af",
   "metadata": {},
   "source": [
    "The personal allowance is fairly popular in the UK, as it allows people to retain more of their income. At current levels, the average individual saves over £1,600 annually in taxes thanks to the personal allowance (source: our simulation).\n",
    "\n",
    "Moreover, it is often thought of as fiscally progressive since it allows the lowest income earners—those making under £12,500—to be free from any income tax at all, while it phases out for the highest earners who make above £100,000. Many people support raising the personal allowance thinking the higher it is, the greater the amount of low-income earners who fall below the threshold, allowing them to retain more of their income. Thus, by this logic, it should serve as a mechanism for reducing poverty.\n",
    "\n",
    "Though this sounds good on paper, the personal allowance has been found to be regressive in practice. This means not that the poor do not benefit from it, but that the affluent benefit more. There are two main reasons for this. Firstly, many of the UK’s poorest already fall below the personal allowance threshold, and raising the personal allowance does nothing for them. Rather, it exclusively helps higher income earners who make up to [£125,140](https://www.gov.uk/income-tax-rates/income-over-100000). Though some at the bottom of the income scale may benefit, the [overwhelming majority of the benefits do not go to them](https://leftfootforward.org/2013/03/the-10000-personal-tax-allowance-anything-but-progressive/) but to those more affluent.\n",
    "\n",
    "The second reason has to do with the phaseout of Universal Credit and similar means-tested benefits. Since Universal Credit is based on post-tax income, then when taxes are reduced and post-tax income rises, recipients see their Universal Credit amount reduced as well. As [explained](https://www.politics.co.uk/opinion-former/press-release/2018/10/29/personal-allowance-increase-does-little-for-those-on-lowest-income/) by Victoria Todd, Head of the Low Income Tax Reform Group, about the 2019 changes: \n",
    "\n",
    "> “[Universal credit recipients] will not see the full tax gain of £130 from the increase in the personal allowance; instead, they will only gain overall by £48.10, as their Universal Credit award will be reduced by £81.90. However, those earning above £11,850 who receive tax credits will benefit from the full £130 because tax credits are based on gross income.”\n",
    "\n",
    "Again, this means that higher-income earners benefit more than low-income earners from personal reform increases. In fact, according to [one report](https://www.resolutionfoundation.org/app/uploads/2014/12/Missing-the-target1.pdf) by the Resolution Foundation, the most recent increase to £12,500 gave around £18 of additional income to the bottom 10% of households and £203 to the top 10%.\n",
    "\n"
   ]
  },
  {
   "cell_type": "markdown",
   "id": "f2fd549b-8daa-4d23-8bfc-3d09788ef032",
   "metadata": {},
   "source": [
    "#### Party proposals regarding personal allowance and UBI\n"
   ]
  },
  {
   "cell_type": "markdown",
   "id": "61e5e3ad-0f0a-4c98-b84b-4bf17b735750",
   "metadata": {},
   "source": [
    "The regressivity of the personal allowance suggests that its elimination would reduce the income of the UK’s poorest only negligibly, while the more affluent would pay a higher burden. This makes it a good candidate for helping fund a progressive UBI proposal.\n",
    "\n",
    "Both UK parties who have released UBI proposals have found a role for personal allowance to help fund their programs. The Lib Dems have conceded that there will be a reduction, but insist their proposal involves [“in all cases leaving some level of Personal Allowance (at least £2,500 a year)”](https://d3n8a8pro7vhmx.cloudfront.net/libdems/pages/1811/attachments/original/1621669347/145_-_Universal_Basic_Income.docx_%281%29.pdf?1621669347). Meanwhile, the Green Party states that in their model, UBI will be taxable, but [“all income tax payers will have a tax-free allowance which is the equivalent to their Universal Basic Income amount”](https://www.greenparty.ie/wp-content/uploads/2018/07/Green-Party-Universal-Basic-Income-Policy.pdf). This means that in practice the UBI would not be taxed and the personal allowance would effectively be eliminated. Both parties also include UBI in means-testing.\n",
    "\n",
    "In the following analysis, we will explore the effect of a UBI funded exclusively through the elimination of a personal allowance. The UBI amount in this simulation is of an equal amount to everyone, regardless of age or disability.\n"
   ]
  },
  {
   "cell_type": "markdown",
   "id": "38541e34-30c0-4fa9-80e2-e7574509de7d",
   "metadata": {},
   "source": [
    "#### Our findings\n"
   ]
  },
  {
   "cell_type": "code",
   "execution_count": null,
   "id": "1d95b8a2-e07d-4606-9b46-db24fde0b3f0",
   "metadata": {},
   "outputs": [],
   "source": []
  }
 ],
 "metadata": {
  "kernelspec": {
   "display_name": "Python 3",
   "language": "python",
   "name": "python3"
  },
  "language_info": {
   "codemirror_mode": {
    "name": "ipython",
    "version": 3
   },
   "file_extension": ".py",
   "mimetype": "text/x-python",
   "name": "python",
   "nbconvert_exporter": "python",
   "pygments_lexer": "ipython3",
   "version": "3.7.10"
  }
 },
 "nbformat": 4,
 "nbformat_minor": 5
}
