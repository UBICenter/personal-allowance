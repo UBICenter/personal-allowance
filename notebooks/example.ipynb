{
 "cells": [
  {
   "cell_type": "code",
   "execution_count": 1,
   "id": "a5b4d969-241f-4dcf-bed3-bd34d9536879",
   "metadata": {},
   "outputs": [
    {
     "name": "stderr",
     "output_type": "stream",
     "text": [
      "libyaml is not installed in your environment. This can make OpenFisca slower to start. Once you have installed libyaml, run 'pip uninstall pyyaml && pip install pyyaml --no-cache-dir' so that it is used in your Python environment.\n",
      "\n"
     ]
    }
   ],
   "source": [
    "from openfisca_uk import Microsimulation\n",
    "from openfisca_uk import *\n",
    "from openfisca_core.model_api import Reform\n",
    "from openfisca_uk.entities import Person, BenUnit, Household"
   ]
  },
  {
   "cell_type": "code",
   "execution_count": 2,
   "id": "e5ddf46b-f6f9-4588-8ab7-267923000b34",
   "metadata": {},
   "outputs": [],
   "source": [
    "sim = Microsimulation()\n",
    "\n",
    "class PA_reform(Reform):\n",
    "    def apply(self):\n",
    "        self.neutralize_variable(\"personal_allowance\")\n",
    "        \n",
    "sim_no_PA = Microsimulation(PA_reform)"
   ]
  },
  {
   "cell_type": "code",
   "execution_count": 3,
   "id": "d696ae61-4c1c-4978-a183-7bf3b106c420",
   "metadata": {},
   "outputs": [
    {
     "data": {
      "text/plain": [
       "96342127753.30627"
      ]
     },
     "execution_count": 3,
     "metadata": {},
     "output_type": "execute_result"
    }
   ],
   "source": [
    "revenue = sim.calc(\"net_income\").sum()\n",
    "revenue_diff = revenue - sim_no_PA.calc(\"net_income\").sum()\n",
    "revenue_diff"
   ]
  },
  {
   "cell_type": "code",
   "execution_count": 4,
   "id": "dfcdf7ad-ff6b-4121-8ef8-9aec81b7a718",
   "metadata": {},
   "outputs": [
    {
     "data": {
      "text/plain": [
       "1471.3539074481146"
      ]
     },
     "execution_count": 4,
     "metadata": {},
     "output_type": "execute_result"
    }
   ],
   "source": [
    "BI_amount = revenue_diff/(sim.calc(\"people\").sum())\n",
    "BI_amount"
   ]
  },
  {
   "cell_type": "code",
   "execution_count": 5,
   "id": "d757efc7-b1f4-4583-a052-82771ed7cdde",
   "metadata": {},
   "outputs": [],
   "source": [
    "from openfisca_core.model_api import *\n",
    "from openfisca_uk.tools.general import *\n",
    "\n",
    "class BI(Variable):\n",
    "    value_type = float\n",
    "    entity = Person\n",
    "    label = u\"UBI\"\n",
    "    definition_period = YEAR\n",
    "    def formula(person, period, parameters):\n",
    "        return(BI_amount)\n",
    "\n",
    "class gross_income(Variable):\n",
    "    value_type = float\n",
    "    entity = Person\n",
    "    label = u\"Gross income, including benefits\"\n",
    "    definition_period = YEAR\n",
    "\n",
    "    def formula(person, period, parameters):\n",
    "        COMPONENTS = [\n",
    "            \"employment_income\",\n",
    "            \"pension_income\",\n",
    "            \"self_employment_income\",\n",
    "            \"property_income\",\n",
    "            \"savings_interest_income\",\n",
    "            \"dividend_income\",\n",
    "            \"miscellaneous_income\",\n",
    "            \"benefits\",\n",
    "            \"BI\"\n",
    "        ]\n",
    "        return add(person, period, COMPONENTS)   \n",
    "\n",
    "class basic_income(Reform):\n",
    "    def apply(self):\n",
    "        self.add_variable(BI)\n",
    "        self.update_variable(gross_income)\n",
    "        \n",
    "sim_BI = Microsimulation(PA_reform, basic_income)"
   ]
  },
  {
   "cell_type": "code",
   "execution_count": 6,
   "id": "c7e961e7-b0cb-4cfe-980c-8d979e6c6511",
   "metadata": {},
   "outputs": [
    {
     "data": {
      "text/plain": [
       "-6.817517520670663"
      ]
     },
     "execution_count": 6,
     "metadata": {},
     "output_type": "execute_result"
    }
   ],
   "source": [
    "sim_BI.calc(\"household_net_income\").mean() - sim.calc(\"household_net_income\").mean()\n",
    "#household_net_income clips negative values to zero, so changes for people with negative disposable income don't show up\n",
    "#they go from 0 to 0 rather than e.g. -100 to -50"
   ]
  },
  {
   "cell_type": "code",
   "execution_count": 10,
   "id": "a5f26f02-1d8b-4add-b9eb-58eac43112d5",
   "metadata": {},
   "outputs": [
    {
     "data": {
      "text/plain": [
       "-0.0013760499059571885"
      ]
     },
     "execution_count": 10,
     "metadata": {},
     "output_type": "execute_result"
    }
   ],
   "source": [
    "sim_BI.calc(\"net_income\").mean() - sim.calc(\"net_income\").mean()"
   ]
  }
 ],
 "metadata": {
  "kernelspec": {
   "display_name": "Python 3",
   "language": "python",
   "name": "python3"
  },
  "language_info": {
   "codemirror_mode": {
    "name": "ipython",
    "version": 3
   },
   "file_extension": ".py",
   "mimetype": "text/x-python",
   "name": "python",
   "nbconvert_exporter": "python",
   "pygments_lexer": "ipython3",
   "version": "3.7.10"
  }
 },
 "nbformat": 4,
 "nbformat_minor": 5
}
