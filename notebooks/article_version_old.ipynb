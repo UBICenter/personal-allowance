{
 "cells": [
  {
   "cell_type": "markdown",
   "id": "bd6806a0",
   "metadata": {},
   "source": [
    "# Replacing the UK personal allowance with a universal basic income"
   ]
  },
  {
   "cell_type": "markdown",
   "id": "610080cb",
   "metadata": {},
   "source": [
    "The personal allowance is a feature of the UK tax system which designates a certain amount of individual income as non-taxable. This amount is currently set at £12,500, meaning the first £12,500 of an individual’s annual earnings are not taxed. Since it was [introduced in 1979 at £1,165](http://taxhistory.co.uk/Income%20Tax%20Allowances.htm) (equivalent to around [£6,028 today](https://www.bankofengland.co.uk/monetary-policy/inflation/inflation-calculator)), it has increased almost every year.\n",
    "\n",
    "The following analysis explores repealing the personal allowance and using the resulting tax revenue to fund a universal basic income. The findings show that this would be an effective policy for addressing poverty, reducing the overall poverty rate by 29% and deep poverty by 46%. It is especially effective for reducing child poverty, which would fall a remarkable 51%. Lastly, it shows that each personal allowance reduction of £2,000 could yield around a 5% decrease in poverty."
   ]
  },
  {
   "cell_type": "markdown",
   "id": "74d9ab64",
   "metadata": {},
   "source": [
    "#### Debate around the personal allowance\n"
   ]
  },
  {
   "cell_type": "markdown",
   "id": "dc8824aa",
   "metadata": {},
   "source": [
    "The personal allowance is [very popular in the UK](https://www.ipsos.com/ipsos-mori/en-uk/personal-allowances-rise-most-popular-conference-season-tax-pledges), as it allows people to retain a greater portion of their income. At current levels, the personal allowance lowers the average worker's tax liability by £1,600 per year.\n",
    "\n",
    "Moreover, supporters of the personal allowance often characterize it [as a progressive anti-poverty measure](https://www.standard.co.uk/news/politics/libdems-to-let-1-3m-low-earners-avoid-paying-tax-8506838.html), since it allows the lowest income earners—those making under £12,500—to be free from any income tax at all, while it phases out for the highest earners making above £100,000. Many people support raising the personal allowance thinking that the higher it is, the greater the number of low income earners who fall below the threshold, allowing these individuals to retain more of their income. Thus, by this logic, it should serve as a mechanism for reducing poverty.\n",
    "\n",
    "Though this sounds good on paper, personal allowance increases have been found not to be progressive in practice. There are two main reasons for this. Firstly, many of the UK’s poorest already fall below the personal allowance threshold, and raising the personal allowance does nothing for them. Rather, it exclusively helps higher income earners who make above the threshold and up to [£125,140](https://www.gov.uk/income-tax-rates/income-over-100000). Though some at the bottom of the income scale may benefit, the [overwhelming majority of the benefits do not go to them](https://leftfootforward.org/2013/03/the-10000-personal-tax-allowance-anything-but-progressive/) but to those more affluent.\n",
    "\n",
    "The second reason has to do with the phaseout of Universal Credit and similar means-tested benefits. Since Universal Credit phases out with respect to post-tax income, any tax reduction also reduces Universal Credit payments. As [explained](https://www.politics.co.uk/opinion-former/press-release/2018/10/29/personal-allowance-increase-does-little-for-those-on-lowest-income/) by Victoria Todd, Head of the Low Income Tax Reform Group, about the 2019 changes: \n",
    "\n",
    "> “[Universal credit recipients] will not see the full tax gain of £130 from the increase in the personal allowance; instead, they will only gain overall by £48.10, as their Universal Credit award will be reduced by £81.90. However, those earning above £11,850 who receive tax credits will benefit from the full £130 because tax credits are based on gross income.”\n",
    "\n",
    "Again, this means that higher earners benefit more than low-income earners from personal reform increases. In fact, according to the [Resolution Foundation](https://www.resolutionfoundation.org/app/uploads/2014/12/Missing-the-target1.pdf), the most recent increase of the personal allowance from £11,850 to £12,500.\n",
    "\n",
    "One last criticism of the personal allowance is that its phase-out creates an extremely high marginal tax rate of around 62% for those earning between £100,000 and £125,000. A more detailed analysis of this can be found in [our report modeling a blank slate UBI in the UK](https://d3n8a8pro7vhmx.cloudfront.net/socialliberalforum/pages/3398/attachments/original/1620835589/SLF_UBI_Center_Report_FINAL.pdf?1620835589)."
   ]
  },
  {
   "cell_type": "markdown",
   "id": "6fa6b389",
   "metadata": {},
   "source": [
    "#### Proposals regarding personal allowance and UBI"
   ]
  },
  {
   "cell_type": "markdown",
   "id": "16a69a31",
   "metadata": {},
   "source": [
    "These criticisms suggest that eliminating the personal allowance would only reduce the income of the UK’s poorest negligibly, while the more affluent would see a greater burden. This makes it a good candidate for helping fund a progressive UBI proposal.\n",
    "\n",
    "Both UK parties who have released UBI proposals have found a role for personal allowance to help fund their programs. The Liberal Democrats' [discussion paper](https://d3n8a8pro7vhmx.cloudfront.net/libdems/pages/1811/attachments/original/1621669347/145_-_Universal_Basic_Income.docx_%281%29.pdf?1621669347) proposes reducing the Personal Allowance to £2,500 a year or higher (see our [analysis](https://www.ubicenter.org/lib-dem-policy-paper) of that plan). Meanwhile, the Green Party states that in their model, UBI will be taxable, but [“all income tax payers will have a tax-free allowance which is the equivalent to their Universal Basic Income amount”](https://www.greenparty.ie/wp-content/uploads/2018/07/Green-Party-Universal-Basic-Income-Policy.pdf); this means that, in practice, the UBI would not be taxed and the personal allowance would effectively be eliminated. Both parties also include UBI when means-testing.\n",
    "\n",
    "In 2019, the New Economics Foundation [modeled](https://neweconomics.org/2019/03/nothing-personal) replacing the Personal Allowance with a Weekly National Allowance paid to adults and an increase in the Child Benefit, making the payments non-taxable but included in means tests, and found progressive results. Compass has also [modeled](https://www.compassonline.org.uk/wp-content/uploads/2019/03/Compass_BasicIncomeForAll_2019.pdf) replacing the personal allowance with a flat payment of £25 a week and found progressive results.\n",
    "\n",
    "In the following analysis, we will explore the effect of a UBI funded exclusively through the elimination of a personal allowance. The UBI amount in this simulation is equal for everyone, regardless of age or disability, and does not count towards taxation or means-testing."
   ]
  },
  {
   "cell_type": "markdown",
   "id": "5ed35c50",
   "metadata": {},
   "source": [
    "#### Our findings"
   ]
  },
  {
   "cell_type": "markdown",
   "id": "2b016e95",
   "metadata": {},
   "source": [
    "Fully repealing the personal allowance could fund a UBI of £1,488 per person. This policy would, in general, serve as an income transfer from the richest 40% to the poorest 60%. "
   ]
  },
  {
   "cell_type": "code",
   "execution_count": 1,
   "id": "1f382a6a",
   "metadata": {},
   "outputs": [
    {
     "name": "stderr",
     "output_type": "stream",
     "text": [
      "/Users/inesfernandez/opt/anaconda3/envs/openfisca/lib/python3.7/site-packages/openfisca_core/parameters/config.py:17: LibYAMLWarning: libyaml is not installed in your environment. This can make OpenFisca slower to start. Once you have installed libyaml, run 'pip uninstall pyyaml && pip install pyyaml --no-cache-dir' so that it is used in your Python environment.\n",
      "\n",
      "  warnings.warn(\" \".join(message), LibYAMLWarning)\n"
     ]
    }
   ],
   "source": [
    "# Setup\n",
    "from openfisca_uk import Microsimulation\n",
    "from openfisca_uk import *\n",
    "from openfisca_core.model_api import Reform\n",
    "from openfisca_uk.entities import Person, BenUnit, Household\n",
    "from openfisca_core.model_api import *\n",
    "from openfisca_uk.tools.general import *\n",
    "from ubicenter import format_fig\n",
    "import pandas as pd\n",
    "import plotly.express as px\n",
    "import plotly.io as pio\n",
    "pio.renderers.default = \"browser\"\n",
    "#change \"browser\" to \"notebook\" when working on non-ines computers\n",
    "\n",
    "#sim = Microsimulation(input_year=2020)\n",
    "sim = Microsimulation(year=2020)\n",
    "\n",
    "from openfisca_core import periods\n",
    "def make_PA_reform(PA_amount):\n",
    "    \n",
    "    def update_PA_parameter(parameters):\n",
    "        parameters.tax.income_tax.allowances.personal_allowance.amount.update(period=periods.period(\"year:2020:1\"), value=PA_amount)\n",
    "        return parameters\n",
    "    \n",
    "    class reform(Reform):\n",
    "        def apply(self):\n",
    "            self.modify_parameters(update_PA_parameter)\n",
    "    \n",
    "    #sim_less_PA = Microsimulation(reform, input_year=2020)\n",
    "    sim_less_PA = Microsimulation(reform, year=2020)\n",
    "\n",
    "    revenue = sim.calc(\"net_income\").sum()\n",
    "    revenue_diff = revenue - sim_less_PA.calc(\"net_income\").sum()\n",
    "    BI_amount = revenue_diff/(sim.calc(\"people\").sum())\n",
    "    \n",
    "    class BI(Variable):\n",
    "        value_type = float\n",
    "        entity = Person\n",
    "        label = u\"UBI\"\n",
    "        definition_period = YEAR\n",
    "        def formula(person, period, parameters):\n",
    "            return(BI_amount)\n",
    "\n",
    "        \n",
    "    class gross_income(Variable):\n",
    "        value_type = float\n",
    "        entity = Person\n",
    "        label = u\"Gross income, including benefits\"\n",
    "        definition_period = YEAR\n",
    "\n",
    "        def formula(person, period, parameters):\n",
    "            COMPONENTS = [\n",
    "                \"employment_income\",\n",
    "                \"pension_income\",\n",
    "                \"self_employment_income\",\n",
    "                \"property_income\",\n",
    "                \"savings_interest_income\",\n",
    "                \"dividend_income\",\n",
    "                \"miscellaneous_income\",\n",
    "                \"benefits\",\n",
    "                \"BI\"\n",
    "            ]\n",
    "            return add(person, period, COMPONENTS)   \n",
    "\n",
    "    class basic_income(Reform):\n",
    "        def apply(self):\n",
    "            self.add_variable(BI)\n",
    "            self.update_variable(gross_income)\n",
    "            \n",
    "    #sim_BI = Microsimulation(reform, basic_income, input_year=2020)\n",
    "    sim_BI = Microsimulation(reform, basic_income, year=2020)\n",
    "\n",
    "    #return sim_BI\n",
    "    return reform, basic_income\n",
    "\n",
    "#sim_BI = make_PA_reform(0)\n"
   ]
  },
  {
   "cell_type": "code",
   "execution_count": 2,
   "id": "11bdf33c",
   "metadata": {},
   "outputs": [
    {
     "ename": "TypeError",
     "evalue": "__init__() got an unexpected keyword argument 'input_year'",
     "output_type": "error",
     "traceback": [
      "\u001b[0;31m---------------------------------------------------------------------------\u001b[0m",
      "\u001b[0;31mTypeError\u001b[0m                                 Traceback (most recent call last)",
      "\u001b[0;32m<ipython-input-2-14b84ba5129b>\u001b[0m in \u001b[0;36m<module>\u001b[0;34m\u001b[0m\n\u001b[1;32m      2\u001b[0m \u001b[0mPA_amounts2\u001b[0m \u001b[0;34m=\u001b[0m \u001b[0;34m[\u001b[0m\u001b[0;36m0\u001b[0m\u001b[0;34m,\u001b[0m \u001b[0;36m500\u001b[0m\u001b[0;34m,\u001b[0m \u001b[0;36m1500\u001b[0m\u001b[0;34m,\u001b[0m \u001b[0;36m2500\u001b[0m\u001b[0;34m,\u001b[0m \u001b[0;36m3500\u001b[0m\u001b[0;34m,\u001b[0m \u001b[0;36m4500\u001b[0m\u001b[0;34m,\u001b[0m \u001b[0;36m5500\u001b[0m\u001b[0;34m,\u001b[0m \u001b[0;36m6500\u001b[0m\u001b[0;34m,\u001b[0m \u001b[0;36m7500\u001b[0m\u001b[0;34m,\u001b[0m \u001b[0;36m8500\u001b[0m\u001b[0;34m,\u001b[0m \u001b[0;36m9500\u001b[0m\u001b[0;34m,\u001b[0m \u001b[0;36m10500\u001b[0m\u001b[0;34m,\u001b[0m \u001b[0;36m11500\u001b[0m\u001b[0;34m,\u001b[0m \u001b[0;36m12500\u001b[0m\u001b[0;34m]\u001b[0m\u001b[0;34m\u001b[0m\u001b[0;34m\u001b[0m\u001b[0m\n\u001b[1;32m      3\u001b[0m \u001b[0mreform_list\u001b[0m \u001b[0;34m=\u001b[0m \u001b[0;34m[\u001b[0m\u001b[0mmake_PA_reform\u001b[0m\u001b[0;34m(\u001b[0m\u001b[0mi\u001b[0m\u001b[0;34m)\u001b[0m \u001b[0;32mfor\u001b[0m \u001b[0mi\u001b[0m \u001b[0;32min\u001b[0m \u001b[0mPA_amounts2\u001b[0m\u001b[0;34m]\u001b[0m\u001b[0;34m\u001b[0m\u001b[0;34m\u001b[0m\u001b[0m\n\u001b[0;32m----> 4\u001b[0;31m \u001b[0msim_list\u001b[0m \u001b[0;34m=\u001b[0m \u001b[0;34m[\u001b[0m\u001b[0mMicrosimulation\u001b[0m\u001b[0;34m(\u001b[0m\u001b[0mreform\u001b[0m\u001b[0;34m,\u001b[0m \u001b[0minput_year\u001b[0m\u001b[0;34m=\u001b[0m\u001b[0;36m2020\u001b[0m\u001b[0;34m)\u001b[0m \u001b[0;32mfor\u001b[0m \u001b[0mreform\u001b[0m \u001b[0;32min\u001b[0m \u001b[0mreform_list\u001b[0m\u001b[0;34m]\u001b[0m\u001b[0;34m\u001b[0m\u001b[0;34m\u001b[0m\u001b[0m\n\u001b[0m",
      "\u001b[0;32m<ipython-input-2-14b84ba5129b>\u001b[0m in \u001b[0;36m<listcomp>\u001b[0;34m(.0)\u001b[0m\n\u001b[1;32m      2\u001b[0m \u001b[0mPA_amounts2\u001b[0m \u001b[0;34m=\u001b[0m \u001b[0;34m[\u001b[0m\u001b[0;36m0\u001b[0m\u001b[0;34m,\u001b[0m \u001b[0;36m500\u001b[0m\u001b[0;34m,\u001b[0m \u001b[0;36m1500\u001b[0m\u001b[0;34m,\u001b[0m \u001b[0;36m2500\u001b[0m\u001b[0;34m,\u001b[0m \u001b[0;36m3500\u001b[0m\u001b[0;34m,\u001b[0m \u001b[0;36m4500\u001b[0m\u001b[0;34m,\u001b[0m \u001b[0;36m5500\u001b[0m\u001b[0;34m,\u001b[0m \u001b[0;36m6500\u001b[0m\u001b[0;34m,\u001b[0m \u001b[0;36m7500\u001b[0m\u001b[0;34m,\u001b[0m \u001b[0;36m8500\u001b[0m\u001b[0;34m,\u001b[0m \u001b[0;36m9500\u001b[0m\u001b[0;34m,\u001b[0m \u001b[0;36m10500\u001b[0m\u001b[0;34m,\u001b[0m \u001b[0;36m11500\u001b[0m\u001b[0;34m,\u001b[0m \u001b[0;36m12500\u001b[0m\u001b[0;34m]\u001b[0m\u001b[0;34m\u001b[0m\u001b[0;34m\u001b[0m\u001b[0m\n\u001b[1;32m      3\u001b[0m \u001b[0mreform_list\u001b[0m \u001b[0;34m=\u001b[0m \u001b[0;34m[\u001b[0m\u001b[0mmake_PA_reform\u001b[0m\u001b[0;34m(\u001b[0m\u001b[0mi\u001b[0m\u001b[0;34m)\u001b[0m \u001b[0;32mfor\u001b[0m \u001b[0mi\u001b[0m \u001b[0;32min\u001b[0m \u001b[0mPA_amounts2\u001b[0m\u001b[0;34m]\u001b[0m\u001b[0;34m\u001b[0m\u001b[0;34m\u001b[0m\u001b[0m\n\u001b[0;32m----> 4\u001b[0;31m \u001b[0msim_list\u001b[0m \u001b[0;34m=\u001b[0m \u001b[0;34m[\u001b[0m\u001b[0mMicrosimulation\u001b[0m\u001b[0;34m(\u001b[0m\u001b[0mreform\u001b[0m\u001b[0;34m,\u001b[0m \u001b[0minput_year\u001b[0m\u001b[0;34m=\u001b[0m\u001b[0;36m2020\u001b[0m\u001b[0;34m)\u001b[0m \u001b[0;32mfor\u001b[0m \u001b[0mreform\u001b[0m \u001b[0;32min\u001b[0m \u001b[0mreform_list\u001b[0m\u001b[0;34m]\u001b[0m\u001b[0;34m\u001b[0m\u001b[0;34m\u001b[0m\u001b[0m\n\u001b[0m",
      "\u001b[0;31mTypeError\u001b[0m: __init__() got an unexpected keyword argument 'input_year'"
     ]
    }
   ],
   "source": [
    "#Only run once \n",
    "PA_amounts2 = [0, 500, 1500, 2500, 3500, 4500, 5500, 6500, 7500, 8500, 9500, 10500, 11500, 12500]\n",
    "reform_list = [make_PA_reform(i) for i in PA_amounts2]\n",
    "#sim_list = [Microsimulation(reform, input_year=2020) for reform in reform_list]"
   ]
  },
  {
   "cell_type": "code",
   "execution_count": 3,
   "id": "aebef8ed-08f2-4d12-877d-f9f82041e99e",
   "metadata": {},
   "outputs": [],
   "source": [
    "sim_list = [Microsimulation(reform, year=2020) for reform in reform_list]"
   ]
  },
  {
   "cell_type": "code",
   "execution_count": 4,
   "id": "004b9477",
   "metadata": {},
   "outputs": [],
   "source": [
    "sim_BI = sim_list[0]"
   ]
  },
  {
   "cell_type": "code",
   "execution_count": null,
   "id": "e9094704",
   "metadata": {},
   "outputs": [],
   "source": [
    "#Average household income for children status quo\n",
    "CIB = sim.calc(\"household_net_income\", map_to=\"person\")[sim.calc(\"is_child\")].sum()/sim.calc(\"is_child\").sum()\n",
    "CIA = sim_BI.calc(\"household_net_income\", map_to=\"person\")[sim.calc(\"is_child\")].sum()/sim.calc(\"is_child\").sum()\n",
    "CIA-CIB\n",
    "CIB"
   ]
  },
  {
   "cell_type": "code",
   "execution_count": null,
   "id": "b461e58a",
   "metadata": {},
   "outputs": [],
   "source": [
    "#Average household income for children status quo\n",
    "CIA = sim_BI.calc(\"household_net_income\", map_to=\"person\")[sim.calc(\"is_child\")].sum()/sim.calc(\"is_child\").sum()\n",
    "CIA"
   ]
  },
  {
   "cell_type": "code",
   "execution_count": null,
   "id": "a02c2106",
   "metadata": {},
   "outputs": [],
   "source": [
    "CIA-CIB"
   ]
  },
  {
   "cell_type": "code",
   "execution_count": 55,
   "id": "176f5b9b",
   "metadata": {},
   "outputs": [],
   "source": [
    "income_diff = sim_BI.calc(\"household_net_income\") - sim.calc(\"household_net_income\")\n",
    "income = sim.calc(\"equiv_household_net_income\")"
   ]
  },
  {
   "cell_type": "code",
   "execution_count": 2,
   "id": "eeac3b58-1aa2-4314-adfa-05c171be17b1",
   "metadata": {},
   "outputs": [
    {
     "ename": "NameError",
     "evalue": "name 'sim_BI' is not defined",
     "output_type": "error",
     "traceback": [
      "\u001b[0;31m---------------------------------------------------------------------------\u001b[0m",
      "\u001b[0;31mNameError\u001b[0m                                 Traceback (most recent call last)",
      "\u001b[0;32m<ipython-input-2-55b77585756b>\u001b[0m in \u001b[0;36m<module>\u001b[0;34m\u001b[0m\n\u001b[0;32m----> 1\u001b[0;31m \u001b[0min2\u001b[0m \u001b[0;34m=\u001b[0m \u001b[0msim_BI\u001b[0m\u001b[0;34m.\u001b[0m\u001b[0mcalc\u001b[0m\u001b[0;34m(\u001b[0m\u001b[0;34m\"household_net_income\"\u001b[0m\u001b[0;34m,\u001b[0m \u001b[0mmap_to\u001b[0m\u001b[0;34m=\u001b[0m\u001b[0;34m\"person\"\u001b[0m\u001b[0;34m)\u001b[0m \u001b[0;34m-\u001b[0m \u001b[0msim\u001b[0m\u001b[0;34m.\u001b[0m\u001b[0mcalc\u001b[0m\u001b[0;34m(\u001b[0m\u001b[0;34m\"household_net_income\"\u001b[0m\u001b[0;34m,\u001b[0m \u001b[0mmap_to\u001b[0m\u001b[0;34m=\u001b[0m\u001b[0;34m\"person\"\u001b[0m\u001b[0;34m)\u001b[0m\u001b[0;34m\u001b[0m\u001b[0;34m\u001b[0m\u001b[0m\n\u001b[0m",
      "\u001b[0;31mNameError\u001b[0m: name 'sim_BI' is not defined"
     ]
    }
   ],
   "source": [
    "in2 = sim_BI.calc(\"household_net_income\", map_to=\"person\") - sim.calc(\"household_net_income\", map_to=\"person\")"
   ]
  },
  {
   "cell_type": "code",
   "execution_count": 88,
   "id": "a530ac6f-3bcc-4c45-835a-783a6c17588d",
   "metadata": {},
   "outputs": [
    {
     "data": {
      "text/plain": [
       "33975312.0"
      ]
     },
     "execution_count": 88,
     "metadata": {},
     "output_type": "execute_result"
    }
   ],
   "source": [
    "(in2>0).sum()"
   ]
  },
  {
   "cell_type": "code",
   "execution_count": 89,
   "id": "46fda750-a6e4-445c-8e17-6d841c08f0c7",
   "metadata": {},
   "outputs": [
    {
     "data": {
      "text/plain": [
       "65478555.0"
      ]
     },
     "execution_count": 89,
     "metadata": {},
     "output_type": "execute_result"
    }
   ],
   "source": [
    "in2.count()"
   ]
  },
  {
   "cell_type": "code",
   "execution_count": 90,
   "id": "1aaf82e0-5837-4fa6-bfe8-4a30fd735deb",
   "metadata": {},
   "outputs": [
    {
     "data": {
      "text/plain": [
       "51.887693612053596"
      ]
     },
     "execution_count": 90,
     "metadata": {},
     "output_type": "execute_result"
    }
   ],
   "source": [
    "(in2>0).sum()/in2.count() * 100"
   ]
  },
  {
   "cell_type": "code",
   "execution_count": 67,
   "id": "039bdfd1",
   "metadata": {},
   "outputs": [],
   "source": [
    "def find_income_diff_deciles(sim_BI):\n",
    "    income_diff = sim_BI.calc(\"household_net_income\") - sim.calc(\"household_net_income\")\n",
    "    income_diff_decile = income_diff.groupby(income.decile_rank()).mean().round()\n",
    "    return income_diff_decile\n",
    "\n",
    "PA_amounts = [12500, 11500, 10500, 9500, 8500, 7500, 6500, 5500, 4500, 3500, 2500, 1500, 500, 0]\n",
    "PA_amounts2 = [0, 500, 1500, 2500, 3500, 4500, 5500, 6500, 7500, 8500, 9500, 10500, 11500, 12500]"
   ]
  },
  {
   "cell_type": "code",
   "execution_count": 61,
   "id": "ab8ec61f-1720-41c5-b973-a9bb82c8e204",
   "metadata": {},
   "outputs": [],
   "source": [
    "def decile_diff_ag(sim_BI):\n",
    "    gains_by_decile = []\n",
    "    x2 = sim_BI.calc(\"household_net_income\") - sim.calc(\"household_net_income\")\n",
    "    for n in range(1, 11):\n",
    "        values = x2[income.decile_rank() == n]\n",
    "        mean = values.sum()/values.count()\n",
    "        gains_by_decile.append(mean)\n",
    "    return gains_by_decile"
   ]
  },
  {
   "cell_type": "code",
   "execution_count": null,
   "id": "14597387",
   "metadata": {},
   "outputs": [],
   "source": [
    "#Decile impact (scrollable)\n",
    "df_list = []\n",
    "sim_num = 0\n",
    "deciles = [0, 1, 2, 3, 4, 5, 6, 7, 8, 9, 10]\n",
    "for i in PA_amounts2:\n",
    "    df = pd.DataFrame({\"decile\": deciles[1:], \"Change in income\": find_income_diff_deciles(sim_list[sim_num]), \"PA amount\": i})\n",
    "    df_list.append(df)\n",
    "    sim_num += 1\n",
    "    \n",
    "final_df = pd.concat(df_list)\n",
    "format_fig(px.bar(final_df, x=\"decile\", y=\"Change in income\", animation_frame=\"PA amount\", range_y=[-2500,2500],\n",
    "                 hover_data={\"PA amount\": False, \"decile\": False}).update_layout(\n",
    "    title_text='Effect of replacing personal allowance with UBI on net income by decile',\n",
    "    xaxis_title =\"Equivalized household net income decile\",\n",
    "    yaxis_title =\"Change in household net income\",\n",
    "    showlegend= False,\n",
    "    yaxis_tickprefix=\"£\",\n",
    "    #hovermode=\"y unified\",\n",
    ").update_traces(marker_color='#1976D2'))"
   ]
  },
  {
   "cell_type": "code",
   "execution_count": 63,
   "id": "331f4908-58ed-4cdc-9362-514fe4489a93",
   "metadata": {},
   "outputs": [],
   "source": [
    "#Aggregate version\n",
    "df_list = []\n",
    "sim_num = 0\n",
    "deciles = [0, 1, 2, 3, 4, 5, 6, 7, 8, 9, 10]\n",
    "for i in PA_amounts2:\n",
    "    df = pd.DataFrame({\"decile\": deciles[1:], \"Change in income\": decile_diff_ag(sim_list[sim_num]), \"PA amount\": i})\n",
    "    df_list.append(df)\n",
    "    sim_num += 1\n",
    "    \n",
    "final_df = pd.concat(df_list)\n",
    "format_fig(px.bar(final_df, x=\"decile\", y=\"Change in income\", animation_frame=\"PA amount\", range_y=[-2500,2500],\n",
    "                 hover_data={\"PA amount\": False, \"decile\": False}).update_layout(\n",
    "    title_text='Effect of replacing personal allowance with UBI on net income by decile',\n",
    "    xaxis_title =\"Equivalized household net income decile\",\n",
    "    yaxis_title =\"Change in household net income\",\n",
    "    showlegend= False,\n",
    "    yaxis_tickprefix=\"£\",\n",
    "    #hovermode=\"y unified\",\n",
    ").update_traces(marker_color='#1976D2'))"
   ]
  },
  {
   "cell_type": "code",
   "execution_count": 71,
   "id": "3161cfff",
   "metadata": {},
   "outputs": [],
   "source": [
    "#Percent version (not ag)\n",
    "def decile_diff_ag(sim_BI):\n",
    "    percent_gains_by_decile = []\n",
    "    x2 = sim_BI.calc(\"household_net_income\") - sim.calc(\"household_net_income\")\n",
    "    for n in range(1, 11):\n",
    "        og_income = sim.calc(\"household_net_income\")[income.decile_rank() == n].sum()/sim.calc(\"household_net_income\")[income.decile_rank() == n].count()\n",
    "        values = x2[income.decile_rank() == n]\n",
    "        mean = values.sum()/values.count()\n",
    "        mean_percent = mean/og_income * 100\n",
    "        percent_gains_by_decile.append(mean_percent)\n",
    "    return percent_gains_by_decile\n",
    "\n",
    "df_list = []\n",
    "sim_num = 0\n",
    "for i in PA_amounts2:\n",
    "    df = pd.DataFrame({\"decile\": deciles[1:], \"Change in income\": decile_diff_ag(sim_list[sim_num]), \"PA amount\": i})\n",
    "    df_list.append(df)\n",
    "    sim_num += 1\n",
    "    \n",
    "final_df = pd.concat(df_list)\n",
    "format_fig(px.bar(final_df, x=\"decile\", y=\"Change in income\", animation_frame=\"PA amount\", range_y=[-4,27],\n",
    "                 hover_data={\"PA amount\": False, \"decile\": False}).update_layout(\n",
    "    title_text='Effect of replacing personal allowance with UBI on net income by decile',\n",
    "    xaxis_title =\"Equivalized household net income decile\",\n",
    "    yaxis_title =\"Percentage change in household net income\",\n",
    "    showlegend= False,\n",
    "    yaxis_ticksuffix=\"%\",\n",
    "    #hovermode=\"y unified\",\n",
    ").update_traces(marker_color='#1976D2'))"
   ]
  },
  {
   "cell_type": "code",
   "execution_count": 69,
   "id": "729118af-f30f-445f-8c0f-7411a3c79dcd",
   "metadata": {},
   "outputs": [],
   "source": [
    "def decile_diff_ag_percent(sim_BI):\n",
    "    for n in range\n",
    "    total = sim.calc(\"household_net_income\")[income.decile_rank()==n].sum()\n",
    "    \n",
    "    return (decile_diff_ag(sim_BI)/income.groupby(income.decile_rank()).mean()) * 100\n",
    "    \n",
    "df_list = []\n",
    "sim_num = 0\n",
    "for i in PA_amounts2:\n",
    "    df = pd.DataFrame({\"decile\": deciles[1:], \"Change in income\": decile_diff_ag_percent(sim_list[sim_num]), \"PA amount\": i})\n",
    "    df_list.append(df)\n",
    "    sim_num += 1\n",
    "    \n",
    "final_df = pd.concat(df_list)\n",
    "format_fig(px.bar(final_df, x=\"decile\", y=\"Change in income\", animation_frame=\"PA amount\", range_y=[-4,25],\n",
    "                 hover_data={\"PA amount\": False, \"decile\": False}).update_layout(\n",
    "    title_text='Effect of replacing personal allowance with UBI on net income by decile',\n",
    "    xaxis_title =\"Equivalized household net income decile\",\n",
    "    yaxis_title =\"Percentage change in household net income\",\n",
    "    showlegend= False,\n",
    "    yaxis_ticksuffix=\"%\",\n",
    "    #hovermode=\"y unified\",\n",
    ").update_traces(marker_color='#1976D2'))"
   ]
  },
  {
   "cell_type": "code",
   "execution_count": null,
   "id": "6f258c5d",
   "metadata": {},
   "outputs": [],
   "source": [
    "#Decile impact (not scrollable)\n",
    "chart1 = format_fig(px.bar(income_diff.groupby(income.decile_rank()).mean().round(), labels={\"index\": \"decile\", \"value\":\"change in income\"},\n",
    "                          hover_data={\"variable\": False}).update_layout(\n",
    "    title_text='Average change in equivalized household net income for each income decile',\n",
    "    xaxis_title =\"Household income decile\",\n",
    "    yaxis_title =\"Change in equivalized household net income\",\n",
    "    showlegend= False,\n",
    "    yaxis_tickprefix=\"£\",\n",
    "))"
   ]
  },
  {
   "cell_type": "markdown",
   "id": "b01960a6",
   "metadata": {},
   "source": [
    "Median household income would increase by about £564, and this number is over five times greater for those living in poverty."
   ]
  },
  {
   "cell_type": "code",
   "execution_count": null,
   "id": "fca69150",
   "metadata": {},
   "outputs": [],
   "source": [
    "#Median difference in household net income for different poverty groups (not scrollable)\n",
    "effect = sim_BI.calc(\"household_net_income\", map_to=\"person\") - sim.calc(\"household_net_income\", map_to=\"person\")\n",
    "isDeepPoor = sim.calc(\"in_deep_poverty_bhc\", map_to =\"person\")\n",
    "isPoor = sim.calc(\"in_poverty_bhc\", map_to = \"person\") & ~isDeepPoor\n",
    "#isPoor excludes those in deep poverty\n",
    "overall = sim_BI.calc(\"household_net_income\").median() - sim.calc(\"household_net_income\").median()\n",
    "\n",
    "chart2 = format_fig(px.bar(x=[\"Deep poverty\", \"In poverty, but not deep\", \"Not in poverty\", \"Overall\"], \n",
    "                           y=[effect[isDeepPoor].median().round(), effect[isPoor].median().round(), effect[~isPoor].median().round(), overall],\n",
    "                          labels={\"x\": \"poverty status\", \"y\":\"gain in income\"}).update_layout(\n",
    "    title_text='Median gain in household net income for different poverty groups',\n",
    "    xaxis_title =\"Group\",\n",
    "    yaxis_title =\"Median gain in household net income\",\n",
    "    yaxis_tickprefix=\"£\",\n",
    "))"
   ]
  },
  {
   "cell_type": "code",
   "execution_count": null,
   "id": "b37669b0",
   "metadata": {},
   "outputs": [],
   "source": [
    "#Calculate mean difference in household net income for different poverty groups\n",
    "effect = sim_BI.calc(\"household_net_income\", map_to=\"person\") - sim.calc(\"household_net_income\", map_to=\"person\")\n",
    "\n",
    "def find_DP(sim_BI):\n",
    "    effect = sim_BI.calc(\"household_net_income\", map_to=\"person\") - sim.calc(\"household_net_income\", map_to=\"person\")\n",
    "    isDeepPoor = sim.calc(\"in_deep_poverty_bhc\", map_to =\"person\")\n",
    "    return effect[isDeepPoor].median().round()\n",
    "\n",
    "def find_pov(sim_BI):\n",
    "    effect = sim_BI.calc(\"household_net_income\", map_to=\"person\") - sim.calc(\"household_net_income\", map_to=\"person\")\n",
    "    isPoor = sim.calc(\"in_poverty_bhc\", map_to = \"person\") & ~isDeepPoor\n",
    "    return effect[isPoor].median().round()\n",
    "\n",
    "#Unused\n",
    "def find_not_pov(sim_BI):\n",
    "    effect = sim_BI.calc(\"household_net_income\", map_to=\"person\") - sim.calc(\"household_net_income\", map_to=\"person\")\n",
    "    return effect[~isPoor].median().round()\n",
    "\n",
    "def find_overall(sim_BI):\n",
    "    effect = sim_BI.calc(\"household_net_income\", map_to=\"person\") - sim.calc(\"household_net_income\", map_to=\"person\")\n",
    "    return sim_BI.calc(\"household_net_income\").median().round() - sim.calc(\"household_net_income\").median().round()"
   ]
  },
  {
   "cell_type": "code",
   "execution_count": null,
   "id": "b7eed419",
   "metadata": {},
   "outputs": [],
   "source": [
    "#Median difference in household net income for different poverty groups (scrollable)\n",
    "isDeepPoor = sim.calc(\"in_deep_poverty_bhc\", map_to =\"person\")\n",
    "isPoor = sim.calc(\"in_poverty_bhc\", map_to = \"person\") & ~isDeepPoor\n",
    "df_list = []\n",
    "sim_num = 0\n",
    "poverty_types = [\"Deep poverty\", \"Poverty, not deep\", \"Overall\"]\n",
    "\n",
    "#df = pd.DataFrame({\"deciles\": deciles[1:], \"changes\": find_income_diff_deciles(sim_list[sim_num]), \"PA amount\": i})\n",
    "for i in PA_amounts2:\n",
    "    changes = pd.Series([find_DP(sim_list[sim_num]), find_pov(sim_list[sim_num]), find_overall(sim_list[sim_num])])\n",
    "    df = pd.DataFrame({\"Poverty group\": poverty_types, \"Income gain\": changes, \"PA amount\": i})\n",
    "    df_list.append(df)\n",
    "    sim_num += 1\n",
    "\n",
    "\n",
    "final_df = pd.concat(df_list)\n",
    "final_df\n",
    "format_fig(px.bar(final_df, x=\"Poverty group\", y=\"Income gain\", animation_frame=\"PA amount\", range_y=[0,3500],\n",
    "                 hover_data={\"PA amount\": False, \"Poverty group\": False}).update_layout(\n",
    "    title_text='Change to net income from replacing personal allowance with UBI by poverty status',\n",
    "    xaxis_title =\"\",\n",
    "    yaxis_title =\"Median gain in household net income\",\n",
    "    yaxis_tickprefix=\"£\",\n",
    "    ).update_traces(marker_color='#1976D2'))\n"
   ]
  },
  {
   "cell_type": "markdown",
   "id": "a32c110d",
   "metadata": {},
   "source": [
    "The policy would reduce poverty by 29% and deep poverty (people living at under half the poverty line) by 46%."
   ]
  },
  {
   "cell_type": "code",
   "execution_count": 10,
   "id": "b2b0982f",
   "metadata": {},
   "outputs": [],
   "source": [
    "#Reductions in poverty rates (not scrollable)\n",
    "\n",
    "import plotly.graph_objects as go\n",
    "\n",
    "poverty_before = sim.calc(\"in_poverty_bhc\", map_to=\"person\").sum()/sim.calc(\"people\").sum() * 100\n",
    "poverty_now = sim_BI.calc(\"in_poverty_bhc\", map_to=\"person\").sum()/sim.calc(\"people\").sum() * 100\n",
    "\n",
    "deep_poverty_before = sim.calc(\"in_deep_poverty_bhc\", map_to=\"person\").sum()/sim.calc(\"people\").sum() * 100\n",
    "deep_poverty_now = sim_BI.calc(\"in_deep_poverty_bhc\", map_to=\"person\").sum()/sim.calc(\"people\").sum() * 100\n",
    "\n",
    "poverty_types=['Poverty', \"Deep poverty\"]\n",
    "\n",
    "chart3 = format_fig(go.Figure(data=[\n",
    "    go.Bar(name='Before reform', x=poverty_types, y=[poverty_before.round(), deep_poverty_before.round()], marker_color='gray'),\n",
    "    go.Bar(name='After reform', x=poverty_types, y=[poverty_now.round(), deep_poverty_now.round()], marker_color='rgb(26, 118, 255)')\n",
    "]).update_layout(\n",
    "    barmode='group', \n",
    "    title_text='Poverty rates before and after reform', \n",
    "    xaxis_title =\"Poverty type\",\n",
    "    yaxis_title =\"Rate\",\n",
    "    yaxis_ticksuffix=\"%\", ))"
   ]
  },
  {
   "cell_type": "code",
   "execution_count": null,
   "id": "fe17de12",
   "metadata": {},
   "outputs": [],
   "source": [
    "#Reductions in poverty rates (scrollable)\n",
    "poverty_types= pd.Series(['Poverty', \"Deep poverty\"])\n",
    "df_list = []\n",
    "sim_num = 0\n",
    "def find_pov_change(sim_BI):\n",
    "    #return sim_BI.calc(\"in_poverty_bhc\", map_to=\"person\").sum()/sim.calc(\"people\").sum() * 100\n",
    "    return (sim.calc(\"in_poverty_bhc\", map_to=\"person\").sum() - sim_BI.calc(\"in_poverty_bhc\", map_to=\"person\").sum())/sim.calc(\"in_poverty_bhc\", map_to=\"person\").sum() * -100 \n",
    "\n",
    "def find_deep_pov_change(sim_BI):\n",
    "    #return sim_BI.calc(\"in_deep_poverty_bhc\", map_to=\"person\").sum()/sim.calc(\"people\").sum() * 100\n",
    "    return (sim.calc(\"in_deep_poverty_bhc\", map_to=\"person\").sum() - sim_BI.calc(\"in_deep_poverty_bhc\", map_to=\"person\").sum())/sim.calc(\"in_deep_poverty_bhc\", map_to=\"person\").sum() * -100 \n",
    "\n",
    "\n",
    "for i in PA_amounts2:\n",
    "#if change to PA_amounts, sim_list needs to be parsed backwards (sim_list.length - sim_num)\n",
    "    changes = pd.Series([find_pov_change(sim_list[sim_num]), find_deep_pov_change(sim_list[sim_num])])\n",
    "    df = pd.DataFrame({\"Poverty type\": poverty_types, \"Poverty rate\": changes, \"PA amount\": i})\n",
    "    df_list.append(df)\n",
    "    sim_num += 1\n",
    "    \n",
    "final_df = pd.concat(df_list)\n",
    "format_fig(px.bar(final_df, x=\"Poverty type\", y=\"Poverty rate\", animation_frame=\"PA amount\", range_y=[-50, 0],\n",
    "                 hover_data={\"PA amount\": False, \"Poverty type\": False}).update_layout(\n",
    "    title_text='Poverty decrease at different levels of peronal allowance', \n",
    "    xaxis_title =\"Poverty type\",\n",
    "    yaxis_title =\"Poverty decrease\",\n",
    "    yaxis_ticksuffix=\"%\",\n",
    "    ).update_traces(marker_color='#1976D2'))"
   ]
  },
  {
   "cell_type": "markdown",
   "id": "cce18afb",
   "metadata": {},
   "source": [
    "Part of the results above are explained by the fact that poor households tend to have more children and would therefore receive more UBI checks per household. Similarly, households in deep poverty tend to have fewer children than other poor households, which explains why the median gain is slightly less for this group."
   ]
  },
  {
   "cell_type": "code",
   "execution_count": null,
   "id": "2bf36ce5",
   "metadata": {},
   "outputs": [],
   "source": [
    "#Mean income difference grouped by family type (not scrollable)\n",
    "person_income_diff = sim_BI.calc(\"net_income\") - sim.calc(\"net_income\")\n",
    "family = sim.calc(\"family_type\", map_to = \"person\")\n",
    "\n",
    "income_diff_by_family = person_income_diff.groupby(family).mean()\n",
    "\n",
    "chart6 = format_fig(px.bar(x=[\"Couple without children\", \"Couple with children\", \"Single parent\", \"Single individual\"], \n",
    "                           y=income_diff_by_family.round(),\n",
    "                          labels={\"x\": \"family type\", \"y\":\"change in income\"}).update_layout(\n",
    "    title_text='Average change in net income grouped by family type',\n",
    "    yaxis_title=\"Change in net income\",\n",
    "    xaxis_title=\"Family type\",\n",
    "    yaxis_tickprefix=\"£\"\n",
    "))"
   ]
  },
  {
   "cell_type": "code",
   "execution_count": null,
   "id": "c0f13b3a",
   "metadata": {},
   "outputs": [],
   "source": [
    "#Mean income difference grouped by family type (scrollable)\n",
    "\n",
    "family_type = pd.Series([\"Couple without children\", \"Couple with children\", \"Single parent\", \"Single individual\"])\n",
    "df_list = []\n",
    "sim_num = 0\n",
    "def find_fam_diff(sim_BI): \n",
    "    person_income_diff = sim_BI.calc(\"net_income\") - sim.calc(\"net_income\")\n",
    "    family = sim.calc(\"family_type\", map_to = \"person\")\n",
    "    income_diff_by_family = person_income_diff.groupby(family).mean().reset_index(drop = True)\n",
    "    return income_diff_by_family.round()\n",
    "\n",
    "for i in PA_amounts2:\n",
    "    df = pd.DataFrame({\"Family type\": family_type, \"Income change\": find_fam_diff(sim_list[sim_num]), \"PA amount\": i})\n",
    "    df_list.append(df)\n",
    "    sim_num += 1\n",
    "\n",
    "\n",
    "final_df = pd.concat(df_list)\n",
    "final_df\n",
    "format_fig(px.bar(final_df, x=\"Family type\", y=\"Income change\", animation_frame=\"PA amount\", range_y=[-750,1100],\n",
    "                 hover_data={\"PA amount\": False, \"Family type\": False}).update_layout(\n",
    "    title_text='Average change in net income grouped by family type',\n",
    "    yaxis_title=\"Change in net income\",\n",
    "    xaxis_title=\"\",\n",
    "    yaxis_tickprefix=\"£\"\n",
    "    ).update_traces(marker_color='#1976D2'))"
   ]
  },
  {
   "cell_type": "markdown",
   "id": "2e7284e0",
   "metadata": {},
   "source": [
    "In fact, this policy would benefit children more than any other group, as children do not lose income to a personal allowance decrease, and exclusively gain from the UBI amount given to them. Child poverty would fall 51%, compared to % for adult poverty. "
   ]
  },
  {
   "cell_type": "code",
   "execution_count": null,
   "id": "d37fc974",
   "metadata": {},
   "outputs": [],
   "source": [
    "#Age poverty reductions (not scrollable)\n",
    "\n",
    "#Child poverty reduction\n",
    "poor_kids_before = sim.calc(\"in_poverty_bhc\", map_to=\"person\")[sim.calc(\"is_child\")].sum()\n",
    "poor_kids_after = sim_BI.calc(\"in_poverty_bhc\", map_to=\"person\")[sim_BI.calc(\"is_child\")].sum()\n",
    "child_pov_reduction = ((poor_kids_before - poor_kids_after)/poor_kids_before) * 100\n",
    "\n",
    "#Percentage of poverty reduction for adults only\n",
    "poor_adults_before = sim.calc(\"in_poverty_bhc\", map_to=\"person\")[sim.calc(\"is_adult\")].sum()\n",
    "poor_adults_after = sim_BI.calc(\"in_poverty_bhc\", map_to=\"person\")[sim_BI.calc(\"is_adult\")].sum()\n",
    "adult_pov_reduction = ((poor_adults_before - poor_adults_after)/poor_adults_before) * 100\n",
    "\n",
    "#Overall\n",
    "poverty_difference = sim_BI.calc(\"in_poverty_bhc\", map_to=\"person\").sum() - sim.calc(\"in_poverty_bhc\", map_to=\"person\").sum()\n",
    "overall_reduction = (poverty_difference/sim.calc(\"in_poverty_bhc\", map_to=\"person\").sum()) * -100\n",
    "\n",
    "chart5 = format_fig(px.bar(x=[\"Children\", \"Adults\", \"Overall\"], y=[-child_pov_reduction.round(), -adult_pov_reduction.round(), -overall_reduction.round()],\n",
    "                          labels={\"x\": \"age group\", \"y\":\"poverty reduction\"}).update_layout(\n",
    "    title_text='Poverty changes by age group',\n",
    "    yaxis_title=\"Reduction in poverty\",\n",
    "    xaxis_title=\"Age group\",\n",
    "    yaxis_ticksuffix=\"%\"\n",
    "))"
   ]
  },
  {
   "cell_type": "code",
   "execution_count": null,
   "id": "a7dff3c8",
   "metadata": {},
   "outputs": [],
   "source": [
    "#Age poverty reductions (scrollable)\n",
    "age_group = pd.Series([\"Children\", \"Adults\", \"Overall\"])\n",
    "df_list = []\n",
    "sim_num = 0\n",
    "def find_child_pov(sim_BI):\n",
    "    poor_kids_before = sim.calc(\"in_poverty_bhc\", map_to=\"person\")[sim.calc(\"is_child\")].sum()\n",
    "    poor_kids_after = sim_BI.calc(\"in_poverty_bhc\", map_to=\"person\")[sim_BI.calc(\"is_child\")].sum()\n",
    "    child_pov_reduction = (((poor_kids_before - poor_kids_after)/poor_kids_before) * -100).round()\n",
    "    return child_pov_reduction\n",
    "\n",
    "def find_adult_pov(sim_BI):\n",
    "    poor_adults_before = sim.calc(\"in_poverty_bhc\", map_to=\"person\")[sim.calc(\"is_adult\")].sum()\n",
    "    poor_adults_after = sim_BI.calc(\"in_poverty_bhc\", map_to=\"person\")[sim_BI.calc(\"is_adult\")].sum()\n",
    "    adult_pov_reduction = (((poor_adults_before - poor_adults_after)/poor_adults_before) * -100).round()\n",
    "    return adult_pov_reduction\n",
    "\n",
    "def find_overall_pov(sim_BI):\n",
    "    poverty_difference = sim_BI.calc(\"in_poverty_bhc\", map_to=\"person\").sum() - sim.calc(\"in_poverty_bhc\", map_to=\"person\").sum()\n",
    "    overall_reduction = ((poverty_difference/sim.calc(\"in_poverty_bhc\", map_to=\"person\").sum()) * 100).round()\n",
    "    return overall_reduction\n",
    "\n",
    "for i in PA_amounts2:\n",
    "    changes = pd.Series([find_child_pov(sim_list[sim_num]), find_adult_pov(sim_list[sim_num]), find_overall_pov(sim_list[sim_num])])\n",
    "    df = pd.DataFrame({\"Age group\": age_group, \"Poverty change\": changes, \"PA amount\": i})\n",
    "    df_list.append(df)\n",
    "    sim_num += 1\n",
    "\n",
    "\n",
    "final_df = pd.concat(df_list)\n",
    "#final_df\n",
    "format_fig(px.bar(final_df, x=\"Age group\", y=\"Poverty change\", animation_frame=\"PA amount\", range_y=[-60,0],\n",
    "                 hover_data={\"PA amount\": False, \"Age group\": False}).update_layout(\n",
    "    title_text='Poverty changes by age group',\n",
    "    yaxis_title=\"Reduction in poverty\",\n",
    "    xaxis_title=\"\",\n",
    "    yaxis_ticksuffix=\"%\"\n",
    "    ).update_traces(marker_color='#1976D2'))"
   ]
  },
  {
   "cell_type": "code",
   "execution_count": null,
   "id": "990cae3b",
   "metadata": {},
   "outputs": [],
   "source": [
    "#Average children per household for each poverty group\n",
    "isDeepPoor = sim.calc(\"in_deep_poverty_bhc\")\n",
    "isPoor = sim.calc(\"in_poverty_bhc\") & ~isDeepPoor\n",
    "isNotPoor = ~isPoor & ~isDeepPoor\n",
    "\n",
    "poor_kids = sim.calc(\"num_children\", map_to=\"household\")[isPoor].mean()\n",
    "deep_poor_kids = sim.calc(\"num_children\", map_to=\"household\")[isDeepPoor].mean()\n",
    "not_poor_kids = sim.calc(\"num_children\", map_to=\"household\")[isNotPoor].mean()\n",
    "format_fig(px.bar(x=[\"Deep poverty\", \"In poverty, but not deep\", \"Not in poverty\"], y=[deep_poor_kids.round(2), poor_kids.round(2), not_poor_kids.round(2)],\n",
    "                 labels={\"y\":\"Average children\", \"x\": \"Household type\"}).update_layout(\n",
    "   #remove x label\n",
    "    title_text=\"Children per household by poverty status\",\n",
    "    yaxis_title=\"Average number of children\",\n",
    "    xaxis_title=\"\").update_traces(marker_color='#1976D2'))"
   ]
  },
  {
   "cell_type": "markdown",
   "id": "ecd7e145",
   "metadata": {},
   "source": [
    "As shown below, this would largely serve as an income transfer from adults to children."
   ]
  },
  {
   "cell_type": "code",
   "execution_count": null,
   "id": "7a40dd25",
   "metadata": {},
   "outputs": [],
   "source": [
    "#Mean difference in household income by age (not scrollable)\n",
    "income_diff_2 = sim_BI.calc(\"household_net_income\", map_to=\"person\") - sim.calc(\"household_net_income\", map_to=\"person\")\n",
    "age = sim.calc(\"age\", map_to =\"person\")\n",
    "chart4 = format_fig(px.bar(income_diff_2.groupby(age).mean().round(), labels={\"index\": \"age\", \"value\":\"change in income\"},\n",
    "                          hover_data={\"variable\": False}).update_layout(\n",
    "    title_text='Average change in household net income by age',\n",
    "    yaxis_title=\"Change in household net income\",\n",
    "    yaxis_tickprefix=\"£\",\n",
    "    xaxis_title=\"Age\",\n",
    "    showlegend= False,\n",
    "))"
   ]
  },
  {
   "cell_type": "code",
   "execution_count": null,
   "id": "4648f223",
   "metadata": {},
   "outputs": [],
   "source": [
    "#Mean difference in household income by age (calc, doesnt work)\n",
    "income_diff = sim_BI.calc(\"equiv_household_net_income\") - sim.calc(\"equiv_household_net_income\")\n",
    "income = sim.calc(\"equiv_household_net_income\")\n",
    "age = sim.calc(\"age\", map_to =\"person\")\n",
    "\n",
    "ages = []\n",
    "for i in range(81):\n",
    "    ages.append(i)\n",
    "ages = pd.Series(ages)\n",
    "\n",
    "def find_income_diff2(sim_BI):\n",
    "    diffs = sim_BI.calc(\"household_net_income\", map_to=\"person\") - sim.calc(\"household_net_income\", map_to=\"person\")\n",
    "    return diffs.groupby(age).mean().round()"
   ]
  },
  {
   "cell_type": "code",
   "execution_count": null,
   "id": "6e77f80b",
   "metadata": {},
   "outputs": [],
   "source": [
    "#Mean difference in household income by age (scrollable, doesnt work)\n",
    "df_list = []\n",
    "sim_num = 0\n",
    "for i in PA_amounts2:\n",
    "    df = pd.DataFrame({\"Age\": ages, \"Income change\": find_income_diff2(sim_list[sim_num]), \"PA amount\": i})\n",
    "    df_list.append(df)\n",
    "    sim_num += 1\n",
    "    \n",
    "final_df = pd.concat(df_list)\n",
    "final_df\n",
    "format_fig(px.bar(final_df, x=\"Age\", y=\"Income change\", animation_frame=\"PA amount\", range_y=[-1100,3100],\n",
    "                 hover_data={\"PA amount\": False}).update_layout(\n",
    "    title_text='Average change in household net income by age',\n",
    "    yaxis_title=\"Change in household net income\",\n",
    "    yaxis_tickprefix=\"£\",\n",
    "    xaxis_title=\"Age\",\n",
    "    showlegend= False,\n",
    "    ).update_traces(marker_color='#1976D2'))"
   ]
  },
  {
   "cell_type": "code",
   "execution_count": 6,
   "id": "be63956d",
   "metadata": {},
   "outputs": [
    {
     "data": {
      "text/plain": [
       "0.36897356672624404"
      ]
     },
     "execution_count": 6,
     "metadata": {},
     "output_type": "execute_result"
    }
   ],
   "source": [
    "sim_BI.calc(\"household_net_income\", map_to=\"person\").gini()"
   ]
  },
  {
   "cell_type": "code",
   "execution_count": 7,
   "id": "2bf030a6-6f94-4139-81e5-58b8f0bafc23",
   "metadata": {},
   "outputs": [
    {
     "data": {
      "text/plain": [
       "0.38605364907997236"
      ]
     },
     "execution_count": 7,
     "metadata": {},
     "output_type": "execute_result"
    }
   ],
   "source": [
    "sim.calc(\"household_net_income\", map_to=\"person\").gini()"
   ]
  },
  {
   "cell_type": "code",
   "execution_count": 9,
   "id": "f95cccb2-16c7-4d25-8dc5-79e425e08838",
   "metadata": {},
   "outputs": [
    {
     "data": {
      "text/plain": [
       "0.3961492269745169"
      ]
     },
     "execution_count": 9,
     "metadata": {},
     "output_type": "execute_result"
    }
   ],
   "source": [
    "sim_no_PA.calc(\"household_net_income\", map_to=\"person\").gini()"
   ]
  },
  {
   "cell_type": "code",
   "execution_count": null,
   "id": "0e9a9b09-d711-4048-9c26-3528164b4a00",
   "metadata": {},
   "outputs": [],
   "source": [
    "#Mean difference in household income by age (calc, works)\n",
    "ages = []\n",
    "for i in range(81):\n",
    "    ages.append(i)\n",
    "ages = pd.Series(ages)\n",
    "\n",
    "def income_by_age(sim_BI):\n",
    "    gains_by_age = []\n",
    "    x1 = sim_BI.calc(\"household_net_income\", map_to=\"person\") - sim.calc(\"household_net_income\", map_to=\"person\")\n",
    "    for n in range(81):\n",
    "        values = x1[age.round() == n]\n",
    "        mean = values.sum()/values.count()\n",
    "        gains_by_age.append(mean)\n",
    "    return gains_by_age"
   ]
  },
  {
   "cell_type": "code",
   "execution_count": null,
   "id": "b82d2365-f001-436b-95cd-c91b316d23c3",
   "metadata": {},
   "outputs": [],
   "source": [
    "#Mean difference in household income by age (scrollable, works)\n",
    "df_list = []\n",
    "sim_num = 0\n",
    "for i in PA_amounts2:\n",
    "    df = pd.DataFrame({\"Age\": ages, \"Income change\": income_by_age(sim_list[sim_num]), \"PA amount\": i})\n",
    "    df_list.append(df)\n",
    "    sim_num += 1\n",
    "    \n",
    "final_df = pd.concat(df_list)\n",
    "final_df\n",
    "format_fig(px.bar(final_df, x=\"Age\", y=\"Income change\", animation_frame=\"PA amount\", range_y=[-1100,3100],\n",
    "                 hover_data={\"PA amount\": False}).update_layout(\n",
    "    title_text='Average change in household net income by age',\n",
    "    yaxis_title=\"Change in household net income\",\n",
    "    yaxis_tickprefix=\"£\",\n",
    "    xaxis_title=\"Age\",\n",
    "    showlegend= False,\n",
    "    ).update_traces(marker_color='#1976D2'))"
   ]
  },
  {
   "cell_type": "markdown",
   "id": "6c61669e",
   "metadata": {},
   "source": [
    "#### Replacing part of the personal allowance"
   ]
  },
  {
   "cell_type": "markdown",
   "id": "40232a3e",
   "metadata": {},
   "source": [
    "Replacing the entire personal allowance with a UBI would reduce poverty and inequality, but what about only replacing part?\n",
    "\n",
    "Our analysis shows each £2,000 decrease in the personal allowance could fund an increase in the UBI amount of around £110."
   ]
  },
  {
   "cell_type": "code",
   "execution_count": 30,
   "id": "3ec08d33",
   "metadata": {},
   "outputs": [],
   "source": [
    "#UBI amount at different levels of PA (graph + calc)\n",
    "\n",
    "def find_ubi_amount(PA_amount):\n",
    "    \n",
    "    def update_PA_parameter(parameters):\n",
    "        parameters.tax.income_tax.allowances.personal_allowance.amount.update(period=periods.period(\"year:2020:1\"), value=PA_amount)\n",
    "        return parameters\n",
    "    \n",
    "    class reform(Reform):\n",
    "        def apply(self):\n",
    "            self.modify_parameters(update_PA_parameter)\n",
    "    \n",
    "    #sim_less_PA = Microsimulation(reform, input_year=2020)\n",
    "    sim_less_PA = Microsimulation(reform, year=2020)\n",
    "    revenue = sim.calc(\"net_income\").sum()\n",
    "    revenue_diff = revenue - sim_less_PA.calc(\"net_income\").sum()\n",
    "    BI_amount = (revenue_diff/(sim.calc(\"people\").sum()))/52\n",
    "    \n",
    "    return BI_amount.round()\n",
    "\n",
    "PA_amounts = [12500, 11500, 10500, 9500, 8500, 7500, 6500, 5500, 4500, 3500, 2500, 1500, 500, 0]\n",
    "UBI_amounts = [find_ubi_amount(i) for i in (PA_amounts)]\n",
    "\n",
    "\n",
    "PA_text = [\"12500\", \"11500\", \"10500\", \"9500\", \"8500\", \"7500\", \"6500\", \"5500\", \"4500\", \"3500\", \"2500\", \"1500\", \"500\", \"0\"]\n",
    "chart = format_fig(px.line(x=PA_text, y=UBI_amounts, labels={\"x\": \"Personal allowance amount\", \"y\":\"UBI amount\"}).update_layout(\n",
    "    title_text='Amount of UBI at different levels of personal allowance reduction',\n",
    "    xaxis_title =\"Amount of personal allowance (£)\",\n",
    "    yaxis_title =\"UBI (£)\",\n",
    ").update_yaxes(range=[-0.1, 30]).add_hline(y=0).add_vline(x=0))\n",
    "#).add_hline(y=0).add_vline(x=12500))\n"
   ]
  },
  {
   "cell_type": "code",
   "execution_count": null,
   "id": "a94a62ed",
   "metadata": {},
   "outputs": [],
   "source": [
    "#UBI amount at different levels of PA (just graph)\n",
    "chart = format_fig(px.line(x=PA_amounts, y=UBI_amounts, labels={\"x\": \"Personal allowance amount\", \"y\":\"UBI amount\"}).update_layout(\n",
    "    title_text='Universal basic income that could be funded by lowering personal allowance',\n",
    "    xaxis_title =\"Personal allowance\",\n",
    "    yaxis_title =\"Weekly UBI amount\",\n",
    "    yaxis_tickprefix=\"£\",\n",
    "    xaxis_tickprefix=\"£\",\n",
    "))"
   ]
  },
  {
   "cell_type": "markdown",
   "id": "58ce86bc",
   "metadata": {},
   "source": [
    "The following graph shows that funding UBI through an only partial decrease in personal allowance reduces the aforementioned effects on poverty. Each £2,000 of personal allowance reduced buys around a 5% decrease in poverty, and each £2,000 of personal allowance preserved decreases the poverty effect by 5 percentage points. "
   ]
  },
  {
   "cell_type": "code",
   "execution_count": 25,
   "id": "291b07c8",
   "metadata": {},
   "outputs": [],
   "source": [
    "#pov rates at different levels of PA (calculations)\n",
    "def find_poverty_diff(sim_BI):\n",
    "    poverty_difference = sim.calc(\"in_poverty_bhc\", map_to=\"person\").sum() - sim_BI.calc(\"in_poverty_bhc\", map_to=\"person\").sum()\n",
    "    percentage_difference = (poverty_difference/sim.calc(\"in_poverty_bhc\", map_to=\"person\").sum()) * 100\n",
    "    return -percentage_difference\n",
    "\n",
    "PA_amounts = [12500, 11500, 10500, 9500, 8500, 7500, 6500, 5500, 4500, 3500, 2500, 1500, 500, 0]\n",
    "UBI_amounts_text=[\"UBI=0\", \"UBI=2\", \"UBI=4\", \"UBI=6\", \"UBI=8\", \"UBI=10\", \"UBI=12\", \"UBI=15\", \"UBI=17\", \"UBI=20\", \"UBI=22\", \"UBI=25\", \"UBI=27\",\n",
    "                 \"UBI=29\"]\n",
    "sim_num = 0\n",
    "pov_diffs = []\n",
    "for i in PA_amounts2:\n",
    "    diff = find_poverty_diff(sim_list[sim_num]).round()\n",
    "    pov_diffs.append(diff)\n",
    "    sim_num += 1\n",
    "\n",
    "df1 = pd.DataFrame({\"PA amounts\": pd.Series(PA_amounts2), \"Poverty difference\": pd.Series(pov_diffs), \"UBI amount\": pd.Series(UBI_amounts_text)})\n",
    "\n",
    "def find_deep_poverty_diff(sim_BI):\n",
    "    deep_poverty_difference = sim.calc(\"in_deep_poverty_bhc\", map_to=\"person\").sum() - sim_BI.calc(\"in_deep_poverty_bhc\", map_to=\"person\").sum()\n",
    "    percentage_difference = (deep_poverty_difference/sim.calc(\"in_deep_poverty_bhc\", map_to=\"person\").sum()) * 100\n",
    "    return -percentage_difference\n",
    "\n",
    "sim_num = 0\n",
    "deep_pov_diffs = []\n",
    "for i in PA_amounts2:\n",
    "    diff = find_deep_poverty_diff(sim_list[sim_num]).round()\n",
    "    deep_pov_diffs.append(diff)\n",
    "    sim_num += 1\n",
    "\n",
    "df2 = pd.DataFrame({\"PA amounts\": pd.Series(PA_amounts2), \"Deep poverty difference\": pd.Series(deep_pov_diffs), \"UBI amount\": pd.Series(UBI_amounts_text)})\n"
   ]
  },
  {
   "cell_type": "code",
   "execution_count": 26,
   "id": "35b9e54a",
   "metadata": {},
   "outputs": [],
   "source": [
    "def find_child_pov(sim_BI):\n",
    "    poor_kids_before = sim.calc(\"in_poverty_bhc\", map_to=\"person\")[sim.calc(\"is_child\")].sum()\n",
    "    poor_kids_after = sim_BI.calc(\"in_poverty_bhc\", map_to=\"person\")[sim_BI.calc(\"is_child\")].sum()\n",
    "    child_pov_reduction = (((poor_kids_before - poor_kids_after)/poor_kids_before) * -100).round()\n",
    "    return child_pov_reduction\n",
    "\n",
    "sim_num = 0\n",
    "child_pov_diffs = []\n",
    "for i in PA_amounts2:\n",
    "    diff = find_child_pov(sim_list[sim_num]).round()\n",
    "    child_pov_diffs.append(diff)\n",
    "    sim_num += 1\n",
    "\n",
    "df3 = pd.DataFrame({\"PA amounts\": pd.Series(PA_amounts2), \"Child poverty difference\": pd.Series(child_pov_diffs), \"UBI amount\": pd.Series(UBI_amounts_text)})\n",
    "\n",
    "\n",
    "def find_adult_pov(sim_BI):\n",
    "    poor_adults_before = sim.calc(\"in_poverty_bhc\", map_to=\"person\")[sim.calc(\"is_adult\")].sum()\n",
    "    poor_adults_after = sim_BI.calc(\"in_poverty_bhc\", map_to=\"person\")[sim_BI.calc(\"is_adult\")].sum()\n",
    "    adult_pov_reduction = (((poor_adults_before - poor_adults_after)/poor_adults_before) * -100).round()\n",
    "    return adult_pov_reduction\n",
    "\n",
    "sim_num = 0\n",
    "adult_pov_diffs = []\n",
    "for i in PA_amounts2:\n",
    "    diff = find_adult_pov(sim_list[sim_num]).round()\n",
    "    adult_pov_diffs.append(diff)\n",
    "    sim_num += 1\n",
    "\n",
    "df4 = pd.DataFrame({\"PA amounts\": pd.Series(PA_amounts2), \"Adult poverty difference\": pd.Series(adult_pov_diffs), \"UBI amount\": pd.Series(UBI_amounts_text)})\n",
    "\n",
    "def find_child_deep_pov(sim_BI):\n",
    "    poor_kids_before = sim.calc(\"in_deep_poverty_bhc\", map_to=\"person\")[sim.calc(\"is_child\")].sum()\n",
    "    poor_kids_after = sim_BI.calc(\"in_deep_poverty_bhc\", map_to=\"person\")[sim_BI.calc(\"is_child\")].sum()\n",
    "    child_pov_reduction = (((poor_kids_before - poor_kids_after)/poor_kids_before) * -100).round()\n",
    "    return child_pov_reduction\n",
    "\n",
    "sim_num = 0\n",
    "child_deep_pov_diffs = []\n",
    "for i in PA_amounts2:\n",
    "    diff = find_child_deep_pov(sim_list[sim_num]).round()\n",
    "    child_deep_pov_diffs.append(diff)\n",
    "    sim_num += 1\n",
    "\n",
    "df5 = pd.DataFrame({\"PA amounts\": pd.Series(PA_amounts2), \"Child deep poverty difference\": pd.Series(child_deep_pov_diffs), \"UBI amount\": pd.Series(UBI_amounts_text)})\n",
    "\n",
    "def find_adult_deep_pov(sim_BI):\n",
    "    poor_adults_before = sim.calc(\"in_deep_poverty_bhc\", map_to=\"person\")[sim.calc(\"is_adult\")].sum()\n",
    "    poor_adults_after = sim_BI.calc(\"in_deep_poverty_bhc\", map_to=\"person\")[sim_BI.calc(\"is_adult\")].sum()\n",
    "    adult_pov_reduction = (((poor_adults_before - poor_adults_after)/poor_adults_before) * -100).round()\n",
    "    return adult_pov_reduction\n",
    "\n",
    "sim_num = 0\n",
    "adult_deep_pov_diffs = []\n",
    "for i in PA_amounts2:\n",
    "    diff = find_adult_deep_pov(sim_list[sim_num]).round()\n",
    "    adult_deep_pov_diffs.append(diff)\n",
    "    sim_num += 1\n",
    "\n",
    "df6 = pd.DataFrame({\"PA amounts\": pd.Series(PA_amounts2), \"Adult deep poverty difference\": pd.Series(adult_deep_pov_diffs), \"UBI amount\": pd.Series(UBI_amounts_text)})\n"
   ]
  },
  {
   "cell_type": "code",
   "execution_count": 29,
   "id": "eefeb0d3",
   "metadata": {},
   "outputs": [],
   "source": [
    "#pov rates at different levels of PA (graph)\n",
    "\n",
    "#df = pd.DataFrame({\"PA amounts\": pd.Series(PA_amounts2), \"Poverty difference\": pd.Series(pov_diffs), \"UBI amount\": pd.Series(UBI_amounts_text)})\n",
    "import plotly.graph_objects as go\n",
    "chart8 = format_fig(go.Figure(data=[\n",
    "    go.Scatter(name='Poverty', x=df1[\"PA amounts\"], y=df1[\"Poverty difference\"], hovertext=df1[\"UBI amount\"], marker_color='#49A6E2', mode='lines'),\n",
    "    go.Scatter(name='Deep poverty', x=df2[\"PA amounts\"], y=df2[\"Deep poverty difference\"], hovertext=df2[\"UBI amount\"], marker_color=\"#0F4AA1\", mode='lines'),\n",
    "    go.Scatter(name='Child poverty', x=df3[\"PA amounts\"], y=df3[\"Child poverty difference\"], hovertext=df3[\"UBI amount\"], mode='lines'),\n",
    "    go.Scatter(name='Adult poverty', x=df4[\"PA amounts\"], y=df4[\"Adult poverty difference\"], hovertext=df4[\"UBI amount\"], mode='lines'),\n",
    "    go.Scatter(name='Child deep poverty', x=df5[\"PA amounts\"], y=df5[\"Child deep poverty difference\"], hovertext=df5[\"UBI amount\"], mode='lines'),\n",
    "    go.Scatter(name='Adult deep poverty', x=df6[\"PA amounts\"], y=df6[\"Adult deep poverty difference\"], hovertext=df6[\"UBI amount\"], mode='lines'),\n",
    "    \n",
    "    \n",
    "], layout_yaxis_range=[-75,0.15]).update_layout( \n",
    "    title_text='Poverty decreases at different levels of personal allowance', \n",
    "    xaxis_title =\"Personal allowance amount\",\n",
    "    yaxis_title =\"Decrease in poverty\",\n",
    "    yaxis_ticksuffix=\"%\").add_hline(y=0).add_vline(x=12500)\n",
    "                   )"
   ]
  },
  {
   "cell_type": "markdown",
   "id": "4bee988f",
   "metadata": {},
   "source": [
    "#### Conclusion"
   ]
  },
  {
   "cell_type": "markdown",
   "id": "8c4775fb",
   "metadata": {},
   "source": [
    "Replacing personal allowance with a budget-neutral UBI is an effective mechanism for cutting poverty. In the Liberal Democrats’ explored UBI policies, eliminating it fully could reduce poverty by over an additional 5% (additional suggestions can be found in our [report](https://www.ubicenter.org/progressive-adjustments-lib-dem-working-group) on progressive adjustments for the LibDem's UBI reform). \n",
    "\n",
    "Furthermore, a disproportionate amount of this benefit would go to children, and since child poverty has well-documented impacts on [educational](https://www.jrf.org.uk/sites/default/files/jrf/migrated/files/2123.pdf) and [health](https://adc.bmj.com/content/archdischild/101/8/759.full.pdf) outcomes, this has the potential to be a high-impact policy for society as a whole.\n",
    "\n",
    "Given these findings, UBI proponents in the UK should take a serious look at whether keeping the personal allowance is worthwhile, provided the benefits of the UBI that could be funded through taxing it."
   ]
  },
  {
   "cell_type": "code",
   "execution_count": 52,
   "id": "e9dbd0d8",
   "metadata": {},
   "outputs": [],
   "source": [
    "#gini graph\n",
    "sim_num = 0\n",
    "ginis = []\n",
    "for i in PA_amounts2:\n",
    "    gini = sim_list[sim_num].calc(\"household_net_income\", map_to=\"person\").gini()\n",
    "    ginis.append(gini)\n",
    "    sim_num += 1\n",
    "ginis\n",
    "\n",
    "gini2 = pd.Series(ginis)\n",
    "chart1 = format_fig((px.line(x=PA_amounts2, y=gini2).update_layout(\n",
    "    title_text='Gini coefficient at different levels of personal allowance',\n",
    "    xaxis_title =\"Personal allowance\",\n",
    "    yaxis_title =\"Gini coefficient\",\n",
    "    showlegend= False,\n",
    ").update_yaxes(range=[0.3689, 0.3861]).add_hline(y=0.386).add_vline(x=0)).update_traces(marker_color='#1976D2'))\n",
    "chart1"
   ]
  },
  {
   "cell_type": "code",
   "execution_count": 8,
   "id": "14b85ecb",
   "metadata": {},
   "outputs": [],
   "source": [
    "#Income % change for deciles w vs w/o PA\n",
    "class PA_reform(Reform):\n",
    "    def apply(self):\n",
    "        self.neutralize_variable(\"personal_allowance\")\n",
    "        \n",
    "#sim_no_PA = Microsimulation(PA_reform, input_year=2020)\n",
    "sim_no_PA = Microsimulation(PA_reform, year=2020)"
   ]
  },
  {
   "cell_type": "code",
   "execution_count": null,
   "id": "a12f11ea",
   "metadata": {},
   "outputs": [],
   "source": [
    "income_with_PA = sim.calc(\"equiv_household_net_income\") \n",
    "income_no_PA = sim_no_PA.calc(\"equiv_household_net_income\")\n",
    "decile_change = []\n",
    "for n in range (1, 11):\n",
    "    #total income difference for the decile\n",
    "    id = income_with_PA.groupby(income.decile_rank()).sum()[n] - income_no_PA.groupby(income.decile_rank()).sum()[n]\n",
    "    #average income difference for the decile\n",
    "    id2 = id/income_with_PA.groupby(income.decile_rank()).count()[n]\n",
    "    #average income difference of the decile as a percent of average income for the decile\n",
    "    id3 = id2/income_with_PA.groupby(income.decile_rank()).mean()[n] * 100\n",
    "    decile_change.append(id3)\n",
    "\n",
    "change = pd.Series(decile_change)\n",
    "chart1 = format_fig((px.bar(y=decile_change).update_layout(\n",
    "    title_text='Income increase thanks to PA for households in each income decile',\n",
    "    xaxis_title =\"Household income decile\",\n",
    "    yaxis_title =\"Change in household net income\",\n",
    "    showlegend= False,\n",
    "    yaxis_ticksuffix=\"%\",\n",
    "    xaxis = dict(\n",
    "        tickvals = [0, 1, 2, 3, 4, 5, 6, 7, 8, 9],\n",
    "        ticktext = [1, 2, 3, 4, 5, 6, 7, 8, 9, 10]\n",
    "    )\n",
    ").update_traces(marker_color='#1976D2')))\n",
    "chart1"
   ]
  },
  {
   "cell_type": "markdown",
   "id": "f2f35369",
   "metadata": {},
   "source": [
    "# New graphs"
   ]
  },
  {
   "cell_type": "code",
   "execution_count": null,
   "id": "dc9e2391",
   "metadata": {},
   "outputs": [],
   "source": [
    "from openfisca_uk.api import graphs\n",
    "reform_names = PA_amounts2\n",
    "#graphs.budget_chart(reform_list, names=reform_names, variables=[\"household_net_income\", \"tax\", \"benefits\"])"
   ]
  },
  {
   "cell_type": "code",
   "execution_count": null,
   "id": "de0f0bfb",
   "metadata": {},
   "outputs": [],
   "source": [
    "def couple_two_children(sim):\n",
    "    sim.add_person(\n",
    "        name=\"adult\", age=26, is_household_head=True, is_benunit_head=True\n",
    "    )\n",
    "    sim.add_person(name=\"adult_2\", age=27)\n",
    "    sim.add_person(name=\"child\", age=4)\n",
    "    sim.add_person(name=\"child_2\", age=6)\n",
    "    sim.add_benunit(\n",
    "        adults=[\"adult\", \"adult_2\"],\n",
    "        children=[\"child\", \"child_2\"],\n",
    "        claims_UC=True,\n",
    "        claims_legacy_benefits=False,\n",
    "        claims_child_benefit=True,\n",
    "    )\n",
    "    sim.add_household(\n",
    "        adults=[\"adult\", \"adult_2\"], children=[\"child\", \"child_2\"]\n",
    "    )\n",
    "    return sim"
   ]
  },
  {
   "cell_type": "code",
   "execution_count": null,
   "id": "365c957b",
   "metadata": {},
   "outputs": [],
   "source": [
    "#Calc\n",
    "budget_single = graphs.budget_chart(reform_list, names=reform_names, variables=[\"household_net_income\", \"tax\", \"benefits\"])"
   ]
  },
  {
   "cell_type": "code",
   "execution_count": null,
   "id": "5179af1b",
   "metadata": {},
   "outputs": [],
   "source": [
    "#Graph\n",
    "format_fig(budget_single.update_layout(\n",
    "    title_text='Effect of replacing the personal allowance with UBI on income for a single person'))"
   ]
  },
  {
   "cell_type": "code",
   "execution_count": null,
   "id": "dfd6bfee",
   "metadata": {},
   "outputs": [],
   "source": [
    "#Calc\n",
    "budget_two_kids = graphs.budget_chart(reform_list, names=reform_names, variables=[\"household_net_income\", \"tax\", \"benefits\", \"child_benefit\", \"universal_credit\"],\n",
    "                   situation_function=couple_two_children)"
   ]
  },
  {
   "cell_type": "code",
   "execution_count": null,
   "id": "3856a603",
   "metadata": {},
   "outputs": [],
   "source": [
    "#Graph\n",
    "format_fig(budget_two_kids.update_layout(\n",
    "    title_text='Effect of replacing the personal allowance with UBI on income for a couple with two kids'))"
   ]
  },
  {
   "cell_type": "code",
   "execution_count": null,
   "id": "2d8e9b30",
   "metadata": {},
   "outputs": [],
   "source": [
    "#Calc\n",
    "mtr_single = graphs.mtr_chart(reform_list, names=reform_names, variables=[\"household_net_income\", \"tax\", \"benefits\"])"
   ]
  },
  {
   "cell_type": "code",
   "execution_count": null,
   "id": "eacca6e9",
   "metadata": {},
   "outputs": [],
   "source": [
    "#Graph\n",
    "format_fig(mtr_single.update_layout(\n",
    "    title_text='Marginal tax rate for a single person when replacing the personal allowance with a UBI'))"
   ]
  },
  {
   "cell_type": "code",
   "execution_count": null,
   "id": "e89d3929",
   "metadata": {},
   "outputs": [],
   "source": [
    "#Calc\n",
    "mtr_two_kids = graphs.mtr_chart(reform_list, names=reform_names, variables=[\"household_net_income\", \"tax\", \"benefits\"],\n",
    "                situation_function=couple_two_children)"
   ]
  },
  {
   "cell_type": "code",
   "execution_count": null,
   "id": "da4dcb04",
   "metadata": {},
   "outputs": [],
   "source": [
    "#Graph\n",
    "format_fig(mtr_two_kids.update_layout(\n",
    "    title_text='Marginal tax rate for a single person when replacing the personal allowance with a UBI'))"
   ]
  },
  {
   "cell_type": "code",
   "execution_count": null,
   "id": "06a77dca",
   "metadata": {},
   "outputs": [],
   "source": [
    "reform_sims = reform_list\n",
    "baseline = sim\n",
    "sims = sim_list\n",
    "NAMES = (\n",
    "\"Gain more than 5%\",\n",
    "\"Gain less than 5%\",\n",
    "\"No change\",\n",
    "\"Lose less than 5%\",\n",
    "\"Lose more than 5%\"\n",
    ")\n",
    "\n",
    "def intra_decile_graph_data(baseline, *reform_sims):\n",
    "    AMOUNTS = PA_amounts2\n",
    "    l = []\n",
    "    for i, reform_sim in enumerate(reform_sims):\n",
    "        income = baseline.calc(\"equiv_household_net_income\", map_to=\"person\")\n",
    "        decile = income.decile_rank()\n",
    "        gain = reform_sim.calc(\"household_net_income\", map_to=\"person\") - baseline.calc(\"household_net_income\", map_to=\"person\")\n",
    "        rel_gain = (gain / baseline.calc(\"household_net_income\", map_to=\"person\")).dropna()\n",
    "        bands = (None, 0.05, 1e-3, -1e-3, -0.05, None)\n",
    "        for upper, lower, name in zip(bands[:-1], bands[1:], NAMES):\n",
    "            fractions = []\n",
    "            for j in range(1, 11):\n",
    "                subset = rel_gain[decile == j]\n",
    "                if lower is not None:\n",
    "                    subset = subset[rel_gain > lower]\n",
    "                if upper is not None:\n",
    "                    subset = subset[rel_gain <= upper]\n",
    "                fractions += [subset.count() / rel_gain[decile == j].count()]\n",
    "            tmp = pd.DataFrame({\"PA\": f\"£{AMOUNTS[i]}\", \"fraction\": fractions, \"decile\": list(range(1, 11)), \"Outcome\": name})\n",
    "            l.append(tmp)\n",
    "    return pd.concat(l).reset_index()\n",
    "\n",
    "intra = intra_decile_graph_data(baseline, *sims)\n",
    "\n",
    "GREY = \"#BDBDBD\"\n",
    "\n",
    "COLORS = (\"#616161\", GREY, \"#F5F5F5\", \"#C5E1A5\", \"#558B2F\",)[::-1]\n",
    "\n",
    "intra_graph = format_fig(\n",
    "    px.bar(\n",
    "        intra,\n",
    "        x=\"fraction\",\n",
    "        y=\"decile\",\n",
    "        orientation=\"h\",\n",
    "        color=\"Outcome\",\n",
    "        animation_frame=\"PA\",\n",
    "        color_discrete_sequence=COLORS,\n",
    "    ).update_layout(\n",
    "        yaxis_tickvals=list(range(1, 11)),\n",
    "        xaxis_tickformat=\"%\",\n",
    "        yaxis_title=\"Income decile\",\n",
    "        xaxis_title=\"Outcome distributions\",\n",
    "        title=\"Intra-decile outcomes for replacing the personal allowance with a UBI\",\n",
    "    )\n",
    ")\n",
    "intra_graph"
   ]
  }
 ],
 "metadata": {
  "kernelspec": {
   "display_name": "Python 3",
   "language": "python",
   "name": "python3"
  },
  "language_info": {
   "codemirror_mode": {
    "name": "ipython",
    "version": 3
   },
   "file_extension": ".py",
   "mimetype": "text/x-python",
   "name": "python",
   "nbconvert_exporter": "python",
   "pygments_lexer": "ipython3",
   "version": "3.7.10"
  }
 },
 "nbformat": 4,
 "nbformat_minor": 5
}
