{
 "cells": [
  {
   "cell_type": "code",
   "execution_count": 3,
   "id": "37a50f8d-28a8-4be1-9923-979d31f78093",
   "metadata": {},
   "outputs": [
    {
     "name": "stderr",
     "output_type": "stream",
     "text": [
      "libyaml is not installed in your environment. This can make OpenFisca slower to start. Once you have installed libyaml, run 'pip uninstall pyyaml && pip install pyyaml --no-cache-dir' so that it is used in your Python environment.\n",
      "\n"
     ]
    }
   ],
   "source": [
    "# Setup\n",
    "from openfisca_uk import Microsimulation\n",
    "from openfisca_uk import *\n",
    "from openfisca_core.model_api import Reform\n",
    "from openfisca_uk.entities import Person, BenUnit, Household\n",
    "from openfisca_core.model_api import *\n",
    "from openfisca_uk.tools.general import *\n",
    "\n",
    "import plotly.express as px\n",
    "import plotly.io as pio\n",
    "pio.renderers.default = \"browser\"\n",
    "#change \"browser\" to \"notebook\" when working on non-ines computers\n",
    "\n",
    "sim = Microsimulation(input_year=2020)\n",
    "\n",
    "from openfisca_core import periods\n",
    "def make_PA_reform(PA_amount):\n",
    "    \n",
    "    def update_PA_parameter(parameters):\n",
    "        parameters.tax.income_tax.allowances.personal_allowance.amount.update(period=periods.period(\"year:2020:1\"), value=PA_amount)\n",
    "        return parameters\n",
    "    \n",
    "    class reform(Reform):\n",
    "        def apply(self):\n",
    "            self.modify_parameters(update_PA_parameter)\n",
    "    \n",
    "    sim_less_PA = Microsimulation(reform, input_year=2020)\n",
    "    revenue = sim.calc(\"net_income\").sum()\n",
    "    revenue_diff = revenue - sim_less_PA.calc(\"net_income\").sum()\n",
    "    BI_amount = revenue_diff/(sim.calc(\"people\").sum())\n",
    "    \n",
    "    class BI(Variable):\n",
    "        value_type = float\n",
    "        entity = Person\n",
    "        label = u\"UBI\"\n",
    "        definition_period = YEAR\n",
    "        def formula(person, period, parameters):\n",
    "            return(BI_amount)\n",
    "\n",
    "    class gross_income(Variable):\n",
    "        value_type = float\n",
    "        entity = Person\n",
    "        label = u\"Gross income, including benefits\"\n",
    "        definition_period = YEAR\n",
    "\n",
    "        def formula(person, period, parameters):\n",
    "            COMPONENTS = [\n",
    "                \"employment_income\",\n",
    "                \"pension_income\",\n",
    "                \"self_employment_income\",\n",
    "                \"property_income\",\n",
    "                \"savings_interest_income\",\n",
    "                \"dividend_income\",\n",
    "                \"miscellaneous_income\",\n",
    "                \"benefits\",\n",
    "                \"BI\"\n",
    "            ]\n",
    "            return add(person, period, COMPONENTS)   \n",
    "\n",
    "    class basic_income(Reform):\n",
    "        def apply(self):\n",
    "            self.add_variable(BI)\n",
    "            self.update_variable(gross_income)\n",
    "            \n",
    "    sim_BI = Microsimulation(reform, basic_income, input_year=2020)\n",
    "    \n",
    "    return sim_BI\n",
    "\n",
    "sim_BI = make_PA_reform(0)"
   ]
  },
  {
   "cell_type": "markdown",
   "id": "78ee2b7a-44b4-41f8-953d-14f1b9342ef6",
   "metadata": {},
   "source": [
    "# Funding UBI by eliminating the personal allowance"
   ]
  },
  {
   "cell_type": "markdown",
   "id": "c7e0ba44-2492-4cbd-a25a-963da1d99aa9",
   "metadata": {},
   "source": [
    "Personal allowance is a feature of the UK tax system which designates a certain amount of individual income as non-taxable. This amount is currently set at £12,500, meaning the first £12,500 of an individual’s earnings are not taxed. Ever since it was [first introduced in 1979](http://taxhistory.co.uk/Income%20Tax%20Allowances.htm) at £1,165 (equivalent to around [£6,028 today)](https://www.bankofengland.co.uk/monetary-policy/inflation/inflation-calculator), it has been steadily increasing almost every year.\n"
   ]
  },
  {
   "cell_type": "markdown",
   "id": "2a76e4a6-319f-41f6-9e8d-a75eace04993",
   "metadata": {},
   "source": [
    "#### Benefits & Criticisms of PA\n"
   ]
  },
  {
   "cell_type": "markdown",
   "id": "6775738e-00ec-46bc-a5b4-8fc1da2b26af",
   "metadata": {},
   "source": [
    "The personal allowance is fairly popular in the UK, as it allows people to retain more of their income. At current levels, the average individual saves over £1,600 annually in taxes thanks to the personal allowance (source: OpenFisca-UK).\n",
    "\n",
    "Moreover, it is often thought of as fiscally progressive since it allows the lowest income earners—those making under £12,500—to be free from any income tax at all, while it phases out for the highest earners who make above £100,000. Many people support raising the personal allowance thinking the higher it is, the greater the amount of low-income earners who fall below the threshold, allowing them to retain more of their income. Thus, by this logic, it should serve as a mechanism for reducing poverty.\n",
    "\n",
    "Though this sounds good on paper, the personal allowance has been found to be regressive in practice. This means not that the poor do not benefit from it, but that the affluent benefit more. There are two main reasons for this. Firstly, many of the UK’s poorest already fall below the personal allowance threshold, and raising the personal allowance does nothing for them. Rather, it exclusively helps higher income earners who make up to [£125,140](https://www.gov.uk/income-tax-rates/income-over-100000). Though some at the bottom of the income scale may benefit, the [overwhelming majority of the benefits do not go to them](https://leftfootforward.org/2013/03/the-10000-personal-tax-allowance-anything-but-progressive/) but to those more affluent.\n",
    "\n",
    "The second reason has to do with the phaseout of Universal Credit and similar means-tested benefits. Since Universal Credit is based on post-tax income, then when taxes are reduced and post-tax income rises, recipients see their Universal Credit amount reduced as well. As [explained](https://www.politics.co.uk/opinion-former/press-release/2018/10/29/personal-allowance-increase-does-little-for-those-on-lowest-income/) by Victoria Todd, Head of the Low Income Tax Reform Group, about the 2019 changes: \n",
    "\n",
    "> “[Universal credit recipients] will not see the full tax gain of £130 from the increase in the personal allowance; instead, they will only gain overall by £48.10, as their Universal Credit award will be reduced by £81.90. However, those earning above £11,850 who receive tax credits will benefit from the full £130 because tax credits are based on gross income.”\n",
    "\n",
    "Again, this means that higher-income earners benefit more than low-income earners from personal reform increases. In fact, according to [one report](https://www.resolutionfoundation.org/app/uploads/2014/12/Missing-the-target1.pdf) by the Resolution Foundation, the most recent increase to £12,500 gave around £18 of additional income to the bottom 10% of households and £203 to the top 10%.\n",
    "\n"
   ]
  },
  {
   "cell_type": "markdown",
   "id": "f2fd549b-8daa-4d23-8bfc-3d09788ef032",
   "metadata": {},
   "source": [
    "#### Party proposals regarding personal allowance and UBI\n"
   ]
  },
  {
   "cell_type": "markdown",
   "id": "61e5e3ad-0f0a-4c98-b84b-4bf17b735750",
   "metadata": {},
   "source": [
    "The regressivity of the personal allowance suggests that its elimination would reduce the income of the UK’s poorest only negligibly, while the more affluent would pay a higher burden. This makes it a good candidate for helping fund a progressive UBI proposal.\n",
    "\n",
    "Both UK parties who have released UBI proposals have found a role for personal allowance to help fund their programs. The Lib Dems have conceded that there will be a reduction, but insist their proposal involves [“in all cases leaving some level of Personal Allowance (at least £2,500 a year)”](https://d3n8a8pro7vhmx.cloudfront.net/libdems/pages/1811/attachments/original/1621669347/145_-_Universal_Basic_Income.docx_%281%29.pdf?1621669347). Meanwhile, the Green Party states that in their model, UBI will be taxable, but [“all income tax payers will have a tax-free allowance which is the equivalent to their Universal Basic Income amount”](https://www.greenparty.ie/wp-content/uploads/2018/07/Green-Party-Universal-Basic-Income-Policy.pdf). This means that in practice the UBI would not be taxed and the personal allowance would effectively be eliminated. Both parties also include UBI in means-testing.\n",
    "\n",
    "In the following analysis, we will explore the effect of a UBI funded exclusively through the elimination of a personal allowance. The UBI amount in this simulation is of an equal amount to everyone, regardless of age or disability, and does not count towards means-testing.\n"
   ]
  },
  {
   "cell_type": "markdown",
   "id": "38541e34-30c0-4fa9-80e2-e7574509de7d",
   "metadata": {},
   "source": [
    "#### Our findings"
   ]
  },
  {
   "cell_type": "markdown",
   "id": "462bc265-e85f-4912-b2ef-d6ffaefed217",
   "metadata": {},
   "source": [
    "Under this policy, our simulation finds that we could fund a UBI of around £1,634 per person. The following graph shows the effect this would have across different among deciles:"
   ]
  },
  {
   "cell_type": "code",
   "execution_count": 56,
   "id": "60af4623-020e-4b12-a67a-efb8608751b9",
   "metadata": {},
   "outputs": [],
   "source": [
    "income_diff = sim_BI.calc(\"household_net_income\", map_to=\"household\") - sim.calc(\"household_net_income\", map_to=\"household\")\n",
    "income = sim.calc(\"household_net_income\", map_to=\"household\")\n",
    "\n",
    "chart1 = px.bar(income_diff.groupby(income.decile_rank()).mean())\n",
    "chart1.update_layout(\n",
    "    title_text='Mean difference in household net income for each income decile',\n",
    "    xaxis_title =\"Income decile\",\n",
    "    yaxis_title =\"Change in income (£)\",\n",
    "    showlegend= False,\n",
    ")"
   ]
  },
  {
   "cell_type": "markdown",
   "id": "4bc49625-ca2d-4080-a9ac-20341c50cfa2",
   "metadata": {},
   "source": [
    "This policy would, in general, serve as a wealth transfer from the richest 40% to the poorest 60%. \n",
    "\n",
    "Median household income would increase by about £564, and this number is over five times greater for those living in poverty. Hence, poverty would be reduced by about 29%, while deep poverty (people living at under half the poverty line) would be reduced by about 46%."
   ]
  },
  {
   "cell_type": "code",
   "execution_count": 63,
   "id": "830b0eeb-4492-4bba-af75-e97f865aef4f",
   "metadata": {},
   "outputs": [],
   "source": [
    "#Median difference in household net income for different poverty groups\n",
    "effect = sim_BI.calc(\"household_net_income\", map_to=\"person\") - sim.calc(\"household_net_income\", map_to=\"person\")\n",
    "isDeepPoor = sim.calc(\"in_deep_poverty_bhc\", map_to =\"person\")\n",
    "isPoor = sim.calc(\"in_poverty_bhc\", map_to = \"person\") & ~isDeepPoor\n",
    "#isPoor excludes those in deep poverty\n",
    "overall = sim_BI.calc(\"household_net_income\").median() - sim.calc(\"household_net_income\").median()\n",
    "\n",
    "\n",
    "chart2 = px.bar(x=[\"Deep poverty\", \"In poverty, but not deep\", \"Not in poverty\", \"Overall\"], y=[effect[isDeepPoor].mean(), effect[isPoor].mean(), effect[~isPoor].mean(), overall])\n",
    "\n",
    "chart2.update_layout(\n",
    "    title_text='Median gain in household net income for different poverty groups',\n",
    "    xaxis_title =\"Group\",\n",
    "    yaxis_title =\"Median gain in household net income (£)\",\n",
    ")"
   ]
  },
  {
   "cell_type": "code",
   "execution_count": 58,
   "id": "0ea2419c-52be-4e94-9a25-f1f14b57819a",
   "metadata": {},
   "outputs": [],
   "source": [
    "#Reductions in poverty rates\n",
    "\n",
    "import plotly.graph_objects as go\n",
    "\n",
    "poverty_before = sim.calc(\"in_poverty_bhc\", map_to=\"person\").sum()/sim.calc(\"people\").sum() * 100\n",
    "poverty_now = sim_BI.calc(\"in_poverty_bhc\", map_to=\"person\").sum()/sim.calc(\"people\").sum() * 100\n",
    "\n",
    "deep_poverty_before = sim.calc(\"in_deep_poverty_bhc\", map_to=\"person\").sum()/sim.calc(\"people\").sum() * 100\n",
    "deep_poverty_now = sim_BI.calc(\"in_deep_poverty_bhc\", map_to=\"person\").sum()/sim.calc(\"people\").sum() * 100\n",
    "\n",
    "poverty_types=['Poverty', \"Deep poverty\"]\n",
    "\n",
    "chart3 = go.Figure(data=[\n",
    "    go.Bar(name='Before reform', x=poverty_types, y=[poverty_before, deep_poverty_before]),\n",
    "    go.Bar(name='After reform', x=poverty_types, y=[poverty_now, deep_poverty_now])\n",
    "])\n",
    "# Change the bar mode\n",
    "chart3.update_layout(\n",
    "    barmode='group', \n",
    "    title_text='Poverty rates before and after reform', \n",
    "    xaxis_title =\"Poverty type\",\n",
    "    yaxis_title =\"Rate\",\n",
    "    yaxis_ticksuffix=\"%\", )"
   ]
  },
  {
   "cell_type": "markdown",
   "id": "27e1a669-121d-4a75-85a5-f2b3d5494de3",
   "metadata": {},
   "source": [
    "Part of the results above are explained not only by the regressivity of personal allowance, but also by the fact that poor households tend to have more children and would therefore receive more UBI checks per household. Similarly, households in deep poverty tend to have fewer children than other poor households, which explains why the median gain is slightly less for this group.\n",
    "\n",
    "In fact, this policy would benefit children more than any other group, as children do not lose income to a personal allowance decrease or elimination, and exclusively gain from the UBI amount given to them. Child poverty would be reduced by about 51%. As shown below, this would largely serve as a wealth transfer from adults to children."
   ]
  },
  {
   "cell_type": "code",
   "execution_count": 60,
   "id": "c479030a-ae10-48cd-ab18-ddbba0b51516",
   "metadata": {},
   "outputs": [],
   "source": [
    "#Mean difference in household income by age\n",
    "income_diff_2 = sim_BI.calc(\"household_net_income\", map_to=\"person\") - sim.calc(\"household_net_income\", map_to=\"person\")\n",
    "age = sim.calc(\"age\", map_to =\"person\")\n",
    "chart4 = px.bar(income_diff_2.groupby(age).mean())\n",
    "chart4.update_layout(\n",
    "    title_text='Mean difference in household net income by age',\n",
    "    yaxis_title=\"Change in household income (£)\",\n",
    "    xaxis_title=\"Age\",\n",
    "    showlegend= False,\n",
    ")"
   ]
  },
  {
   "cell_type": "code",
   "execution_count": 61,
   "id": "316b15af-9776-4561-89a6-6d3e7aa0fe71",
   "metadata": {},
   "outputs": [],
   "source": [
    "#Poverty reductions\n",
    "\n",
    "#Child poverty reduction\n",
    "poor_kids_before = sim.calc(\"in_poverty_bhc\", map_to=\"person\")[sim.calc(\"is_child\")].sum()\n",
    "poor_kids_after = sim_BI.calc(\"in_poverty_bhc\", map_to=\"person\")[sim_BI.calc(\"is_child\")].sum()\n",
    "child_pov_reduction = ((poor_kids_before - poor_kids_after)/poor_kids_before) * 100\n",
    "\n",
    "#Percentage of poverty reduction for adults only\n",
    "poor_adults_before = sim.calc(\"in_poverty_bhc\", map_to=\"person\")[sim.calc(\"is_adult\")].sum()\n",
    "poor_adults_after = sim_BI.calc(\"in_poverty_bhc\", map_to=\"person\")[sim_BI.calc(\"is_adult\")].sum()\n",
    "adult_pov_reduction = ((poor_adults_before - poor_adults_after)/poor_adults_before) * 100\n",
    "\n",
    "#Overall\n",
    "poverty_difference = sim_BI.calc(\"in_poverty_bhc\", map_to=\"person\").sum() - sim.calc(\"in_poverty_bhc\", map_to=\"person\").sum()\n",
    "overall_reduction = (poverty_difference/sim.calc(\"in_poverty_bhc\", map_to=\"person\").sum()) * -100\n",
    "\n",
    "chart5 = px.bar(x=[\"Children\", \"Adults\", \"Overall\"], y=[child_pov_reduction, adult_pov_reduction, overall_reduction])\n",
    "chart5.update_layout(\n",
    "    title_text='Poverty reductions by age group',\n",
    "    yaxis_title=\"Reduction in poverty\",\n",
    "    xaxis_title=\"Age group\",\n",
    "    yaxis_ticksuffix=\"%\"\n",
    ")"
   ]
  },
  {
   "cell_type": "code",
   "execution_count": 62,
   "id": "7fc1615a-2c43-4e6a-8e43-e40de120d526",
   "metadata": {},
   "outputs": [],
   "source": [
    "#Mean income difference grouped by family type\n",
    "person_income_diff = sim_BI.calc(\"net_income\", map_to=\"person\") - sim.calc(\"net_income\", map_to=\"person\")\n",
    "family = sim.calc(\"family_type\", map_to = \"person\")\n",
    "\n",
    "income_diff_by_family = person_income_diff.groupby(family).mean()\n",
    "\n",
    "chart6 = px.bar(x=[\"Couple without children\", \"Couple with children\", \"Single parent\", \"Single individual\"], y=income_diff_by_family)\n",
    "chart6.update_layout(\n",
    "    title_text='Mean income difference grouped by family type',\n",
    "    yaxis_title=\"Change in income (£)\",\n",
    "    xaxis_title=\"Family type\"\n",
    ")"
   ]
  },
  {
   "cell_type": "markdown",
   "id": "c9bfbe8f-a76d-49ea-b2fc-872b2b30398c",
   "metadata": {},
   "source": [
    "Lastly, the following graph shows that there is a linear relationship between personal allowance replaced by UBI and poverty reduction, in which each £2,000 buys around a 5% decrease. This means that optimal policy is not reduction but full elimination of the personal allowance."
   ]
  },
  {
   "cell_type": "code",
   "execution_count": 36,
   "id": "c959e330-8fb9-47eb-850a-676dfa7b37e4",
   "metadata": {},
   "outputs": [
    {
     "ename": "KeyboardInterrupt",
     "evalue": "",
     "output_type": "error",
     "traceback": [
      "\u001b[0;31m---------------------------------------------------------------------------\u001b[0m",
      "\u001b[0;31mKeyboardInterrupt\u001b[0m                         Traceback (most recent call last)",
      "\u001b[0;32m<ipython-input-36-1511ab8d19cb>\u001b[0m in \u001b[0;36m<module>\u001b[0;34m\u001b[0m\n\u001b[1;32m      5\u001b[0m \u001b[0;34m\u001b[0m\u001b[0m\n\u001b[1;32m      6\u001b[0m \u001b[0mPA_amounts\u001b[0m \u001b[0;34m=\u001b[0m \u001b[0;34m[\u001b[0m\u001b[0;36m12500\u001b[0m\u001b[0;34m,\u001b[0m \u001b[0;36m11500\u001b[0m\u001b[0;34m,\u001b[0m \u001b[0;36m10500\u001b[0m\u001b[0;34m,\u001b[0m \u001b[0;36m9500\u001b[0m\u001b[0;34m,\u001b[0m \u001b[0;36m8500\u001b[0m\u001b[0;34m,\u001b[0m \u001b[0;36m7500\u001b[0m\u001b[0;34m,\u001b[0m \u001b[0;36m6500\u001b[0m\u001b[0;34m,\u001b[0m \u001b[0;36m5500\u001b[0m\u001b[0;34m,\u001b[0m \u001b[0;36m4500\u001b[0m\u001b[0;34m,\u001b[0m \u001b[0;36m3500\u001b[0m\u001b[0;34m,\u001b[0m \u001b[0;36m2500\u001b[0m\u001b[0;34m,\u001b[0m \u001b[0;36m1500\u001b[0m\u001b[0;34m,\u001b[0m \u001b[0;36m500\u001b[0m\u001b[0;34m,\u001b[0m \u001b[0;36m0\u001b[0m\u001b[0;34m]\u001b[0m\u001b[0;34m\u001b[0m\u001b[0;34m\u001b[0m\u001b[0m\n\u001b[0;32m----> 7\u001b[0;31m \u001b[0mpov_diffs\u001b[0m \u001b[0;34m=\u001b[0m \u001b[0;34m[\u001b[0m\u001b[0mfind_poverty_diff\u001b[0m\u001b[0;34m(\u001b[0m\u001b[0mmake_PA_reform\u001b[0m\u001b[0;34m(\u001b[0m\u001b[0mi\u001b[0m\u001b[0;34m)\u001b[0m\u001b[0;34m)\u001b[0m \u001b[0;32mfor\u001b[0m \u001b[0mi\u001b[0m \u001b[0;32min\u001b[0m \u001b[0;34m(\u001b[0m\u001b[0mPA_amounts\u001b[0m\u001b[0;34m)\u001b[0m\u001b[0;34m]\u001b[0m\u001b[0;34m\u001b[0m\u001b[0;34m\u001b[0m\u001b[0m\n\u001b[0m\u001b[1;32m      8\u001b[0m \u001b[0;34m\u001b[0m\u001b[0m\n\u001b[1;32m      9\u001b[0m \u001b[0mgraph\u001b[0m \u001b[0;34m=\u001b[0m \u001b[0mpx\u001b[0m\u001b[0;34m.\u001b[0m\u001b[0mline\u001b[0m\u001b[0;34m(\u001b[0m\u001b[0mx\u001b[0m\u001b[0;34m=\u001b[0m\u001b[0mPA_amounts\u001b[0m\u001b[0;34m,\u001b[0m \u001b[0my\u001b[0m\u001b[0;34m=\u001b[0m\u001b[0mpov_diffs\u001b[0m\u001b[0;34m)\u001b[0m\u001b[0;34m\u001b[0m\u001b[0;34m\u001b[0m\u001b[0m\n",
      "\u001b[0;32m<ipython-input-36-1511ab8d19cb>\u001b[0m in \u001b[0;36m<listcomp>\u001b[0;34m(.0)\u001b[0m\n\u001b[1;32m      5\u001b[0m \u001b[0;34m\u001b[0m\u001b[0m\n\u001b[1;32m      6\u001b[0m \u001b[0mPA_amounts\u001b[0m \u001b[0;34m=\u001b[0m \u001b[0;34m[\u001b[0m\u001b[0;36m12500\u001b[0m\u001b[0;34m,\u001b[0m \u001b[0;36m11500\u001b[0m\u001b[0;34m,\u001b[0m \u001b[0;36m10500\u001b[0m\u001b[0;34m,\u001b[0m \u001b[0;36m9500\u001b[0m\u001b[0;34m,\u001b[0m \u001b[0;36m8500\u001b[0m\u001b[0;34m,\u001b[0m \u001b[0;36m7500\u001b[0m\u001b[0;34m,\u001b[0m \u001b[0;36m6500\u001b[0m\u001b[0;34m,\u001b[0m \u001b[0;36m5500\u001b[0m\u001b[0;34m,\u001b[0m \u001b[0;36m4500\u001b[0m\u001b[0;34m,\u001b[0m \u001b[0;36m3500\u001b[0m\u001b[0;34m,\u001b[0m \u001b[0;36m2500\u001b[0m\u001b[0;34m,\u001b[0m \u001b[0;36m1500\u001b[0m\u001b[0;34m,\u001b[0m \u001b[0;36m500\u001b[0m\u001b[0;34m,\u001b[0m \u001b[0;36m0\u001b[0m\u001b[0;34m]\u001b[0m\u001b[0;34m\u001b[0m\u001b[0;34m\u001b[0m\u001b[0m\n\u001b[0;32m----> 7\u001b[0;31m \u001b[0mpov_diffs\u001b[0m \u001b[0;34m=\u001b[0m \u001b[0;34m[\u001b[0m\u001b[0mfind_poverty_diff\u001b[0m\u001b[0;34m(\u001b[0m\u001b[0mmake_PA_reform\u001b[0m\u001b[0;34m(\u001b[0m\u001b[0mi\u001b[0m\u001b[0;34m)\u001b[0m\u001b[0;34m)\u001b[0m \u001b[0;32mfor\u001b[0m \u001b[0mi\u001b[0m \u001b[0;32min\u001b[0m \u001b[0;34m(\u001b[0m\u001b[0mPA_amounts\u001b[0m\u001b[0;34m)\u001b[0m\u001b[0;34m]\u001b[0m\u001b[0;34m\u001b[0m\u001b[0;34m\u001b[0m\u001b[0m\n\u001b[0m\u001b[1;32m      8\u001b[0m \u001b[0;34m\u001b[0m\u001b[0m\n\u001b[1;32m      9\u001b[0m \u001b[0mgraph\u001b[0m \u001b[0;34m=\u001b[0m \u001b[0mpx\u001b[0m\u001b[0;34m.\u001b[0m\u001b[0mline\u001b[0m\u001b[0;34m(\u001b[0m\u001b[0mx\u001b[0m\u001b[0;34m=\u001b[0m\u001b[0mPA_amounts\u001b[0m\u001b[0;34m,\u001b[0m \u001b[0my\u001b[0m\u001b[0;34m=\u001b[0m\u001b[0mpov_diffs\u001b[0m\u001b[0;34m)\u001b[0m\u001b[0;34m\u001b[0m\u001b[0;34m\u001b[0m\u001b[0m\n",
      "\u001b[0;32m<ipython-input-3-0d8dbce2a9ab>\u001b[0m in \u001b[0;36mmake_PA_reform\u001b[0;34m(PA_amount)\u001b[0m\n\u001b[1;32m     63\u001b[0m             \u001b[0mself\u001b[0m\u001b[0;34m.\u001b[0m\u001b[0mupdate_variable\u001b[0m\u001b[0;34m(\u001b[0m\u001b[0mgross_income\u001b[0m\u001b[0;34m)\u001b[0m\u001b[0;34m\u001b[0m\u001b[0;34m\u001b[0m\u001b[0m\n\u001b[1;32m     64\u001b[0m \u001b[0;34m\u001b[0m\u001b[0m\n\u001b[0;32m---> 65\u001b[0;31m     \u001b[0msim_BI\u001b[0m \u001b[0;34m=\u001b[0m \u001b[0mMicrosimulation\u001b[0m\u001b[0;34m(\u001b[0m\u001b[0mreform\u001b[0m\u001b[0;34m,\u001b[0m \u001b[0mbasic_income\u001b[0m\u001b[0;34m,\u001b[0m \u001b[0minput_year\u001b[0m\u001b[0;34m=\u001b[0m\u001b[0;36m2020\u001b[0m\u001b[0;34m)\u001b[0m\u001b[0;34m\u001b[0m\u001b[0;34m\u001b[0m\u001b[0m\n\u001b[0m\u001b[1;32m     66\u001b[0m \u001b[0;34m\u001b[0m\u001b[0m\n\u001b[1;32m     67\u001b[0m     \u001b[0;32mreturn\u001b[0m \u001b[0msim_BI\u001b[0m\u001b[0;34m\u001b[0m\u001b[0;34m\u001b[0m\u001b[0m\n",
      "\u001b[0;32m~/opt/anaconda3/envs/openfisca/lib/python3.7/site-packages/openfisca_uk/microdata/simulation.py\u001b[0m in \u001b[0;36m__init__\u001b[0;34m(self, mode, year, input_year, entity_dataframes, *reforms)\u001b[0m\n\u001b[1;32m     39\u001b[0m                 \u001b[0mself\u001b[0m\u001b[0;34m.\u001b[0m\u001b[0mentity_dataframes\u001b[0m \u001b[0;34m=\u001b[0m \u001b[0mentity_dataframes\u001b[0m\u001b[0;34m\u001b[0m\u001b[0;34m\u001b[0m\u001b[0m\n\u001b[1;32m     40\u001b[0m             \u001b[0;32melse\u001b[0m\u001b[0;34m:\u001b[0m\u001b[0;34m\u001b[0m\u001b[0;34m\u001b[0m\u001b[0m\n\u001b[0;32m---> 41\u001b[0;31m                 \u001b[0mself\u001b[0m\u001b[0;34m.\u001b[0m\u001b[0mentity_dataframes\u001b[0m \u001b[0;34m=\u001b[0m \u001b[0mFRSDataset\u001b[0m\u001b[0;34m(\u001b[0m\u001b[0myear\u001b[0m\u001b[0;34m)\u001b[0m\u001b[0;34m.\u001b[0m\u001b[0mentity_dfs\u001b[0m\u001b[0;34m\u001b[0m\u001b[0;34m\u001b[0m\u001b[0m\n\u001b[0m\u001b[1;32m     42\u001b[0m             \u001b[0mself\u001b[0m\u001b[0;34m.\u001b[0m\u001b[0msimulation\u001b[0m \u001b[0;34m=\u001b[0m \u001b[0mself\u001b[0m\u001b[0;34m.\u001b[0m\u001b[0mload_dataset\u001b[0m\u001b[0;34m(\u001b[0m\u001b[0mself\u001b[0m\u001b[0;34m.\u001b[0m\u001b[0mentity_dataframes\u001b[0m\u001b[0;34m)\u001b[0m\u001b[0;34m\u001b[0m\u001b[0;34m\u001b[0m\u001b[0m\n\u001b[1;32m     43\u001b[0m         \u001b[0;32melif\u001b[0m \u001b[0mmode\u001b[0m \u001b[0;34m==\u001b[0m \u001b[0;34m\"spi\"\u001b[0m\u001b[0;34m:\u001b[0m\u001b[0;34m\u001b[0m\u001b[0;34m\u001b[0m\u001b[0m\n",
      "\u001b[0;32m~/opt/anaconda3/envs/openfisca/lib/python3.7/site-packages/openfisca_uk/microdata/frs/dataset.py\u001b[0m in \u001b[0;36m__init__\u001b[0;34m(self, year)\u001b[0m\n\u001b[1;32m     26\u001b[0m         \u001b[0mdataset_path\u001b[0m \u001b[0;34m=\u001b[0m \u001b[0mDATA_STORE\u001b[0m \u001b[0;34m/\u001b[0m \u001b[0myear\u001b[0m\u001b[0;34m\u001b[0m\u001b[0;34m\u001b[0m\u001b[0m\n\u001b[1;32m     27\u001b[0m         \u001b[0;32mif\u001b[0m \u001b[0mentity_dataframes_exist\u001b[0m\u001b[0;34m(\u001b[0m\u001b[0mdataset_path\u001b[0m\u001b[0;34m)\u001b[0m\u001b[0;34m:\u001b[0m\u001b[0;34m\u001b[0m\u001b[0;34m\u001b[0m\u001b[0m\n\u001b[0;32m---> 28\u001b[0;31m             \u001b[0mperson\u001b[0m \u001b[0;34m=\u001b[0m \u001b[0mpd\u001b[0m\u001b[0;34m.\u001b[0m\u001b[0mread_csv\u001b[0m\u001b[0;34m(\u001b[0m\u001b[0mdataset_path\u001b[0m \u001b[0;34m/\u001b[0m \u001b[0;34m\"person.csv\"\u001b[0m\u001b[0;34m)\u001b[0m\u001b[0;34m\u001b[0m\u001b[0;34m\u001b[0m\u001b[0m\n\u001b[0m\u001b[1;32m     29\u001b[0m             \u001b[0mbenunit\u001b[0m \u001b[0;34m=\u001b[0m \u001b[0mpd\u001b[0m\u001b[0;34m.\u001b[0m\u001b[0mread_csv\u001b[0m\u001b[0;34m(\u001b[0m\u001b[0mdataset_path\u001b[0m \u001b[0;34m/\u001b[0m \u001b[0;34m\"benunit.csv\"\u001b[0m\u001b[0;34m)\u001b[0m\u001b[0;34m\u001b[0m\u001b[0;34m\u001b[0m\u001b[0m\n\u001b[1;32m     30\u001b[0m             \u001b[0mhousehold\u001b[0m \u001b[0;34m=\u001b[0m \u001b[0mpd\u001b[0m\u001b[0;34m.\u001b[0m\u001b[0mread_csv\u001b[0m\u001b[0;34m(\u001b[0m\u001b[0mdataset_path\u001b[0m \u001b[0;34m/\u001b[0m \u001b[0;34m\"household.csv\"\u001b[0m\u001b[0;34m)\u001b[0m\u001b[0;34m\u001b[0m\u001b[0;34m\u001b[0m\u001b[0m\n",
      "\u001b[0;32m~/opt/anaconda3/envs/openfisca/lib/python3.7/site-packages/pandas/io/parsers.py\u001b[0m in \u001b[0;36mread_csv\u001b[0;34m(filepath_or_buffer, sep, delimiter, header, names, index_col, usecols, squeeze, prefix, mangle_dupe_cols, dtype, engine, converters, true_values, false_values, skipinitialspace, skiprows, skipfooter, nrows, na_values, keep_default_na, na_filter, verbose, skip_blank_lines, parse_dates, infer_datetime_format, keep_date_col, date_parser, dayfirst, cache_dates, iterator, chunksize, compression, thousands, decimal, lineterminator, quotechar, quoting, doublequote, escapechar, comment, encoding, dialect, error_bad_lines, warn_bad_lines, delim_whitespace, low_memory, memory_map, float_precision)\u001b[0m\n\u001b[1;32m    686\u001b[0m     )\n\u001b[1;32m    687\u001b[0m \u001b[0;34m\u001b[0m\u001b[0m\n\u001b[0;32m--> 688\u001b[0;31m     \u001b[0;32mreturn\u001b[0m \u001b[0m_read\u001b[0m\u001b[0;34m(\u001b[0m\u001b[0mfilepath_or_buffer\u001b[0m\u001b[0;34m,\u001b[0m \u001b[0mkwds\u001b[0m\u001b[0;34m)\u001b[0m\u001b[0;34m\u001b[0m\u001b[0;34m\u001b[0m\u001b[0m\n\u001b[0m\u001b[1;32m    689\u001b[0m \u001b[0;34m\u001b[0m\u001b[0m\n\u001b[1;32m    690\u001b[0m \u001b[0;34m\u001b[0m\u001b[0m\n",
      "\u001b[0;32m~/opt/anaconda3/envs/openfisca/lib/python3.7/site-packages/pandas/io/parsers.py\u001b[0m in \u001b[0;36m_read\u001b[0;34m(filepath_or_buffer, kwds)\u001b[0m\n\u001b[1;32m    458\u001b[0m \u001b[0;34m\u001b[0m\u001b[0m\n\u001b[1;32m    459\u001b[0m     \u001b[0;32mtry\u001b[0m\u001b[0;34m:\u001b[0m\u001b[0;34m\u001b[0m\u001b[0;34m\u001b[0m\u001b[0m\n\u001b[0;32m--> 460\u001b[0;31m         \u001b[0mdata\u001b[0m \u001b[0;34m=\u001b[0m \u001b[0mparser\u001b[0m\u001b[0;34m.\u001b[0m\u001b[0mread\u001b[0m\u001b[0;34m(\u001b[0m\u001b[0mnrows\u001b[0m\u001b[0;34m)\u001b[0m\u001b[0;34m\u001b[0m\u001b[0;34m\u001b[0m\u001b[0m\n\u001b[0m\u001b[1;32m    461\u001b[0m     \u001b[0;32mfinally\u001b[0m\u001b[0;34m:\u001b[0m\u001b[0;34m\u001b[0m\u001b[0;34m\u001b[0m\u001b[0m\n\u001b[1;32m    462\u001b[0m         \u001b[0mparser\u001b[0m\u001b[0;34m.\u001b[0m\u001b[0mclose\u001b[0m\u001b[0;34m(\u001b[0m\u001b[0;34m)\u001b[0m\u001b[0;34m\u001b[0m\u001b[0;34m\u001b[0m\u001b[0m\n",
      "\u001b[0;32m~/opt/anaconda3/envs/openfisca/lib/python3.7/site-packages/pandas/io/parsers.py\u001b[0m in \u001b[0;36mread\u001b[0;34m(self, nrows)\u001b[0m\n\u001b[1;32m   1196\u001b[0m     \u001b[0;32mdef\u001b[0m \u001b[0mread\u001b[0m\u001b[0;34m(\u001b[0m\u001b[0mself\u001b[0m\u001b[0;34m,\u001b[0m \u001b[0mnrows\u001b[0m\u001b[0;34m=\u001b[0m\u001b[0;32mNone\u001b[0m\u001b[0;34m)\u001b[0m\u001b[0;34m:\u001b[0m\u001b[0;34m\u001b[0m\u001b[0;34m\u001b[0m\u001b[0m\n\u001b[1;32m   1197\u001b[0m         \u001b[0mnrows\u001b[0m \u001b[0;34m=\u001b[0m \u001b[0m_validate_integer\u001b[0m\u001b[0;34m(\u001b[0m\u001b[0;34m\"nrows\"\u001b[0m\u001b[0;34m,\u001b[0m \u001b[0mnrows\u001b[0m\u001b[0;34m)\u001b[0m\u001b[0;34m\u001b[0m\u001b[0;34m\u001b[0m\u001b[0m\n\u001b[0;32m-> 1198\u001b[0;31m         \u001b[0mret\u001b[0m \u001b[0;34m=\u001b[0m \u001b[0mself\u001b[0m\u001b[0;34m.\u001b[0m\u001b[0m_engine\u001b[0m\u001b[0;34m.\u001b[0m\u001b[0mread\u001b[0m\u001b[0;34m(\u001b[0m\u001b[0mnrows\u001b[0m\u001b[0;34m)\u001b[0m\u001b[0;34m\u001b[0m\u001b[0;34m\u001b[0m\u001b[0m\n\u001b[0m\u001b[1;32m   1199\u001b[0m \u001b[0;34m\u001b[0m\u001b[0m\n\u001b[1;32m   1200\u001b[0m         \u001b[0;31m# May alter columns / col_dict\u001b[0m\u001b[0;34m\u001b[0m\u001b[0;34m\u001b[0m\u001b[0;34m\u001b[0m\u001b[0m\n",
      "\u001b[0;32m~/opt/anaconda3/envs/openfisca/lib/python3.7/site-packages/pandas/io/parsers.py\u001b[0m in \u001b[0;36mread\u001b[0;34m(self, nrows)\u001b[0m\n\u001b[1;32m   2155\u001b[0m     \u001b[0;32mdef\u001b[0m \u001b[0mread\u001b[0m\u001b[0;34m(\u001b[0m\u001b[0mself\u001b[0m\u001b[0;34m,\u001b[0m \u001b[0mnrows\u001b[0m\u001b[0;34m=\u001b[0m\u001b[0;32mNone\u001b[0m\u001b[0;34m)\u001b[0m\u001b[0;34m:\u001b[0m\u001b[0;34m\u001b[0m\u001b[0;34m\u001b[0m\u001b[0m\n\u001b[1;32m   2156\u001b[0m         \u001b[0;32mtry\u001b[0m\u001b[0;34m:\u001b[0m\u001b[0;34m\u001b[0m\u001b[0;34m\u001b[0m\u001b[0m\n\u001b[0;32m-> 2157\u001b[0;31m             \u001b[0mdata\u001b[0m \u001b[0;34m=\u001b[0m \u001b[0mself\u001b[0m\u001b[0;34m.\u001b[0m\u001b[0m_reader\u001b[0m\u001b[0;34m.\u001b[0m\u001b[0mread\u001b[0m\u001b[0;34m(\u001b[0m\u001b[0mnrows\u001b[0m\u001b[0;34m)\u001b[0m\u001b[0;34m\u001b[0m\u001b[0;34m\u001b[0m\u001b[0m\n\u001b[0m\u001b[1;32m   2158\u001b[0m         \u001b[0;32mexcept\u001b[0m \u001b[0mStopIteration\u001b[0m\u001b[0;34m:\u001b[0m\u001b[0;34m\u001b[0m\u001b[0;34m\u001b[0m\u001b[0m\n\u001b[1;32m   2159\u001b[0m             \u001b[0;32mif\u001b[0m \u001b[0mself\u001b[0m\u001b[0;34m.\u001b[0m\u001b[0m_first_chunk\u001b[0m\u001b[0;34m:\u001b[0m\u001b[0;34m\u001b[0m\u001b[0;34m\u001b[0m\u001b[0m\n",
      "\u001b[0;32mpandas/_libs/parsers.pyx\u001b[0m in \u001b[0;36mpandas._libs.parsers.TextReader.read\u001b[0;34m()\u001b[0m\n",
      "\u001b[0;32mpandas/_libs/parsers.pyx\u001b[0m in \u001b[0;36mpandas._libs.parsers.TextReader._read_low_memory\u001b[0;34m()\u001b[0m\n",
      "\u001b[0;32mpandas/_libs/parsers.pyx\u001b[0m in \u001b[0;36mpandas._libs.parsers.TextReader._read_rows\u001b[0;34m()\u001b[0m\n",
      "\u001b[0;32mpandas/_libs/parsers.pyx\u001b[0m in \u001b[0;36mpandas._libs.parsers.TextReader._convert_column_data\u001b[0;34m()\u001b[0m\n",
      "\u001b[0;32mpandas/_libs/parsers.pyx\u001b[0m in \u001b[0;36mpandas._libs.parsers.TextReader._convert_tokens\u001b[0;34m()\u001b[0m\n",
      "\u001b[0;32mpandas/_libs/parsers.pyx\u001b[0m in \u001b[0;36mpandas._libs.parsers.TextReader._convert_with_dtype\u001b[0;34m()\u001b[0m\n",
      "\u001b[0;32m~/opt/anaconda3/envs/openfisca/lib/python3.7/site-packages/pandas/core/dtypes/common.py\u001b[0m in \u001b[0;36mis_categorical_dtype\u001b[0;34m(arr_or_dtype)\u001b[0m\n\u001b[1;32m    528\u001b[0m \u001b[0;34m\u001b[0m\u001b[0m\n\u001b[1;32m    529\u001b[0m \u001b[0;34m\u001b[0m\u001b[0m\n\u001b[0;32m--> 530\u001b[0;31m \u001b[0;32mdef\u001b[0m \u001b[0mis_categorical_dtype\u001b[0m\u001b[0;34m(\u001b[0m\u001b[0marr_or_dtype\u001b[0m\u001b[0;34m)\u001b[0m \u001b[0;34m->\u001b[0m \u001b[0mbool\u001b[0m\u001b[0;34m:\u001b[0m\u001b[0;34m\u001b[0m\u001b[0;34m\u001b[0m\u001b[0m\n\u001b[0m\u001b[1;32m    531\u001b[0m     \"\"\"\n\u001b[1;32m    532\u001b[0m     \u001b[0mCheck\u001b[0m \u001b[0mwhether\u001b[0m \u001b[0man\u001b[0m \u001b[0marray\u001b[0m\u001b[0;34m-\u001b[0m\u001b[0mlike\u001b[0m \u001b[0;32mor\u001b[0m \u001b[0mdtype\u001b[0m \u001b[0;32mis\u001b[0m \u001b[0mof\u001b[0m \u001b[0mthe\u001b[0m \u001b[0mCategorical\u001b[0m \u001b[0mdtype\u001b[0m\u001b[0;34m.\u001b[0m\u001b[0;34m\u001b[0m\u001b[0;34m\u001b[0m\u001b[0m\n",
      "\u001b[0;31mKeyboardInterrupt\u001b[0m: "
     ]
    }
   ],
   "source": [
    "def find_poverty_diff(sim_BI):\n",
    "    poverty_difference = sim.calc(\"in_poverty_bhc\", map_to=\"person\").sum() - sim_BI.calc(\"in_poverty_bhc\", map_to=\"person\").sum()\n",
    "    percentage_difference = (poverty_difference/sim.calc(\"in_poverty_bhc\", map_to=\"person\").sum()) * -100\n",
    "    return percentage_difference\n",
    "\n",
    "PA_amounts = [12500, 11500, 10500, 9500, 8500, 7500, 6500, 5500, 4500, 3500, 2500, 1500, 500, 0]\n",
    "pov_diffs = [find_poverty_diff(make_PA_reform(i)) for i in (PA_amounts)]\n",
    "\n",
    "chart7 = px.line(x=PA_amounts, y=pov_diffs)\n",
    "chart7.update_layout(\n",
    "    title_text='Effect of UBI on poverty at different levels of personal allowance reduction',\n",
    "    xaxis_title =\"Amount of personal allowance (£)\",\n",
    "    yaxis_title =\"Reduction in poverty\",\n",
    "    yaxis_ticksuffix=\"%\"\n",
    ")"
   ]
  },
  {
   "cell_type": "markdown",
   "id": "2bf5a82a-3ed2-439c-b0d1-472fe7574c95",
   "metadata": {},
   "source": [
    "#### Conclusion"
   ]
  },
  {
   "cell_type": "markdown",
   "id": "9b094ffd-ba8f-48e8-a73a-bc534a1fdb68",
   "metadata": {},
   "source": [
    "This analysis shows that replacing personal allowance with UBI is a far more effective mechanism for cutting poverty than maintaining or increasing it. Thus, continued existence of the personal allowance is suboptimal as an antipoverty policy, and in the Liberal Democrats’ explored UBI policies eliminating it fully could reduce poverty by over an additional 5%. \n",
    "\n",
    "Furthermore, a disproportionate amount of this benefit would go to children. Since child poverty has well-documented impacts on educational and health outcomes (see [here](https://www.jrf.org.uk/sites/default/files/jrf/migrated/files/2123.pdf) and [here](https://adc.bmj.com/content/archdischild/101/8/759.full.pdf)), this has the potential to be a high-impact policy for society as a whole.\n",
    "\n",
    "Hence, UBI proponents in the UK should take a serious look at whether keeping the personal allowance is worthwhile, given the potential benefits of the UBI amount that could be funded through taxing it."
   ]
  }
 ],
 "metadata": {
  "kernelspec": {
   "display_name": "Python 3",
   "language": "python",
   "name": "python3"
  },
  "language_info": {
   "codemirror_mode": {
    "name": "ipython",
    "version": 3
   },
   "file_extension": ".py",
   "mimetype": "text/x-python",
   "name": "python",
   "nbconvert_exporter": "python",
   "pygments_lexer": "ipython3",
   "version": "3.7.10"
  }
 },
 "nbformat": 4,
 "nbformat_minor": 5
}
