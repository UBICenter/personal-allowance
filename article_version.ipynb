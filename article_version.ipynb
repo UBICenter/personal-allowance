{
 "cells": [
  {
   "cell_type": "code",
   "execution_count": 69,
   "id": "37a50f8d-28a8-4be1-9923-979d31f78093",
   "metadata": {},
   "outputs": [],
   "source": [
    "# Setup\n",
    "from openfisca_uk import Microsimulation\n",
    "from openfisca_uk import *\n",
    "from openfisca_core.model_api import Reform\n",
    "from openfisca_uk.entities import Person, BenUnit, Household\n",
    "from openfisca_core.model_api import *\n",
    "from openfisca_uk.tools.general import *\n",
    "from ubicenter import format_fig\n",
    "\n",
    "import plotly.express as px\n",
    "import plotly.io as pio\n",
    "pio.renderers.default = \"browser\"\n",
    "#change \"browser\" to \"notebook\" when working on non-ines computers\n",
    "\n",
    "sim = Microsimulation(input_year=2020)\n",
    "\n",
    "from openfisca_core import periods\n",
    "def make_PA_reform(PA_amount):\n",
    "    \n",
    "    def update_PA_parameter(parameters):\n",
    "        parameters.tax.income_tax.allowances.personal_allowance.amount.update(period=periods.period(\"year:2020:1\"), value=PA_amount)\n",
    "        return parameters\n",
    "    \n",
    "    class reform(Reform):\n",
    "        def apply(self):\n",
    "            self.modify_parameters(update_PA_parameter)\n",
    "    \n",
    "    sim_less_PA = Microsimulation(reform, input_year=2020)\n",
    "    revenue = sim.calc(\"net_income\").sum()\n",
    "    revenue_diff = revenue - sim_less_PA.calc(\"net_income\").sum()\n",
    "    BI_amount = revenue_diff/(sim.calc(\"people\").sum())\n",
    "    \n",
    "    class BI(Variable):\n",
    "        value_type = float\n",
    "        entity = Person\n",
    "        label = u\"UBI\"\n",
    "        definition_period = YEAR\n",
    "        def formula(person, period, parameters):\n",
    "            return(BI_amount)\n",
    "\n",
    "    class gross_income(Variable):\n",
    "        value_type = float\n",
    "        entity = Person\n",
    "        label = u\"Gross income, including benefits\"\n",
    "        definition_period = YEAR\n",
    "\n",
    "        def formula(person, period, parameters):\n",
    "            COMPONENTS = [\n",
    "                \"employment_income\",\n",
    "                \"pension_income\",\n",
    "                \"self_employment_income\",\n",
    "                \"property_income\",\n",
    "                \"savings_interest_income\",\n",
    "                \"dividend_income\",\n",
    "                \"miscellaneous_income\",\n",
    "                \"benefits\",\n",
    "                \"BI\"\n",
    "            ]\n",
    "            return add(person, period, COMPONENTS)   \n",
    "\n",
    "    class basic_income(Reform):\n",
    "        def apply(self):\n",
    "            self.add_variable(BI)\n",
    "            self.update_variable(gross_income)\n",
    "            \n",
    "    sim_BI = Microsimulation(reform, basic_income, input_year=2020)\n",
    "    \n",
    "    return sim_BI\n",
    "\n",
    "sim_BI = make_PA_reform(0)"
   ]
  },
  {
   "cell_type": "markdown",
   "id": "78ee2b7a-44b4-41f8-953d-14f1b9342ef6",
   "metadata": {},
   "source": [
    "# Funding UBI by eliminating the personal allowance"
   ]
  },
  {
   "cell_type": "markdown",
   "id": "c7e0ba44-2492-4cbd-a25a-963da1d99aa9",
   "metadata": {},
   "source": [
    "The personal allowance is a feature of the UK tax system which designates a certain amount of individual income as non-taxable. This amount is currently set at £12,500, meaning the first £12,500 of an individual’s earnings are not taxed. Ever since it was [first introduced in 1979](http://taxhistory.co.uk/Income%20Tax%20Allowances.htm) at £1,165 (equivalent to around [£6,028 today)](https://www.bankofengland.co.uk/monetary-policy/inflation/inflation-calculator), it has been steadily increasing almost every year.\n"
   ]
  },
  {
   "cell_type": "markdown",
   "id": "2a76e4a6-319f-41f6-9e8d-a75eace04993",
   "metadata": {},
   "source": [
    "#### Benefits & Criticisms of PA\n"
   ]
  },
  {
   "cell_type": "markdown",
   "id": "6775738e-00ec-46bc-a5b4-8fc1da2b26af",
   "metadata": {},
   "source": [
    "The personal allowance is fairly popular in the UK, as it allows people to retain a greater portion of their income. At current levels, the average individual saves over £1,600 annually in taxes thanks to the personal allowance.\n",
    "\n",
    "Moreover, it is often thought of as fiscally progressive since it allows the lowest income earners—those making under £12,500—to be free from any income tax at all, while it phases out for the highest earners making above £100,000. Many people support raising the personal allowance thinking that the higher it is, the greater the number of low-income earners who fall below the threshold, allowing these individuals to retain more of their income. Thus, by this logic, it should serve as a mechanism for reducing poverty.\n",
    "\n",
    "Though this sounds good on paper, the personal allowance has been found to be regressive in practice. This does not mean that the poor do not benefit from it, but that the affluent benefit from it more. There are two main reasons for this. Firstly, many of the UK’s poorest already fall below the personal allowance threshold, and raising the personal allowance does nothing for them. Rather, it exclusively helps higher income earners who make above the threshold and up to [£125,140](https://www.gov.uk/income-tax-rates/income-over-100000). Though some at the bottom of the income scale may benefit, the [overwhelming majority of the benefits do not go to them](https://leftfootforward.org/2013/03/the-10000-personal-tax-allowance-anything-but-progressive/) but to those more affluent.\n",
    "\n",
    "The second reason has to do with the phaseout of Universal Credit and similar means-tested benefits. Since Universal Credit is based on post-tax income, then when taxes are reduced and post-tax income rises, recipients see their Universal Credit amount reduced as well. As [explained](https://www.politics.co.uk/opinion-former/press-release/2018/10/29/personal-allowance-increase-does-little-for-those-on-lowest-income/) by Victoria Todd, Head of the Low Income Tax Reform Group, about the 2019 changes: \n",
    "\n",
    "> “[Universal credit recipients] will not see the full tax gain of £130 from the increase in the personal allowance; instead, they will only gain overall by £48.10, as their Universal Credit award will be reduced by £81.90. However, those earning above £11,850 who receive tax credits will benefit from the full £130 because tax credits are based on gross income.”\n",
    "\n",
    "Again, this means that higher-income earners benefit more than low-income earners from personal reform increases. In fact, according to [one report](https://www.resolutionfoundation.org/app/uploads/2014/12/Missing-the-target1.pdf) by the Resolution Foundation, the most recent increase of the personal allowance to £12,500 gave only around £18 of additional income to the bottom 10% of households and £203 to the top 10%."
   ]
  },
  {
   "cell_type": "markdown",
   "id": "f2fd549b-8daa-4d23-8bfc-3d09788ef032",
   "metadata": {},
   "source": [
    "#### Party proposals regarding personal allowance and UBI\n"
   ]
  },
  {
   "cell_type": "markdown",
   "id": "61e5e3ad-0f0a-4c98-b84b-4bf17b735750",
   "metadata": {},
   "source": [
    "The regressivity of the personal allowance suggests that its elimination would lead the income of the UK’s poorest to be reduced only negligibly, while the more affluent would see a greater burden. This makes it a good candidate for helping fund a progressive UBI proposal.\n",
    "\n",
    "Both UK parties who have released UBI proposals have found a role for personal allowance to help fund their programs. The Liberal Democrats have conceded that there will be a reduction, but insist their proposal involves [“in all cases leaving some level of Personal Allowance (at least £2,500 a year)”](https://d3n8a8pro7vhmx.cloudfront.net/libdems/pages/1811/attachments/original/1621669347/145_-_Universal_Basic_Income.docx_%281%29.pdf?1621669347). Meanwhile, the Green Party states that in their model, UBI will be taxable, but [“all income tax payers will have a tax-free allowance which is the equivalent to their Universal Basic Income amount”](https://www.greenparty.ie/wp-content/uploads/2018/07/Green-Party-Universal-Basic-Income-Policy.pdf). This means that, in practice, the UBI would not be taxed and the personal allowance would effectively be eliminated. Both parties also include UBI when means-testing.\n",
    "\n",
    "In the following analysis, we will explore the effect of a UBI funded exclusively through the elimination of a personal allowance. The UBI amount in this simulation is equal amount for everyone, regardless of age or disability, and does not count towards means-testing."
   ]
  },
  {
   "cell_type": "markdown",
   "id": "38541e34-30c0-4fa9-80e2-e7574509de7d",
   "metadata": {},
   "source": [
    "#### Our findings"
   ]
  },
  {
   "cell_type": "markdown",
   "id": "462bc265-e85f-4912-b2ef-d6ffaefed217",
   "metadata": {},
   "source": [
    "Under this policy, our simulation finds that we could fund a UBI of around £1,634 per person. The following graph shows the effect this would have across different among deciles:"
   ]
  },
  {
   "cell_type": "code",
   "execution_count": 73,
   "id": "60af4623-020e-4b12-a67a-efb8608751b9",
   "metadata": {},
   "outputs": [],
   "source": [
    "income_diff = sim_BI.calc(\"household_net_income\") - sim.calc(\"household_net_income\")\n",
    "income = sim.calc(\"household_net_income\")\n",
    "\n",
    "chart1 = format_fig(px.bar(income_diff.groupby(income.decile_rank()).mean()).update_layout(\n",
    "    title_text='Mean difference in household net income for each income decile',\n",
    "    xaxis_title =\"Income decile\",\n",
    "    yaxis_title =\"Change in income (£)\",\n",
    "    showlegend= False,\n",
    "))\n"
   ]
  },
  {
   "cell_type": "markdown",
   "id": "4bc49625-ca2d-4080-a9ac-20341c50cfa2",
   "metadata": {},
   "source": [
    "This policy would, in general, serve as a wealth transfer from the richest 40% to the poorest 60%. \n",
    "\n",
    "Median household income would increase by about £564, and this number is over five times greater for those living in poverty. Hence, poverty would be reduced by about 29%, while deep poverty (people living at under half the poverty line) would be reduced by about 46%."
   ]
  },
  {
   "cell_type": "code",
   "execution_count": 74,
   "id": "830b0eeb-4492-4bba-af75-e97f865aef4f",
   "metadata": {},
   "outputs": [],
   "source": [
    "#Median difference in household net income for different poverty groups\n",
    "effect = sim_BI.calc(\"household_net_income\", map_to=\"person\") - sim.calc(\"household_net_income\", map_to=\"person\")\n",
    "isDeepPoor = sim.calc(\"in_deep_poverty_bhc\", map_to =\"person\")\n",
    "isPoor = sim.calc(\"in_poverty_bhc\", map_to = \"person\") & ~isDeepPoor\n",
    "#isPoor excludes those in deep poverty\n",
    "overall = sim_BI.calc(\"household_net_income\").median() - sim.calc(\"household_net_income\").median()\n",
    "\n",
    "\n",
    "chart2 = format_fig(px.bar(x=[\"Deep poverty\", \"In poverty, but not deep\", \"Not in poverty\", \"Overall\"], y=[effect[isDeepPoor].mean(), effect[isPoor].mean(), effect[~isPoor].mean(), overall]).update_layout(\n",
    "    title_text='Median gain in household net income for different poverty groups',\n",
    "    xaxis_title =\"Group\",\n",
    "    yaxis_title =\"Median gain in household net income (£)\",\n",
    "))"
   ]
  },
  {
   "cell_type": "code",
   "execution_count": 75,
   "id": "0ea2419c-52be-4e94-9a25-f1f14b57819a",
   "metadata": {},
   "outputs": [],
   "source": [
    "#Reductions in poverty rates\n",
    "\n",
    "import plotly.graph_objects as go\n",
    "\n",
    "poverty_before = sim.calc(\"in_poverty_bhc\", map_to=\"person\").sum()/sim.calc(\"people\").sum() * 100\n",
    "poverty_now = sim_BI.calc(\"in_poverty_bhc\", map_to=\"person\").sum()/sim.calc(\"people\").sum() * 100\n",
    "\n",
    "deep_poverty_before = sim.calc(\"in_deep_poverty_bhc\", map_to=\"person\").sum()/sim.calc(\"people\").sum() * 100\n",
    "deep_poverty_now = sim_BI.calc(\"in_deep_poverty_bhc\", map_to=\"person\").sum()/sim.calc(\"people\").sum() * 100\n",
    "\n",
    "poverty_types=['Poverty', \"Deep poverty\"]\n",
    "\n",
    "chart3 = format_fig(go.Figure(data=[\n",
    "    go.Bar(name='Before reform', x=poverty_types, y=[poverty_before, deep_poverty_before]),\n",
    "    go.Bar(name='After reform', x=poverty_types, y=[poverty_now, deep_poverty_now])\n",
    "]).update_layout(\n",
    "    barmode='group', \n",
    "    title_text='Poverty rates before and after reform', \n",
    "    xaxis_title =\"Poverty type\",\n",
    "    yaxis_title =\"Rate\",\n",
    "    yaxis_ticksuffix=\"%\", ))"
   ]
  },
  {
   "cell_type": "markdown",
   "id": "27e1a669-121d-4a75-85a5-f2b3d5494de3",
   "metadata": {},
   "source": [
    "Part of the results above are explained not only by the regressivity of personal allowance, but also by the fact that poor households tend to have more children and would therefore receive more UBI checks per household. Similarly, households in deep poverty tend to have fewer children than other poor households, which explains why the median gain is slightly less for this group.\n",
    "\n",
    "In fact, this policy would benefit children more than any other group, as children do not lose income to a personal allowance decrease, and exclusively gain from the UBI amount given to them. Child poverty would be reduced by about 51%. As shown below, this would largely serve as a wealth transfer from adults to children."
   ]
  },
  {
   "cell_type": "code",
   "execution_count": 76,
   "id": "c479030a-ae10-48cd-ab18-ddbba0b51516",
   "metadata": {},
   "outputs": [],
   "source": [
    "#Mean difference in household income by age\n",
    "income_diff_2 = sim_BI.calc(\"household_net_income\", map_to=\"person\") - sim.calc(\"household_net_income\", map_to=\"person\")\n",
    "age = sim.calc(\"age\", map_to =\"person\")\n",
    "chart4 = format_fig(px.bar(income_diff_2.groupby(age).mean()).update_layout(\n",
    "    title_text='Mean difference in household net income by age',\n",
    "    yaxis_title=\"Change in household income (£)\",\n",
    "    xaxis_title=\"Age\",\n",
    "    showlegend= False,\n",
    "))"
   ]
  },
  {
   "cell_type": "code",
   "execution_count": 79,
   "id": "316b15af-9776-4561-89a6-6d3e7aa0fe71",
   "metadata": {},
   "outputs": [],
   "source": [
    "#Poverty reductions\n",
    "\n",
    "#Child poverty reduction\n",
    "poor_kids_before = sim.calc(\"in_poverty_bhc\", map_to=\"person\")[sim.calc(\"is_child\")].sum()\n",
    "poor_kids_after = sim_BI.calc(\"in_poverty_bhc\", map_to=\"person\")[sim_BI.calc(\"is_child\")].sum()\n",
    "child_pov_reduction = ((poor_kids_before - poor_kids_after)/poor_kids_before) * 100\n",
    "\n",
    "#Percentage of poverty reduction for adults only\n",
    "poor_adults_before = sim.calc(\"in_poverty_bhc\", map_to=\"person\")[sim.calc(\"is_adult\")].sum()\n",
    "poor_adults_after = sim_BI.calc(\"in_poverty_bhc\", map_to=\"person\")[sim_BI.calc(\"is_adult\")].sum()\n",
    "adult_pov_reduction = ((poor_adults_before - poor_adults_after)/poor_adults_before) * 100\n",
    "\n",
    "#Overall\n",
    "poverty_difference = sim_BI.calc(\"in_poverty_bhc\", map_to=\"person\").sum() - sim.calc(\"in_poverty_bhc\", map_to=\"person\").sum()\n",
    "overall_reduction = (poverty_difference/sim.calc(\"in_poverty_bhc\", map_to=\"person\").sum()) * -100\n",
    "\n",
    "chart5 = format_fig(px.bar(x=[\"Children\", \"Adults\", \"Overall\"], y=[child_pov_reduction, adult_pov_reduction, overall_reduction]).update_layout(\n",
    "    title_text='Poverty reductions by age group',\n",
    "    yaxis_title=\"Reduction in poverty\",\n",
    "    xaxis_title=\"Age group\",\n",
    "    yaxis_ticksuffix=\"%\"\n",
    "))"
   ]
  },
  {
   "cell_type": "code",
   "execution_count": 80,
   "id": "7fc1615a-2c43-4e6a-8e43-e40de120d526",
   "metadata": {},
   "outputs": [],
   "source": [
    "#Mean income difference grouped by family type\n",
    "person_income_diff = sim_BI.calc(\"net_income\") - sim.calc(\"net_income\")\n",
    "family = sim.calc(\"family_type\", map_to = \"person\")\n",
    "\n",
    "income_diff_by_family = person_income_diff.groupby(family).mean()\n",
    "\n",
    "chart6 = format_fig(px.bar(x=[\"Couple without children\", \"Couple with children\", \"Single parent\", \"Single individual\"], y=income_diff_by_family).update_layout(\n",
    "    title_text='Mean income difference grouped by family type',\n",
    "    yaxis_title=\"Change in income (£)\",\n",
    "    xaxis_title=\"Family type\"\n",
    "))"
   ]
  },
  {
   "cell_type": "markdown",
   "id": "c9bfbe8f-a76d-49ea-b2fc-872b2b30398c",
   "metadata": {},
   "source": [
    "Lastly, the following graph shows that funding UBI through an only partial decrease in personal allowance reduces the aforementioned effects on poverty. Each £2,000 of personal allowance reduced buys around a 5% decrease in poverty, meaning each £2,000 of personal allowance preserved decreases the poverty effect by 5 percentage points. \n",
    "\n",
    "This shows that the optimal policy to reduce poverty implies not reduction but full elimination of the personal allowance in favor of funding UBI, since there is a linear relationship between the two."
   ]
  },
  {
   "cell_type": "code",
   "execution_count": 84,
   "id": "c959e330-8fb9-47eb-850a-676dfa7b37e4",
   "metadata": {},
   "outputs": [],
   "source": [
    "def find_poverty_diff(sim_BI):\n",
    "    poverty_difference = sim.calc(\"in_poverty_bhc\", map_to=\"person\").sum() - sim_BI.calc(\"in_poverty_bhc\", map_to=\"person\").sum()\n",
    "    percentage_difference = (poverty_difference/sim.calc(\"in_poverty_bhc\", map_to=\"person\").sum()) * 100\n",
    "    return percentage_difference\n",
    "\n",
    "PA_amounts = [12500, 11500, 10500, 9500, 8500, 7500, 6500, 5500, 4500, 3500, 2500, 1500, 500, 0]\n",
    "pov_diffs = [find_poverty_diff(make_PA_reform(i)) for i in (PA_amounts)]\n",
    "\n",
    "chart7 = format_fig(px.line(x=PA_amounts, y=pov_diffs).update_layout(\n",
    "    title_text='Effect of UBI on poverty at different levels of personal allowance reduction',\n",
    "    xaxis_title =\"Amount of personal allowance (£)\",\n",
    "    yaxis_title =\"Reduction in poverty\",\n",
    "    yaxis_ticksuffix=\"%\"\n",
    "))"
   ]
  },
  {
   "cell_type": "markdown",
   "id": "2bf5a82a-3ed2-439c-b0d1-472fe7574c95",
   "metadata": {},
   "source": [
    "#### Conclusion"
   ]
  },
  {
   "cell_type": "markdown",
   "id": "9b094ffd-ba8f-48e8-a73a-bc534a1fdb68",
   "metadata": {},
   "source": [
    "This analysis shows that replacing personal allowance with UBI is a far more effective mechanism for cutting poverty than maintaining or increasing it. Thus, continued existence of the personal allowance is suboptimal as an antipoverty policy, and in the Liberal Democrats’ explored UBI policies, eliminating it fully could reduce poverty by over an additional 5%. \n",
    "\n",
    "Furthermore, a disproportionate amount of this benefit would go to children. Since child poverty has well-documented impacts on educational and health outcomes (see [here](https://www.jrf.org.uk/sites/default/files/jrf/migrated/files/2123.pdf) and [here](https://adc.bmj.com/content/archdischild/101/8/759.full.pdf)), this has the potential to be a high-impact policy for society as a whole.\n",
    "\n",
    "Hence, UBI proponents in the UK should take a serious look at whether keeping the personal allowance is worthwhile, given the potential benefits of the UBI amount that could be funded through taxing it."
   ]
  },
  {
   "cell_type": "code",
   "execution_count": null,
   "id": "8f5c118a-ab8c-4d55-a482-fef22c8cc2e1",
   "metadata": {},
   "outputs": [],
   "source": []
  }
 ],
 "metadata": {
  "kernelspec": {
   "display_name": "Python 3",
   "language": "python",
   "name": "python3"
  },
  "language_info": {
   "codemirror_mode": {
    "name": "ipython",
    "version": 3
   },
   "file_extension": ".py",
   "mimetype": "text/x-python",
   "name": "python",
   "nbconvert_exporter": "python",
   "pygments_lexer": "ipython3",
   "version": "3.7.10"
  }
 },
 "nbformat": 4,
 "nbformat_minor": 5
}
