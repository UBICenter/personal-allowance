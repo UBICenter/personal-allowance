{
 "cells": [
  {
   "cell_type": "markdown",
   "source": [
    "# Replacing the UK personal allowance with a universal basic income"
   ],
   "metadata": {}
  },
  {
   "cell_type": "markdown",
   "source": [
    "## This budget-neutral proposal could decrease poverty by up to 29%."
   ],
   "metadata": {}
  },
  {
   "cell_type": "markdown",
   "source": [
    "Among several potential pay-fors in their recent [UBI discussion paper](https://d3n8a8pro7vhmx.cloudfront.net/libdems/pages/1811/attachments/original/1621669347/145_-_Universal_Basic_Income.docx_%281%29.pdf?1621669347), the Liberal Democrats considered lowering the personal allowance from its current value of £12,570 to £2,500. That is, the first £2,500 of an individual's annual earnings would be exempted from taxation, rather than the first £12,570. [As my colleague Nikhil Woodruff found](https://www.ubicenter.org/lib-dem-policy-paper), this would raise about £60 billion which, when funding a UBI, significantly lowers poverty and inequality.\n",
    "\n",
    "The Liberal Democrats were not the first to connect the personal allowance and UBI. The Green Party has also proposed effectively exchanging the two policies[^1], and several think tanks have modeled UBIs involving reductions or repeals of the personal allowance. While the personal allowance is highly salient— a 2014 poll found that [85% of the public](https://www.ipsos.com/ipsos-mori/en-uk/personal-allowances-rise-most-popular-conference-season-tax-pledges) supported raising it—it's also a large source of potential revenue for the costly proposition of paying every member of society every month.\n",
    "\n",
    "In this analysis, I extend the literature around the personal allowance and UBI by modeling a range of personal allowance values and outcomes. I find that repealing the personal allowance could fund a £29 weekly UBI to all members of society, including children. This reform would cut the overall poverty rate by 29%, deep poverty by 46%, and child poverty by 51%. I also find that personal allowance reductions matter on the margin: each £2,000 cut, when funding a UBI, yields around a 5% decrease in poverty. \n",
    "\n",
    "[^1]: The Green Party states that in their model, UBI will be taxable, but [\"all income tax payers will have a tax-free allowance which is the equivalent to their Universal Basic Income amount\"](https://www.greenparty.ie/wp-content/uploads/2018/07/Green-Party-Universal-Basic-Income-Policy.pdf); this means that, in practice, the UBI would not be taxed and the personal allowance would effectively be eliminated.  \n",
    "\n",
    "### How the personal allowance works\n"
   ],
   "metadata": {}
  },
  {
   "cell_type": "markdown",
   "source": [
    "The personal allowance was [introduced in 1979](http://taxhistory.co.uk/Income%20Tax%20Allowances.htm), and it has grown almost every year since. Liberal Democrats accelerated its growth by [calling](https://www.standard.co.uk/news/politics/libdems-to-let-1-3m-low-earners-avoid-paying-tax-8506838.html) for expanding it from £10,000 in 2015 to £12,500 in 2020; this succeeded, and it now sits at £12,570, where it is [expected to remain until April 2026](https://www.reuters.com/article/uk-health-coronavirus-britain-budget-inc-idUSKBN2AV1LP).\n",
    "\n",
    "While many countries have a tax-free band like the personal allowance, the UK also makes the more uncommon decision to phase it out for higher earners. Individuals earning above £100,000 lose £1 of personal allowance for every £2 in earnings, phasing out fully for those earning £125,140 per year and creating 62% marginal tax rates for earners in this range.\n",
    "\n",
    "These components combine to produce a policy that is neither clearly progressive nor clearly regressive. Because households in the bottom decile have little to no earned income, the personal allowance provides them only small benefits. And while those in the upper individual decile are mostly excluded from the personal allowance, those in the upper household decile [still benefit significantly from it](https://ifs.org.uk/publications/6045), due to marriage between high earners and non-high earners[^2]. Repealing the personal allowance would raise £97 billion (£3,585 per worker) and raise the Gini inequality index from 0.386 to 0.396[^3], indicating that the personal allowance is slightly progressive on a net basis.\n",
    "\n",
    "[^2]: This and the remaining analysis uses data from 2020, when the personal allowance was set at £12,500.\n",
    "\n",
    "[^3]: The Gini coefficients used throughout are calculated using total household net income weighted by people."
   ],
   "metadata": {}
  },
  {
   "cell_type": "code",
   "execution_count": 1,
   "source": [
    "# Setup\n",
    "from openfisca_uk import Microsimulation\n",
    "from openfisca_uk import *\n",
    "from openfisca_core.model_api import Reform\n",
    "from openfisca_uk.entities import Person, BenUnit, Household\n",
    "from openfisca_core.model_api import *\n",
    "from openfisca_uk.tools.general import *\n",
    "from ubicenter import format_fig\n",
    "import pandas as pd\n",
    "import plotly.express as px\n",
    "import plotly.io as pio\n",
    "pio.renderers.default = \"browser\"\n",
    "#change \"browser\" to \"notebook\" when working on non-ines computers\n",
    "\n",
    "sim = Microsimulation(year=2020)\n",
    "\n",
    "from openfisca_core import periods\n",
    "def make_PA_reform(PA_amount):\n",
    "    \n",
    "    def update_PA_parameter(parameters):\n",
    "        parameters.tax.income_tax.allowances.personal_allowance.amount.update(period=periods.period(\"year:2020:1\"), value=PA_amount)\n",
    "        return parameters\n",
    "    \n",
    "    class reform(Reform):\n",
    "        def apply(self):\n",
    "            self.modify_parameters(update_PA_parameter)\n",
    "    \n",
    "    sim_less_PA = Microsimulation(reform, year=2020)\n",
    "\n",
    "    revenue = sim.calc(\"net_income\").sum()\n",
    "    revenue_diff = revenue - sim_less_PA.calc(\"net_income\").sum()\n",
    "    BI_amount = revenue_diff/(sim.calc(\"people\").sum())\n",
    "    \n",
    "    class BI(Variable):\n",
    "        value_type = float\n",
    "        entity = Person\n",
    "        label = u\"UBI\"\n",
    "        definition_period = YEAR\n",
    "        def formula(person, period, parameters):\n",
    "            return(BI_amount)\n",
    "\n",
    "        \n",
    "    class gross_income(Variable):\n",
    "        value_type = float\n",
    "        entity = Person\n",
    "        label = u\"Gross income, including benefits\"\n",
    "        definition_period = YEAR\n",
    "\n",
    "        def formula(person, period, parameters):\n",
    "            COMPONENTS = [\n",
    "                \"employment_income\",\n",
    "                \"pension_income\",\n",
    "                \"self_employment_income\",\n",
    "                \"property_income\",\n",
    "                \"savings_interest_income\",\n",
    "                \"dividend_income\",\n",
    "                \"miscellaneous_income\",\n",
    "                \"benefits\",\n",
    "                \"BI\"\n",
    "            ]\n",
    "            return add(person, period, COMPONENTS)   \n",
    "\n",
    "    class basic_income(Reform):\n",
    "        def apply(self):\n",
    "            self.add_variable(BI)\n",
    "            self.update_variable(gross_income)\n",
    "            \n",
    "    sim_BI = Microsimulation(reform, basic_income, year=2020)\n",
    "\n",
    "    return reform, basic_income"
   ],
   "outputs": [
    {
     "output_type": "stream",
     "name": "stderr",
     "text": [
      "/Users/inesfernandez/opt/anaconda3/envs/openfisca/lib/python3.7/site-packages/openfisca_core/parameters/config.py:17: LibYAMLWarning: libyaml is not installed in your environment. This can make OpenFisca slower to start. Once you have installed libyaml, run 'pip uninstall pyyaml && pip install pyyaml --no-cache-dir' so that it is used in your Python environment.\n",
      "\n",
      "  warnings.warn(\" \".join(message), LibYAMLWarning)\n"
     ]
    }
   ],
   "metadata": {}
  },
  {
   "cell_type": "code",
   "execution_count": 2,
   "source": [
    "#Only run once \n",
    "PA_amounts2 = [0, 500, 1500, 2500, 3500, 4500, 5500, 6500, 7500, 8500, 9500, 10500, 11500, 12500]\n",
    "reform_list = [make_PA_reform(i) for i in PA_amounts2]"
   ],
   "outputs": [],
   "metadata": {}
  },
  {
   "cell_type": "code",
   "execution_count": 3,
   "source": [
    "sim_list = [Microsimulation(reform, year=2020) for reform in reform_list]"
   ],
   "outputs": [],
   "metadata": {}
  },
  {
   "cell_type": "code",
   "execution_count": 4,
   "source": [
    "sim_BI = sim_list[0]\n",
    "PA_amounts = [12500, 11500, 10500, 9500, 8500, 7500, 6500, 5500, 4500, 3500, 2500, 1500, 500, 0]\n",
    "PA_amounts2 = [0, 500, 1500, 2500, 3500, 4500, 5500, 6500, 7500, 8500, 9500, 10500, 11500, 12500]\n",
    "income = sim.calc(\"equiv_household_net_income\")"
   ],
   "outputs": [],
   "metadata": {}
  },
  {
   "cell_type": "code",
   "execution_count": 34,
   "source": [
    "#Income % change for deciles w vs w/o PA\n",
    "class PA_reform(Reform):\n",
    "    def apply(self):\n",
    "        self.neutralize_variable(\"personal_allowance\")\n",
    "        \n",
    "sim_no_PA = Microsimulation(PA_reform, year=2020)\n",
    "\n",
    "income_with_PA = sim.calc(\"equiv_household_net_income\") \n",
    "income_no_PA = sim_no_PA.calc(\"equiv_household_net_income\")\n",
    "decile_change = []\n",
    "for n in range (1, 11):\n",
    "    #total income difference for the decile\n",
    "    id = income_with_PA.groupby(income.decile_rank()).sum()[n] - income_no_PA.groupby(income.decile_rank()).sum()[n]\n",
    "    #average income difference for the decile\n",
    "    id2 = id/income_with_PA.groupby(income.decile_rank()).count()[n]\n",
    "    #average income difference of the decile as a percent of average income for the decile\n",
    "    id3 = id2/income_with_PA.groupby(income.decile_rank()).mean()[n] * 100\n",
    "    decile_change.append(id3.round(2))\n",
    "\n",
    "change = pd.Series(decile_change)\n",
    "chart1 = format_fig((px.bar(y=decile_change, labels={\"x\":\"Decile\", \"y\":\"Income gain\"}).update_layout(\n",
    "    title_text='Income increase brought by the personal allowance for households in each income decile',\n",
    "    xaxis_title =\"Household income decile\",\n",
    "    yaxis_title =\"Change in household net income\",\n",
    "    showlegend= False,\n",
    "    yaxis_ticksuffix=\"%\",\n",
    "    xaxis = dict(\n",
    "        tickvals = [0, 1, 2, 3, 4, 5, 6, 7, 8, 9],\n",
    "        ticktext = [1, 2, 3, 4, 5, 6, 7, 8, 9, 10]\n",
    "    ),\n",
    "    \n",
    ").update_traces(marker_color='#1976D2')))\n",
    "chart1"
   ],
   "outputs": [],
   "metadata": {}
  },
  {
   "cell_type": "markdown",
   "source": [
    "The benefit for low earners is also constrained by its interaction with means tested benefits. Since Universal Credit phases out with respect to post-tax income, any tax reduction also reduces Universal Credit payments. As [explained](https://www.politics.co.uk/opinion-former/press-release/2018/10/29/personal-allowance-increase-does-little-for-those-on-lowest-income/) by Victoria Todd, Head of the Low Income Tax Reform Group, regarding the 2019 changes:\n",
    "\n",
    ">“[Universal credit recipients] will not see the full tax gain of £130 from the increase in the personal allowance; instead, they will only gain overall by £48.10, as their Universal Credit award will be reduced by £81.90. However, those earning above £11,850 who receive tax credits will benefit from the full £130 because tax credits are based on gross income.”\n",
    "\n",
    "Similarly, the [Resolution Foundation](https://www.resolutionfoundation.org/app/uploads/2014/12/Missing-the-target1.pdf) found that the Liberal Democrats’ plan to increase the personal allowance from £10,600 in 2015 to £12,500 by 2020 gave only around £18 of additional annual income to the bottom 10% of households and £203 to the top 10%."
   ],
   "metadata": {}
  },
  {
   "cell_type": "markdown",
   "source": [
    "### Replacing the personal allowance with UBI\n",
    "\n",
    "While the personal allowance is only slightly progressive by itself, using revenue from repealing the personal allowance to fund a UBI is highly progressive. Fully repealing the Personal Allowance could fund a weekly UBI of £29 per person, and this lowers the Gini index from 0.386 to 0.369.\n",
    "\n",
    "Each £2,000 decrease in the personal allowance could fund an increase in the UBI amount of around £110 annually, or just over £2 a week."
   ],
   "metadata": {}
  },
  {
   "cell_type": "code",
   "execution_count": 44,
   "source": [
    "#UBI amount at different levels of PA (graph + calc)\n",
    "\n",
    "def find_ubi_amount(PA_amount):\n",
    "    \n",
    "    def update_PA_parameter(parameters):\n",
    "        parameters.tax.income_tax.allowances.personal_allowance.amount.update(period=periods.period(\"year:2020:1\"), value=PA_amount)\n",
    "        return parameters\n",
    "    \n",
    "    class reform(Reform):\n",
    "        def apply(self):\n",
    "            self.modify_parameters(update_PA_parameter)\n",
    "    \n",
    "    sim_less_PA = Microsimulation(reform, year=2020)\n",
    "    revenue = sim.calc(\"net_income\").sum()\n",
    "    revenue_diff = revenue - sim_less_PA.calc(\"net_income\").sum()\n",
    "    BI_amount = (revenue_diff/(sim.calc(\"people\").sum()))/52\n",
    "    \n",
    "    return BI_amount.round()\n",
    "\n",
    "UBI_amounts = [find_ubi_amount(i) for i in (PA_amounts)]\n",
    "\n",
    "\n",
    "PA_text = [\"12500\", \"11500\", \"10500\", \"9500\", \"8500\", \"7500\", \"6500\", \"5500\", \"4500\", \"3500\", \"2500\", \"1500\", \"500\", \"0\"]\n",
    "chart = format_fig(px.line(x=PA_text, y=UBI_amounts, labels={\"x\": \"Personal allowance amount\", \"y\":\"UBI amount\"}).update_layout(\n",
    "    title_text='Amount of UBI at different levels of personal allowance reduction',\n",
    "    xaxis_title =\"Amount of personal allowance (£)\",\n",
    "    yaxis_title =\"UBI (£)\",\n",
    ").update_yaxes(range=[-0.1, 30]).add_hline(y=0, line_dash=\"dash\", line_color=\"#BDBDBD\").add_vline(x=0, line_dash=\"dash\", line_color=\"#BDBDBD\"))\n"
   ],
   "outputs": [],
   "metadata": {}
  },
  {
   "cell_type": "markdown",
   "source": [
    "This policy would, in general, serve as an income transfer from the richest 40% to the poorest 60%. You can adjust the personal allowance amount with the slider to see how partial personal allowance replacements fare: with further cuts to the personal allowance and higher universal basic incomes, reforms achieve stronger redistributive effects.\n"
   ],
   "metadata": {}
  },
  {
   "cell_type": "code",
   "execution_count": 37,
   "source": [
    "def decile_diff_ag(sim_BI):\n",
    "    gains_by_decile = []\n",
    "    x2 = sim_BI.calc(\"household_net_income\") - sim.calc(\"household_net_income\")\n",
    "    for n in range(1, 11):\n",
    "        values = x2[income.decile_rank() == n]\n",
    "        mean = values.sum()/values.count()\n",
    "        gains_by_decile.append(mean.round())\n",
    "    return gains_by_decile"
   ],
   "outputs": [],
   "metadata": {}
  },
  {
   "cell_type": "code",
   "execution_count": 38,
   "source": [
    "#Decile impact \n",
    "df_list = []\n",
    "sim_num = 0\n",
    "deciles = [0, 1, 2, 3, 4, 5, 6, 7, 8, 9, 10]\n",
    "for i in PA_amounts2:\n",
    "    df = pd.DataFrame({\"decile\": deciles[1:], \"Change in income\": decile_diff_ag(sim_list[sim_num]), \"PA amount\": i})\n",
    "    df_list.append(df)\n",
    "    sim_num += 1\n",
    "    \n",
    "final_df = pd.concat(df_list)\n",
    "format_fig(px.bar(final_df, x=\"decile\", y=\"Change in income\", animation_frame=\"PA amount\", range_y=[-2500,2500],\n",
    "                 hover_data={\"PA amount\": False, \"decile\": False}).update_layout(\n",
    "    title_text='Effect of replacing personal allowance with UBI on net income by decile',\n",
    "    xaxis_title =\"Equivalized household net income decile\",\n",
    "    yaxis_title =\"Change in household net income\",\n",
    "    showlegend= False,\n",
    "    yaxis_tickprefix=\"£\",\n",
    ").update_traces(marker_color='#1976D2'))"
   ],
   "outputs": [],
   "metadata": {}
  },
  {
   "cell_type": "markdown",
   "source": [
    "For the three lowest deciles, this would mean an annual household income increase of 24%, 11%, and 7% respectively. In contrast, the income reductions for the highest deciles don’t exceed 3%.\n"
   ],
   "metadata": {}
  },
  {
   "cell_type": "code",
   "execution_count": 46,
   "source": [
    "#Percentage version\n",
    "def decile_diff_ag_percent(sim_BI):\n",
    "    for n in range(1, 11):\n",
    "        total = sim.calc(\"household_net_income\")[income.decile_rank()==n].sum()\n",
    "        return ((decile_diff_ag(sim_BI)/income.groupby(income.decile_rank()).mean()) * 100).round()\n",
    "    \n",
    "df_list = []\n",
    "sim_num = 0\n",
    "for i in PA_amounts2:\n",
    "    df = pd.DataFrame({\"decile\": deciles[1:], \"Change in income\": decile_diff_ag_percent(sim_list[sim_num]), \"PA amount\": i})\n",
    "    df_list.append(df)\n",
    "    sim_num += 1\n",
    "    \n",
    "final_df = pd.concat(df_list)\n",
    "format_fig(px.bar(final_df, x=\"decile\", y=\"Change in income\", animation_frame=\"PA amount\", range_y=[-4,25],\n",
    "                 hover_data={\"PA amount\": False, \"decile\": False}).update_layout(\n",
    "    title_text='Effect of replacing personal allowance with UBI on net income by decile',\n",
    "    xaxis_title =\"Equivalized household net income decile\",\n",
    "    yaxis_title =\"Percentage change in household net income\",\n",
    "    showlegend= False,\n",
    "    yaxis_ticksuffix=\"%\",\n",
    ").update_traces(marker_color='#1976D2'))"
   ],
   "outputs": [],
   "metadata": {}
  },
  {
   "cell_type": "markdown",
   "source": [
    "Additionally, each £1000 reduction in personal allowance buys a 0.0015 reduction in the Gini coefficient."
   ],
   "metadata": {}
  },
  {
   "cell_type": "code",
   "execution_count": 43,
   "source": [
    "#gini graph\n",
    "sim_num = 0\n",
    "ginis = []\n",
    "for i in PA_amounts2:\n",
    "    gini = sim_list[sim_num].calc(\"household_net_income\", map_to=\"person\").gini()\n",
    "    ginis.append(gini.round(4))\n",
    "    sim_num += 1\n",
    "ginis\n",
    "\n",
    "gini2 = pd.Series(ginis)\n",
    "chart1 = format_fig((px.line(x=PA_amounts2, y=gini2, labels={\"x\":\"Personal allowance\", \"y\":\"Gini coefficient\"}).update_layout(\n",
    "    title_text='Gini coefficient at different levels of personal allowance',\n",
    "    xaxis_title =\"Personal allowance\",\n",
    "    yaxis_title =\"Gini coefficient\",\n",
    "    showlegend= False,\n",
    ").update_yaxes(range=[0.3689, 0.3861]).add_hline(y=0.386, line_dash=\"dash\", line_color=\"#BDBDBD\").add_vline(x=0, line_dash=\"dash\", line_color=\"#BDBDBD\")).update_traces(marker_color='#1976D2'))\n",
    "chart1"
   ],
   "outputs": [],
   "metadata": {}
  },
  {
   "cell_type": "markdown",
   "source": [
    "Median household income would increase by about £525, and this number is over five times greater for those living in poverty. This is an income gain of 1.4% for the overall population, 21% for people in poverty, and 53% for people in deep poverty."
   ],
   "metadata": {}
  },
  {
   "cell_type": "code",
   "execution_count": 50,
   "source": [
    "#Median difference in household net income for different poverty groups \n",
    "isDeepPoor = sim.calc(\"in_deep_poverty_bhc\", map_to =\"person\")\n",
    "isPoor = sim.calc(\"in_poverty_bhc\", map_to = \"person\") & ~isDeepPoor\n",
    "df_list = []\n",
    "sim_num = 0\n",
    "poverty_types = [\"Deep poverty\", \"Poverty, not deep\", \"Overall\"]\n",
    "\n",
    "def find_DP(sim_BI):\n",
    "    effect = sim_BI.calc(\"household_net_income\", map_to=\"person\") - sim.calc(\"household_net_income\", map_to=\"person\")\n",
    "    return effect[isDeepPoor].median().round()\n",
    "\n",
    "def find_pov(sim_BI):\n",
    "    effect = sim_BI.calc(\"household_net_income\", map_to=\"person\") - sim.calc(\"household_net_income\", map_to=\"person\")\n",
    "    return effect[isPoor].median().round()\n",
    "\n",
    "def find_overall(sim_BI):\n",
    "    effect = sim_BI.calc(\"household_net_income\", map_to=\"person\") - sim.calc(\"household_net_income\", map_to=\"person\")\n",
    "    return sim_BI.calc(\"household_net_income\").median().round() - sim.calc(\"household_net_income\").median().round()\n",
    "\n",
    "for i in PA_amounts2:\n",
    "    changes = pd.Series([find_DP(sim_list[sim_num]), find_pov(sim_list[sim_num]), find_overall(sim_list[sim_num])])\n",
    "    df = pd.DataFrame({\"Poverty group\": poverty_types, \"Income gain\": changes, \"PA amount\": i})\n",
    "    df_list.append(df)\n",
    "    sim_num += 1\n",
    "\n",
    "\n",
    "final_df = pd.concat(df_list)\n",
    "final_df\n",
    "format_fig(px.bar(final_df, x=\"Poverty group\", y=\"Income gain\", animation_frame=\"PA amount\", range_y=[0,3500],\n",
    "                 hover_data={\"PA amount\": False, \"Poverty group\": False}).update_layout(\n",
    "    title_text='Change to net income from replacing personal allowance with UBI by poverty status',\n",
    "    xaxis_title =\"\",\n",
    "    yaxis_title =\"Median gain in household net income\",\n",
    "    yaxis_tickprefix=\"£\",\n",
    "    ).update_traces(marker_color='#1976D2'))\n"
   ],
   "outputs": [],
   "metadata": {}
  },
  {
   "cell_type": "markdown",
   "source": [
    "Part of the large gains for poor households owe to the fact that poor households tend to have more children, and therefore receive more UBI payments. Similarly, households in deep poverty tend to have fewer children than other poor households, which explains why the median gain is slightly lower for this group.\n"
   ],
   "metadata": {}
  },
  {
   "cell_type": "code",
   "execution_count": 12,
   "source": [
    "#Average children per household for each poverty group\n",
    "isDeepPoor = sim.calc(\"in_deep_poverty_bhc\")\n",
    "isPoor = sim.calc(\"in_poverty_bhc\") & ~isDeepPoor\n",
    "isNotPoor = ~isPoor & ~isDeepPoor\n",
    "\n",
    "poor_kids = sim.calc(\"num_children\", map_to=\"household\")[isPoor].mean()\n",
    "deep_poor_kids = sim.calc(\"num_children\", map_to=\"household\")[isDeepPoor].mean()\n",
    "not_poor_kids = sim.calc(\"num_children\", map_to=\"household\")[isNotPoor].mean()\n",
    "format_fig(px.bar(x=[\"Deep poverty\", \"In poverty, but not deep\", \"Not in poverty\"], y=[deep_poor_kids.round(2), poor_kids.round(2), not_poor_kids.round(2)],\n",
    "                 labels={\"y\":\"Average children\", \"x\": \"Household type\"}).update_layout(\n",
    "    title_text=\"Children per household by poverty status\",\n",
    "    yaxis_title=\"Average number of children\",\n",
    "    xaxis_title=\"\").update_traces(marker_color='#1976D2'))"
   ],
   "outputs": [],
   "metadata": {}
  },
  {
   "cell_type": "markdown",
   "source": [
    "Overall, since households with children receive more UBI payments, they are disproportionately benefited."
   ],
   "metadata": {}
  },
  {
   "cell_type": "code",
   "execution_count": 13,
   "source": [
    "#Mean income difference grouped by family type (scrollable)\n",
    "\n",
    "family_type = pd.Series([\"Couple without children\", \"Couple with children\", \"Single parent\", \"Single individual\"])\n",
    "df_list = []\n",
    "sim_num = 0\n",
    "def find_fam_diff(sim_BI): \n",
    "    person_income_diff = sim_BI.calc(\"net_income\") - sim.calc(\"net_income\")\n",
    "    family = sim.calc(\"family_type\", map_to = \"person\")\n",
    "    income_diff_by_family = person_income_diff.groupby(family).mean().reset_index(drop = True)\n",
    "    return income_diff_by_family.round()\n",
    "\n",
    "for i in PA_amounts2:\n",
    "    df = pd.DataFrame({\"Family type\": family_type, \"Income change\": find_fam_diff(sim_list[sim_num]), \"PA amount\": i})\n",
    "    df_list.append(df)\n",
    "    sim_num += 1\n",
    "\n",
    "final_df = pd.concat(df_list)\n",
    "final_df\n",
    "format_fig(px.bar(final_df, x=\"Family type\", y=\"Income change\", animation_frame=\"PA amount\", range_y=[-750,1100],\n",
    "                 hover_data={\"PA amount\": False, \"Family type\": False}).update_layout(\n",
    "    title_text='Average change in net income grouped by family type',\n",
    "    yaxis_title=\"Change in net income\",\n",
    "    xaxis_title=\"\",\n",
    "    yaxis_tickprefix=\"£\"\n",
    "    ).update_traces(marker_color='#1976D2'))"
   ],
   "outputs": [],
   "metadata": {}
  },
  {
   "cell_type": "markdown",
   "source": [
    "In fact, this policy would benefit children more than any other group, as children do not lose income to a personal allowance decrease, and exclusively gain from the UBI amount given to them. Child poverty would fall 50%, and deep child poverty by 72%. \n",
    "\n",
    "Overall poverty would fall by 29% and overall deep poverty would fall by 44%. In contrast, UBI funded through only partial reductions in the personal allowance would produce smaller poverty impacts than a full replacement. Each £2,000 of personal allowance reduced buys around a 5% decrease in poverty, meaning each £2,000 of personal allowance preserved decreases the poverty effect by 5 percentage points."
   ],
   "metadata": {}
  },
  {
   "cell_type": "code",
   "execution_count": 14,
   "source": [
    "#pov reducs at different levels of PA (calculations)\n",
    "def find_poverty_diff(sim_BI):\n",
    "    poverty_difference = sim.calc(\"in_poverty_bhc\", map_to=\"person\").sum() - sim_BI.calc(\"in_poverty_bhc\", map_to=\"person\").sum()\n",
    "    percentage_difference = (poverty_difference/sim.calc(\"in_poverty_bhc\", map_to=\"person\").sum()) * 100\n",
    "    return -percentage_difference\n",
    "\n",
    "PA_amounts = [12500, 11500, 10500, 9500, 8500, 7500, 6500, 5500, 4500, 3500, 2500, 1500, 500, 0]\n",
    "UBI_amounts_text=[\"UBI=0\", \"UBI=2\", \"UBI=4\", \"UBI=6\", \"UBI=8\", \"UBI=10\", \"UBI=12\", \"UBI=15\", \"UBI=17\", \"UBI=20\", \"UBI=22\", \"UBI=25\", \"UBI=27\",\n",
    "                 \"UBI=29\"]\n",
    "sim_num = 0\n",
    "pov_diffs = []\n",
    "for i in PA_amounts2:\n",
    "    diff = find_poverty_diff(sim_list[sim_num]).round()\n",
    "    pov_diffs.append(diff)\n",
    "    sim_num += 1\n",
    "\n",
    "df1 = pd.DataFrame({\"PA amounts\": pd.Series(PA_amounts2), \"Poverty difference\": pd.Series(pov_diffs), \"UBI amount\": pd.Series(UBI_amounts_text)})\n",
    "\n",
    "def find_deep_poverty_diff(sim_BI):\n",
    "    deep_poverty_difference = sim.calc(\"in_deep_poverty_bhc\", map_to=\"person\").sum() - sim_BI.calc(\"in_deep_poverty_bhc\", map_to=\"person\").sum()\n",
    "    percentage_difference = (deep_poverty_difference/sim.calc(\"in_deep_poverty_bhc\", map_to=\"person\").sum()) * 100\n",
    "    return -percentage_difference\n",
    "\n",
    "sim_num = 0\n",
    "deep_pov_diffs = []\n",
    "for i in PA_amounts2:\n",
    "    diff = find_deep_poverty_diff(sim_list[sim_num]).round()\n",
    "    deep_pov_diffs.append(diff)\n",
    "    sim_num += 1\n",
    "\n",
    "df2 = pd.DataFrame({\"PA amounts\": pd.Series(PA_amounts2), \"Deep poverty difference\": pd.Series(deep_pov_diffs), \"UBI amount\": pd.Series(UBI_amounts_text)})\n"
   ],
   "outputs": [],
   "metadata": {}
  },
  {
   "cell_type": "code",
   "execution_count": 15,
   "source": [
    "#pt2\n",
    "def find_child_pov(sim_BI):\n",
    "    poor_kids_before = sim.calc(\"in_poverty_bhc\", map_to=\"person\")[sim.calc(\"is_child\")].sum()\n",
    "    poor_kids_after = sim_BI.calc(\"in_poverty_bhc\", map_to=\"person\")[sim_BI.calc(\"is_child\")].sum()\n",
    "    child_pov_reduction = (((poor_kids_before - poor_kids_after)/poor_kids_before) * -100).round()\n",
    "    return child_pov_reduction\n",
    "\n",
    "sim_num = 0\n",
    "child_pov_diffs = []\n",
    "for i in PA_amounts2:\n",
    "    diff = find_child_pov(sim_list[sim_num]).round()\n",
    "    child_pov_diffs.append(diff)\n",
    "    sim_num += 1\n",
    "\n",
    "df3 = pd.DataFrame({\"PA amounts\": pd.Series(PA_amounts2), \"Child poverty difference\": pd.Series(child_pov_diffs), \"UBI amount\": pd.Series(UBI_amounts_text)})\n",
    "\n",
    "\n",
    "def find_adult_pov(sim_BI):\n",
    "    poor_adults_before = sim.calc(\"in_poverty_bhc\", map_to=\"person\")[sim.calc(\"is_adult\")].sum()\n",
    "    poor_adults_after = sim_BI.calc(\"in_poverty_bhc\", map_to=\"person\")[sim_BI.calc(\"is_adult\")].sum()\n",
    "    adult_pov_reduction = (((poor_adults_before - poor_adults_after)/poor_adults_before) * -100).round()\n",
    "    return adult_pov_reduction\n",
    "\n",
    "sim_num = 0\n",
    "adult_pov_diffs = []\n",
    "for i in PA_amounts2:\n",
    "    diff = find_adult_pov(sim_list[sim_num]).round()\n",
    "    adult_pov_diffs.append(diff)\n",
    "    sim_num += 1\n",
    "\n",
    "df4 = pd.DataFrame({\"PA amounts\": pd.Series(PA_amounts2), \"Adult poverty difference\": pd.Series(adult_pov_diffs), \"UBI amount\": pd.Series(UBI_amounts_text)})\n",
    "\n",
    "def find_child_deep_pov(sim_BI):\n",
    "    poor_kids_before = sim.calc(\"in_deep_poverty_bhc\", map_to=\"person\")[sim.calc(\"is_child\")].sum()\n",
    "    poor_kids_after = sim_BI.calc(\"in_deep_poverty_bhc\", map_to=\"person\")[sim_BI.calc(\"is_child\")].sum()\n",
    "    child_pov_reduction = (((poor_kids_before - poor_kids_after)/poor_kids_before) * -100).round()\n",
    "    return child_pov_reduction\n",
    "\n",
    "sim_num = 0\n",
    "child_deep_pov_diffs = []\n",
    "for i in PA_amounts2:\n",
    "    diff = find_child_deep_pov(sim_list[sim_num]).round()\n",
    "    child_deep_pov_diffs.append(diff)\n",
    "    sim_num += 1\n",
    "\n",
    "df5 = pd.DataFrame({\"PA amounts\": pd.Series(PA_amounts2), \"Child deep poverty difference\": pd.Series(child_deep_pov_diffs), \"UBI amount\": pd.Series(UBI_amounts_text)})\n",
    "\n",
    "def find_adult_deep_pov(sim_BI):\n",
    "    poor_adults_before = sim.calc(\"in_deep_poverty_bhc\", map_to=\"person\")[sim.calc(\"is_adult\")].sum()\n",
    "    poor_adults_after = sim_BI.calc(\"in_deep_poverty_bhc\", map_to=\"person\")[sim_BI.calc(\"is_adult\")].sum()\n",
    "    adult_pov_reduction = (((poor_adults_before - poor_adults_after)/poor_adults_before) * -100).round()\n",
    "    return adult_pov_reduction\n",
    "\n",
    "sim_num = 0\n",
    "adult_deep_pov_diffs = []\n",
    "for i in PA_amounts2:\n",
    "    diff = find_adult_deep_pov(sim_list[sim_num]).round()\n",
    "    adult_deep_pov_diffs.append(diff)\n",
    "    sim_num += 1\n",
    "\n",
    "df6 = pd.DataFrame({\"PA amounts\": pd.Series(PA_amounts2), \"Adult deep poverty difference\": pd.Series(adult_deep_pov_diffs), \"UBI amount\": pd.Series(UBI_amounts_text)})\n"
   ],
   "outputs": [],
   "metadata": {}
  },
  {
   "cell_type": "code",
   "execution_count": 16,
   "source": [
    "#pov rates at different levels of PA (graph)\n",
    "\n",
    "import plotly.graph_objects as go\n",
    "chart8 = format_fig(go.Figure(data=[\n",
    "    go.Scatter(name='Poverty', x=df1[\"PA amounts\"], y=df1[\"Poverty difference\"], hovertext=df1[\"UBI amount\"], marker_color='#49A6E2', mode='lines'),\n",
    "    go.Scatter(name='Deep poverty', x=df2[\"PA amounts\"], y=df2[\"Deep poverty difference\"], hovertext=df2[\"UBI amount\"], marker_color=\"#0F4AA1\", mode='lines'),\n",
    "    go.Scatter(name='Child poverty', x=df3[\"PA amounts\"], y=df3[\"Child poverty difference\"], hovertext=df3[\"UBI amount\"], mode='lines'),\n",
    "    go.Scatter(name='Adult poverty', x=df4[\"PA amounts\"], y=df4[\"Adult poverty difference\"], hovertext=df4[\"UBI amount\"], mode='lines'),\n",
    "    go.Scatter(name='Child deep poverty', x=df5[\"PA amounts\"], y=df5[\"Child deep poverty difference\"], hovertext=df5[\"UBI amount\"], mode='lines'),\n",
    "    go.Scatter(name='Adult deep poverty', x=df6[\"PA amounts\"], y=df6[\"Adult deep poverty difference\"], hovertext=df6[\"UBI amount\"], mode='lines'),\n",
    "    \n",
    "    \n",
    "], layout_yaxis_range=[-75,0.15]).update_layout( \n",
    "    title_text='Poverty decreases at different levels of personal allowance', \n",
    "    xaxis_title =\"Personal allowance amount\",\n",
    "    yaxis_title =\"Decrease in poverty\",\n",
    "    yaxis_ticksuffix=\"%\").add_hline(y=0, line_dash=\"dash\", line_color=\"#BDBDBD\").add_vline(x=12500, line_dash=\"dash\", line_color=\"#BDBDBD\")\n",
    "                   )"
   ],
   "outputs": [],
   "metadata": {}
  },
  {
   "cell_type": "markdown",
   "source": [
    "On average, the policy would serve as a transfer from older adults to children. The average child under 18 would see their household net income rise by £2,622 under full replacement of the personal allowance with a UBI.  \n"
   ],
   "metadata": {}
  },
  {
   "cell_type": "code",
   "execution_count": 17,
   "source": [
    "#Mean difference in household income by age (calc)\n",
    "ages = []\n",
    "for i in range(81):\n",
    "    ages.append(i)\n",
    "ages = pd.Series(ages)\n",
    "\n",
    "def income_by_age(sim_BI):\n",
    "    gains_by_age = []\n",
    "    x1 = sim_BI.calc(\"household_net_income\", map_to=\"person\") - sim.calc(\"household_net_income\", map_to=\"person\")\n",
    "    for n in range(81):\n",
    "        values = x1[age.round() == n]\n",
    "        mean = values.sum()/values.count()\n",
    "        gains_by_age.append(mean)\n",
    "    return gains_by_age"
   ],
   "outputs": [],
   "metadata": {}
  },
  {
   "cell_type": "code",
   "execution_count": 18,
   "source": [
    "#Mean difference in household income by age (graph)\n",
    "df_list = []\n",
    "sim_num = 0\n",
    "age = sim.calc(\"age\", map_to =\"person\")\n",
    "for i in PA_amounts2:\n",
    "    df = pd.DataFrame({\"Age\": ages, \"Income change\": income_by_age(sim_list[sim_num]), \"PA amount\": i})\n",
    "    df_list.append(df)\n",
    "    sim_num += 1\n",
    "    \n",
    "final_df = pd.concat(df_list)\n",
    "final_df\n",
    "format_fig(px.bar(final_df, x=\"Age\", y=\"Income change\", animation_frame=\"PA amount\", range_y=[-1100,3100],\n",
    "                 hover_data={\"PA amount\": False}).update_layout(\n",
    "    title_text='Average change in household net income by age',\n",
    "    yaxis_title=\"Change in household net income\",\n",
    "    yaxis_tickprefix=\"£\",\n",
    "    xaxis_title=\"Age\",\n",
    "    showlegend= False,\n",
    "    ).update_traces(marker_color='#1976D2'))"
   ],
   "outputs": [],
   "metadata": {}
  },
  {
   "cell_type": "markdown",
   "source": [
    "#### Impacts for specific household types"
   ],
   "metadata": {}
  },
  {
   "cell_type": "markdown",
   "source": [
    "Overall, 52% of people come out ahead, most of them belonging to the bottom four deciles. 91% of the lowest decile, 73% of the second-lowest decile, and 62% of the third-lowest decile would see their incomes rise by over 5%. In contrast, most people who see their income decrease are in the upper deciles and lose less than 5%.\n"
   ],
   "metadata": {}
  },
  {
   "cell_type": "code",
   "execution_count": 19,
   "source": [
    "from openfisca_uk.api import graphs\n",
    "reform_names = PA_amounts2"
   ],
   "outputs": [],
   "metadata": {}
  },
  {
   "cell_type": "code",
   "execution_count": 20,
   "source": [
    "#Inter-decile graph\n",
    "reform_sims = reform_list\n",
    "baseline = sim\n",
    "sims = sim_list\n",
    "NAMES = (\n",
    "\"Gain more than 5%\",\n",
    "\"Gain less than 5%\",\n",
    "\"No change\",\n",
    "\"Lose less than 5%\",\n",
    "\"Lose more than 5%\"\n",
    ")\n",
    "\n",
    "def intra_decile_graph_data(baseline, *reform_sims):\n",
    "    AMOUNTS = PA_amounts2\n",
    "    l = []\n",
    "    for i, reform_sim in enumerate(reform_sims):\n",
    "        income = baseline.calc(\"equiv_household_net_income\", map_to=\"person\")\n",
    "        decile = income.decile_rank()\n",
    "        gain = reform_sim.calc(\"household_net_income\", map_to=\"person\") - baseline.calc(\"household_net_income\", map_to=\"person\")\n",
    "        rel_gain = (gain / baseline.calc(\"household_net_income\", map_to=\"person\")).dropna()\n",
    "        bands = (None, 0.05, 1e-3, -1e-3, -0.05, None)\n",
    "        for upper, lower, name in zip(bands[:-1], bands[1:], NAMES):\n",
    "            fractions = []\n",
    "            for j in range(1, 11):\n",
    "                subset = rel_gain[decile == j]\n",
    "                if lower is not None:\n",
    "                    subset = subset[rel_gain > lower]\n",
    "                if upper is not None:\n",
    "                    subset = subset[rel_gain <= upper]\n",
    "                fractions += [subset.count() / rel_gain[decile == j].count()]\n",
    "            tmp = pd.DataFrame({\"PA\": f\"£{AMOUNTS[i]}\", \"fraction\": fractions, \"decile\": list(range(1, 11)), \"Outcome\": name})\n",
    "            l.append(tmp)\n",
    "    return pd.concat(l).reset_index()\n",
    "\n",
    "intra = intra_decile_graph_data(baseline, *sims)\n",
    "\n",
    "GREY = \"#BDBDBD\"\n",
    "\n",
    "COLORS = (\"#616161\", GREY, \"#F5F5F5\", \"#C5E1A5\", \"#558B2F\",)[::-1]\n",
    "\n",
    "intra_graph = format_fig(\n",
    "    px.bar(\n",
    "        intra,\n",
    "        x=\"fraction\",\n",
    "        y=\"decile\",\n",
    "        orientation=\"h\",\n",
    "        color=\"Outcome\",\n",
    "        animation_frame=\"PA\",\n",
    "        color_discrete_sequence=COLORS,\n",
    "    ).update_layout(\n",
    "        yaxis_tickvals=list(range(1, 11)),\n",
    "        xaxis_tickformat=\"%\",\n",
    "        yaxis_title=\"Decile of household equivalized net income\",\n",
    "        xaxis_title=\"Share of people\",\n",
    "        title=\"How replacing the personal allowance with a UBI affects people within deciles\",\n",
    "    )\n",
    ")\n",
    "intra_graph"
   ],
   "outputs": [],
   "metadata": {}
  },
  {
   "cell_type": "markdown",
   "source": [
    "A single individual living alone would see their income rise when they make under £17,000 and over £117,000.\n"
   ],
   "metadata": {}
  },
  {
   "cell_type": "code",
   "execution_count": 22,
   "source": [
    "#Calc\n",
    "budget_single = graphs.budget_chart(reform_list, names=reform_names, variables=[\"household_net_income\", \"tax\", \"benefits\"])"
   ],
   "outputs": [],
   "metadata": {}
  },
  {
   "cell_type": "code",
   "execution_count": 47,
   "source": [
    "#Graph\n",
    "format_fig(budget_single.update_layout(\n",
    "    title_text='Effect of replacing the personal allowance with UBI on income for a single person'))"
   ],
   "outputs": [],
   "metadata": {}
  },
  {
   "cell_type": "markdown",
   "source": [
    "Additionally, the marginal tax rate would rise for single individuals earning lower incomes, and decrease for single individuals making between £100,000 and £125,140—the range in which the personal allowance phases out.\n"
   ],
   "metadata": {}
  },
  {
   "cell_type": "code",
   "execution_count": 24,
   "source": [
    "#Calc\n",
    "mtr_single = graphs.mtr_chart(reform_list, names=reform_names, variables=[\"household_net_income\", \"tax\", \"benefits\"])"
   ],
   "outputs": [],
   "metadata": {}
  },
  {
   "cell_type": "code",
   "execution_count": 25,
   "source": [
    "#Graph\n",
    "format_fig(mtr_single.update_layout(\n",
    "    title_text='Marginal tax rate for a single person when replacing the personal allowance with a UBI'))"
   ],
   "outputs": [],
   "metadata": {}
  },
  {
   "cell_type": "markdown",
   "source": [
    "In contrast, for a couple with two children, household net income always rises regardless of employment income.\n"
   ],
   "metadata": {}
  },
  {
   "cell_type": "code",
   "execution_count": 26,
   "source": [
    "def couple_two_children(sim):\n",
    "    sim.add_person(\n",
    "        name=\"adult\", age=26, is_household_head=True, is_benunit_head=True\n",
    "    )\n",
    "    sim.add_person(name=\"adult_2\", age=27)\n",
    "    sim.add_person(name=\"child\", age=4)\n",
    "    sim.add_person(name=\"child_2\", age=6)\n",
    "    sim.add_benunit(\n",
    "        adults=[\"adult\", \"adult_2\"],\n",
    "        children=[\"child\", \"child_2\"],\n",
    "        claims_UC=True,\n",
    "        claims_legacy_benefits=False,\n",
    "        claims_child_benefit=True,\n",
    "    )\n",
    "    sim.add_household(\n",
    "        adults=[\"adult\", \"adult_2\"], children=[\"child\", \"child_2\"]\n",
    "    )\n",
    "    return sim"
   ],
   "outputs": [],
   "metadata": {}
  },
  {
   "cell_type": "code",
   "execution_count": 27,
   "source": [
    "#Calc\n",
    "budget_two_kids = graphs.budget_chart(reform_list, names=reform_names, variables=[\"household_net_income\", \"tax\", \"benefits\", \"child_benefit\", \"universal_credit\"],\n",
    "                   situation_function=couple_two_children)"
   ],
   "outputs": [],
   "metadata": {}
  },
  {
   "cell_type": "code",
   "execution_count": 28,
   "source": [
    "#Graph\n",
    "format_fig(budget_two_kids.update_layout(\n",
    "    title_text='Effect of replacing the personal allowance with UBI on income for a couple with two kids'))"
   ],
   "outputs": [],
   "metadata": {}
  },
  {
   "cell_type": "markdown",
   "source": [
    "The effect on their marginal tax rate is similar to that of a single individual, but the rise for those earning lower incomes is less significant.\n"
   ],
   "metadata": {}
  },
  {
   "cell_type": "code",
   "execution_count": 29,
   "source": [
    "#Calc\n",
    "mtr_two_kids = graphs.mtr_chart(reform_list, names=reform_names, variables=[\"household_net_income\", \"tax\", \"benefits\"],\n",
    "                situation_function=couple_two_children)"
   ],
   "outputs": [],
   "metadata": {}
  },
  {
   "cell_type": "code",
   "execution_count": 30,
   "source": [
    "#Graph\n",
    "format_fig(mtr_two_kids.update_layout(\n",
    "    title_text='Marginal tax rate for a single person when replacing the personal allowance with a UBI'))"
   ],
   "outputs": [],
   "metadata": {}
  },
  {
   "cell_type": "markdown",
   "source": [
    "### Conclusion\n",
    "\n",
    "My research aligns with other analyses showing the progressivity of replacing the personal allowance with UBI. In 2019, the New Economics Foundation [modeled](https://neweconomics.org/2019/03/nothing-personal) replacing the personal allowance with a budget-neutral Weekly National Allowance paid to adults and an increase in the child benefit, making the payments non-taxable but included in means tests. They found progressive results, stating it would “[lift] 200,000 families out of poverty and shift the £8bn currently spent on tax allowances for the 35% highest income families to the remaining 65% of families”. Compass also [modeled](https://www.compassonline.org.uk/wp-content/uploads/2019/03/Compass_BasicIncomeForAll_2019.pdf) replacing the personal allowance with a budget-neutral flat payment of £25 a week for children and adults of working age, as well as a flat rate citizen’s pension of £164.35. They too found progressive results, with the Gini coefficient decreasing from 0.337 to 0.365. Most recently, [my colleagues found](https://www.ubicenter.org/progressive-adjustments-lib-dem-working-group) that the policy in the Liberal Democrats discussion paper could be made more progressive by repealing all, rather than part, of the personal allowance.\n",
    "\n",
    "Beyond these other papers, I've found that the impacts occur roughly linearly on the margin, meaning that the policy concept can operate incrementally. Furthermore, the policy disproportionately benefits children, and separate studies show that this will in turn improve educational and health outcomes. The impacts are largely but not uniformly beneficial to low income households, though losses are small.\n",
    "\n",
    "Given these findings, UBI proponents in the UK should take a serious look at whether keeping the personal allowance is worthwhile, provided the benefits of the UBI that could be funded through eliminating it."
   ],
   "metadata": {}
  }
 ],
 "metadata": {
  "kernelspec": {
   "display_name": "Python 3",
   "language": "python",
   "name": "python3"
  },
  "language_info": {
   "codemirror_mode": {
    "name": "ipython",
    "version": 3
   },
   "file_extension": ".py",
   "mimetype": "text/x-python",
   "name": "python",
   "nbconvert_exporter": "python",
   "pygments_lexer": "ipython3",
   "version": "3.7.10"
  }
 },
 "nbformat": 4,
 "nbformat_minor": 5
}